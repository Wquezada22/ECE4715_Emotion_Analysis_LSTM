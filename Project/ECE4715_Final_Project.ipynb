{
 "cells": [
  {
   "cell_type": "code",
   "execution_count": 1,
   "metadata": {
    "_cell_guid": "b1076dfc-b9ad-4769-8c92-a6c4dae69d19",
    "_uuid": "8f2839f25d086af736a60e9eeb907d3b93b6e0e5"
   },
   "outputs": [
    {
     "name": "stdout",
     "output_type": "stream",
     "text": [
      "Requirement already satisfied: tensorflow in c:\\users\\wille\\anaconda3\\lib\\site-packages (2.18.0)\n",
      "Requirement already satisfied: tensorflow-intel==2.18.0 in c:\\users\\wille\\anaconda3\\lib\\site-packages (from tensorflow) (2.18.0)\n",
      "Requirement already satisfied: absl-py>=1.0.0 in c:\\users\\wille\\anaconda3\\lib\\site-packages (from tensorflow-intel==2.18.0->tensorflow) (2.1.0)\n",
      "Requirement already satisfied: astunparse>=1.6.0 in c:\\users\\wille\\anaconda3\\lib\\site-packages (from tensorflow-intel==2.18.0->tensorflow) (1.6.3)\n",
      "Requirement already satisfied: flatbuffers>=24.3.25 in c:\\users\\wille\\anaconda3\\lib\\site-packages (from tensorflow-intel==2.18.0->tensorflow) (24.3.25)\n",
      "Requirement already satisfied: gast!=0.5.0,!=0.5.1,!=0.5.2,>=0.2.1 in c:\\users\\wille\\anaconda3\\lib\\site-packages (from tensorflow-intel==2.18.0->tensorflow) (0.6.0)\n",
      "Requirement already satisfied: google-pasta>=0.1.1 in c:\\users\\wille\\anaconda3\\lib\\site-packages (from tensorflow-intel==2.18.0->tensorflow) (0.2.0)\n",
      "Requirement already satisfied: libclang>=13.0.0 in c:\\users\\wille\\anaconda3\\lib\\site-packages (from tensorflow-intel==2.18.0->tensorflow) (18.1.1)\n",
      "Requirement already satisfied: opt-einsum>=2.3.2 in c:\\users\\wille\\anaconda3\\lib\\site-packages (from tensorflow-intel==2.18.0->tensorflow) (3.4.0)\n",
      "Requirement already satisfied: packaging in c:\\users\\wille\\anaconda3\\lib\\site-packages (from tensorflow-intel==2.18.0->tensorflow) (23.2)\n",
      "Requirement already satisfied: protobuf!=4.21.0,!=4.21.1,!=4.21.2,!=4.21.3,!=4.21.4,!=4.21.5,<6.0.0dev,>=3.20.3 in c:\\users\\wille\\anaconda3\\lib\\site-packages (from tensorflow-intel==2.18.0->tensorflow) (3.20.3)\n",
      "Requirement already satisfied: requests<3,>=2.21.0 in c:\\users\\wille\\anaconda3\\lib\\site-packages (from tensorflow-intel==2.18.0->tensorflow) (2.32.2)\n",
      "Requirement already satisfied: setuptools in c:\\users\\wille\\anaconda3\\lib\\site-packages (from tensorflow-intel==2.18.0->tensorflow) (69.5.1)\n",
      "Requirement already satisfied: six>=1.12.0 in c:\\users\\wille\\anaconda3\\lib\\site-packages (from tensorflow-intel==2.18.0->tensorflow) (1.16.0)\n",
      "Requirement already satisfied: termcolor>=1.1.0 in c:\\users\\wille\\anaconda3\\lib\\site-packages (from tensorflow-intel==2.18.0->tensorflow) (2.5.0)\n",
      "Requirement already satisfied: typing-extensions>=3.6.6 in c:\\users\\wille\\anaconda3\\lib\\site-packages (from tensorflow-intel==2.18.0->tensorflow) (4.11.0)\n",
      "Requirement already satisfied: wrapt>=1.11.0 in c:\\users\\wille\\anaconda3\\lib\\site-packages (from tensorflow-intel==2.18.0->tensorflow) (1.14.1)\n",
      "Requirement already satisfied: grpcio<2.0,>=1.24.3 in c:\\users\\wille\\anaconda3\\lib\\site-packages (from tensorflow-intel==2.18.0->tensorflow) (1.68.0)\n",
      "Requirement already satisfied: tensorboard<2.19,>=2.18 in c:\\users\\wille\\anaconda3\\lib\\site-packages (from tensorflow-intel==2.18.0->tensorflow) (2.18.0)\n",
      "Requirement already satisfied: keras>=3.5.0 in c:\\users\\wille\\anaconda3\\lib\\site-packages (from tensorflow-intel==2.18.0->tensorflow) (3.7.0)\n",
      "Requirement already satisfied: numpy<2.1.0,>=1.26.0 in c:\\users\\wille\\anaconda3\\lib\\site-packages (from tensorflow-intel==2.18.0->tensorflow) (1.26.4)\n",
      "Requirement already satisfied: h5py>=3.11.0 in c:\\users\\wille\\anaconda3\\lib\\site-packages (from tensorflow-intel==2.18.0->tensorflow) (3.11.0)\n",
      "Requirement already satisfied: ml-dtypes<0.5.0,>=0.4.0 in c:\\users\\wille\\anaconda3\\lib\\site-packages (from tensorflow-intel==2.18.0->tensorflow) (0.4.1)\n",
      "Requirement already satisfied: wheel<1.0,>=0.23.0 in c:\\users\\wille\\anaconda3\\lib\\site-packages (from astunparse>=1.6.0->tensorflow-intel==2.18.0->tensorflow) (0.43.0)\n",
      "Requirement already satisfied: rich in c:\\users\\wille\\anaconda3\\lib\\site-packages (from keras>=3.5.0->tensorflow-intel==2.18.0->tensorflow) (13.3.5)\n",
      "Requirement already satisfied: namex in c:\\users\\wille\\anaconda3\\lib\\site-packages (from keras>=3.5.0->tensorflow-intel==2.18.0->tensorflow) (0.0.8)\n",
      "Requirement already satisfied: optree in c:\\users\\wille\\anaconda3\\lib\\site-packages (from keras>=3.5.0->tensorflow-intel==2.18.0->tensorflow) (0.13.1)\n",
      "Requirement already satisfied: charset-normalizer<4,>=2 in c:\\users\\wille\\anaconda3\\lib\\site-packages (from requests<3,>=2.21.0->tensorflow-intel==2.18.0->tensorflow) (2.0.4)\n",
      "Requirement already satisfied: idna<4,>=2.5 in c:\\users\\wille\\anaconda3\\lib\\site-packages (from requests<3,>=2.21.0->tensorflow-intel==2.18.0->tensorflow) (3.7)\n",
      "Requirement already satisfied: urllib3<3,>=1.21.1 in c:\\users\\wille\\anaconda3\\lib\\site-packages (from requests<3,>=2.21.0->tensorflow-intel==2.18.0->tensorflow) (2.2.2)\n",
      "Requirement already satisfied: certifi>=2017.4.17 in c:\\users\\wille\\anaconda3\\lib\\site-packages (from requests<3,>=2.21.0->tensorflow-intel==2.18.0->tensorflow) (2024.7.4)\n",
      "Requirement already satisfied: markdown>=2.6.8 in c:\\users\\wille\\anaconda3\\lib\\site-packages (from tensorboard<2.19,>=2.18->tensorflow-intel==2.18.0->tensorflow) (3.4.1)\n",
      "Requirement already satisfied: tensorboard-data-server<0.8.0,>=0.7.0 in c:\\users\\wille\\anaconda3\\lib\\site-packages (from tensorboard<2.19,>=2.18->tensorflow-intel==2.18.0->tensorflow) (0.7.2)\n",
      "Requirement already satisfied: werkzeug>=1.0.1 in c:\\users\\wille\\anaconda3\\lib\\site-packages (from tensorboard<2.19,>=2.18->tensorflow-intel==2.18.0->tensorflow) (3.0.3)\n",
      "Requirement already satisfied: MarkupSafe>=2.1.1 in c:\\users\\wille\\anaconda3\\lib\\site-packages (from werkzeug>=1.0.1->tensorboard<2.19,>=2.18->tensorflow-intel==2.18.0->tensorflow) (2.1.3)\n",
      "Requirement already satisfied: markdown-it-py<3.0.0,>=2.2.0 in c:\\users\\wille\\anaconda3\\lib\\site-packages (from rich->keras>=3.5.0->tensorflow-intel==2.18.0->tensorflow) (2.2.0)\n",
      "Requirement already satisfied: pygments<3.0.0,>=2.13.0 in c:\\users\\wille\\anaconda3\\lib\\site-packages (from rich->keras>=3.5.0->tensorflow-intel==2.18.0->tensorflow) (2.15.1)\n",
      "Requirement already satisfied: mdurl~=0.1 in c:\\users\\wille\\anaconda3\\lib\\site-packages (from markdown-it-py<3.0.0,>=2.2.0->rich->keras>=3.5.0->tensorflow-intel==2.18.0->tensorflow) (0.1.0)\n"
     ]
    }
   ],
   "source": [
    "# This Python 3 environment comes with many helpful analytics libraries installed\n",
    "# It is defined by the kaggle/python Docker image: https://github.com/kaggle/docker-python\n",
    "# For example, here's several helpful packages to load\n",
    "\n",
    "import numpy as np # linear algebra\n",
    "import pandas as pd # data processing, CSV file I/O (e.g. pd.read_csv)\n",
    "!pip install tensorflow\n",
    "\n",
    "# Input data files are available in the read-only \"../input/\" directory\n",
    "# For example, running this (by clicking run or pressing Shift+Enter) will list all files under the input directory\n",
    "\n",
    "import os\n",
    "for dirname, _, filenames in os.walk('/kaggle/input'):\n",
    "    for filename in filenames:\n",
    "        print(os.path.join(dirname, filename))\n",
    "\n",
    "# You can write up to 20GB to the current directory (/kaggle/working/) that gets preserved as output when you create a version using \"Save & Run All\" \n",
    "# You can also write temporary files to /kaggle/temp/, but they won't be saved outside of the current session"
   ]
  },
  {
   "cell_type": "code",
   "execution_count": 2,
   "metadata": {},
   "outputs": [],
   "source": [
    "import re\n",
    "import nltk\n",
    "import string\n",
    "import numpy as np\n",
    "import pandas as pd\n",
    "import seaborn as sns\n",
    "import matplotlib.pyplot as plt\n",
    "from nltk.corpus import stopwords\n",
    "from sklearn.feature_extraction.text import TfidfVectorizer\n",
    "from nltk.stem import SnowballStemmer, WordNetLemmatizer\n",
    "from sklearn.preprocessing import LabelEncoder\n",
    "from sklearn.model_selection import train_test_split"
   ]
  },
  {
   "cell_type": "code",
   "execution_count": 3,
   "metadata": {},
   "outputs": [],
   "source": [
    "from tensorflow.keras.utils import to_categorical\n",
    "from tensorflow.keras.preprocessing.text import Tokenizer\n",
    "from tensorflow.keras.preprocessing.sequence import pad_sequences\n",
    "from tensorflow.keras.optimizers import Adam\n",
    "from tensorflow.keras.models import Sequential\n",
    "from tensorflow.keras.callbacks import EarlyStopping\n",
    "from tensorflow.keras.layers import Dense, LSTM, Embedding, Bidirectional"
   ]
  },
  {
   "cell_type": "code",
   "execution_count": 4,
   "metadata": {},
   "outputs": [
    {
     "name": "stderr",
     "output_type": "stream",
     "text": [
      "[nltk_data] Downloading package stopwords to\n",
      "[nltk_data]     C:\\Users\\wille\\AppData\\Roaming\\nltk_data...\n",
      "[nltk_data]   Package stopwords is already up-to-date!\n"
     ]
    }
   ],
   "source": [
    "import nltk\n",
    "nltk.download('stopwords')\n",
    "\n",
    "from nltk.corpus import stopwords\n",
    "stop_words = set(stopwords.words('english'))\n",
    "\n",
    "lemmatizer = WordNetLemmatizer()"
   ]
  },
  {
   "cell_type": "code",
   "execution_count": 5,
   "metadata": {},
   "outputs": [
    {
     "name": "stdout",
     "output_type": "stream",
     "text": [
      "Requirement already satisfied: lime in c:\\users\\wille\\anaconda3\\lib\\site-packages (0.2.0.1)\n",
      "Requirement already satisfied: matplotlib in c:\\users\\wille\\anaconda3\\lib\\site-packages (from lime) (3.8.4)\n",
      "Requirement already satisfied: numpy in c:\\users\\wille\\anaconda3\\lib\\site-packages (from lime) (1.26.4)\n",
      "Requirement already satisfied: scipy in c:\\users\\wille\\anaconda3\\lib\\site-packages (from lime) (1.13.1)\n",
      "Requirement already satisfied: tqdm in c:\\users\\wille\\anaconda3\\lib\\site-packages (from lime) (4.66.4)\n",
      "Requirement already satisfied: scikit-learn>=0.18 in c:\\users\\wille\\anaconda3\\lib\\site-packages (from lime) (1.4.2)\n",
      "Requirement already satisfied: scikit-image>=0.12 in c:\\users\\wille\\anaconda3\\lib\\site-packages (from lime) (0.23.2)\n",
      "Requirement already satisfied: networkx>=2.8 in c:\\users\\wille\\anaconda3\\lib\\site-packages (from scikit-image>=0.12->lime) (3.2.1)\n",
      "Requirement already satisfied: pillow>=9.1 in c:\\users\\wille\\anaconda3\\lib\\site-packages (from scikit-image>=0.12->lime) (10.3.0)\n",
      "Requirement already satisfied: imageio>=2.33 in c:\\users\\wille\\anaconda3\\lib\\site-packages (from scikit-image>=0.12->lime) (2.33.1)\n",
      "Requirement already satisfied: tifffile>=2022.8.12 in c:\\users\\wille\\anaconda3\\lib\\site-packages (from scikit-image>=0.12->lime) (2023.4.12)\n",
      "Requirement already satisfied: packaging>=21 in c:\\users\\wille\\anaconda3\\lib\\site-packages (from scikit-image>=0.12->lime) (23.2)\n",
      "Requirement already satisfied: lazy-loader>=0.4 in c:\\users\\wille\\anaconda3\\lib\\site-packages (from scikit-image>=0.12->lime) (0.4)\n",
      "Requirement already satisfied: joblib>=1.2.0 in c:\\users\\wille\\anaconda3\\lib\\site-packages (from scikit-learn>=0.18->lime) (1.4.2)\n",
      "Requirement already satisfied: threadpoolctl>=2.0.0 in c:\\users\\wille\\anaconda3\\lib\\site-packages (from scikit-learn>=0.18->lime) (2.2.0)\n",
      "Requirement already satisfied: contourpy>=1.0.1 in c:\\users\\wille\\anaconda3\\lib\\site-packages (from matplotlib->lime) (1.2.0)\n",
      "Requirement already satisfied: cycler>=0.10 in c:\\users\\wille\\anaconda3\\lib\\site-packages (from matplotlib->lime) (0.11.0)\n",
      "Requirement already satisfied: fonttools>=4.22.0 in c:\\users\\wille\\anaconda3\\lib\\site-packages (from matplotlib->lime) (4.51.0)\n",
      "Requirement already satisfied: kiwisolver>=1.3.1 in c:\\users\\wille\\anaconda3\\lib\\site-packages (from matplotlib->lime) (1.4.4)\n",
      "Requirement already satisfied: pyparsing>=2.3.1 in c:\\users\\wille\\anaconda3\\lib\\site-packages (from matplotlib->lime) (3.0.9)\n",
      "Requirement already satisfied: python-dateutil>=2.7 in c:\\users\\wille\\anaconda3\\lib\\site-packages (from matplotlib->lime) (2.9.0.post0)\n",
      "Requirement already satisfied: colorama in c:\\users\\wille\\anaconda3\\lib\\site-packages (from tqdm->lime) (0.4.6)\n",
      "Requirement already satisfied: six>=1.5 in c:\\users\\wille\\anaconda3\\lib\\site-packages (from python-dateutil>=2.7->matplotlib->lime) (1.16.0)\n"
     ]
    }
   ],
   "source": [
    "from sklearn.model_selection import train_test_split, KFold, GridSearchCV\n",
    "from sklearn.ensemble import RandomForestClassifier\n",
    "from sklearn.linear_model import LogisticRegression\n",
    "from sklearn.tree import DecisionTreeClassifier\n",
    "from sklearn.ensemble import RandomForestClassifier\n",
    "from sklearn.metrics import accuracy_score, confusion_matrix, classification_report\n",
    "from sklearn.pipeline import Pipeline\n",
    "from sklearn.metrics import f1_score\n",
    "from sklearn.svm import SVC\n",
    "!pip install lime\n"
   ]
  },
  {
   "cell_type": "code",
   "execution_count": 6,
   "metadata": {},
   "outputs": [
    {
     "name": "stderr",
     "output_type": "stream",
     "text": [
      "[nltk_data] Downloading package omw-1.4 to\n",
      "[nltk_data]     C:\\Users\\wille\\AppData\\Roaming\\nltk_data...\n",
      "[nltk_data]   Package omw-1.4 is already up-to-date!\n"
     ]
    },
    {
     "data": {
      "text/plain": [
       "True"
      ]
     },
     "execution_count": 6,
     "metadata": {},
     "output_type": "execute_result"
    }
   ],
   "source": [
    "from lime import lime_text\n",
    "from lime.lime_text import LimeTextExplainer, IndexedString, IndexedCharacters, explanation\n",
    "from lime.lime_base import LimeBase\n",
    "\n",
    "sns.set(font_scale=1.3)\n",
    "nltk.download('omw-1.4')\n"
   ]
  },
  {
   "cell_type": "code",
   "execution_count": 7,
   "metadata": {},
   "outputs": [],
   "source": [
    "df_train = pd.read_csv('C:/Users/wille/Downloads/emotions-dataset-for-nlp/train.txt', names=['Text', 'Emotion'], sep=';')\n",
    "df_val = pd.read_csv('C:/Users/wille/Downloads/emotions-dataset-for-nlp/val.txt', names=['Text', 'Emotion'], sep=';')\n",
    "df_test = pd.read_csv('C:/Users/wille/Downloads/emotions-dataset-for-nlp/test.txt', names=['Text', 'Emotion'], sep=';')"
   ]
  },
  {
   "cell_type": "code",
   "execution_count": 8,
   "metadata": {},
   "outputs": [
    {
     "data": {
      "text/html": [
       "<div>\n",
       "<style scoped>\n",
       "    .dataframe tbody tr th:only-of-type {\n",
       "        vertical-align: middle;\n",
       "    }\n",
       "\n",
       "    .dataframe tbody tr th {\n",
       "        vertical-align: top;\n",
       "    }\n",
       "\n",
       "    .dataframe thead th {\n",
       "        text-align: right;\n",
       "    }\n",
       "</style>\n",
       "<table border=\"1\" class=\"dataframe\">\n",
       "  <thead>\n",
       "    <tr style=\"text-align: right;\">\n",
       "      <th></th>\n",
       "      <th>Text</th>\n",
       "      <th>Emotion</th>\n",
       "    </tr>\n",
       "  </thead>\n",
       "  <tbody>\n",
       "    <tr>\n",
       "      <th>0</th>\n",
       "      <td>i didnt feel humiliated</td>\n",
       "      <td>sadness</td>\n",
       "    </tr>\n",
       "    <tr>\n",
       "      <th>1</th>\n",
       "      <td>i can go from feeling so hopeless to so damned...</td>\n",
       "      <td>sadness</td>\n",
       "    </tr>\n",
       "    <tr>\n",
       "      <th>2</th>\n",
       "      <td>im grabbing a minute to post i feel greedy wrong</td>\n",
       "      <td>anger</td>\n",
       "    </tr>\n",
       "    <tr>\n",
       "      <th>3</th>\n",
       "      <td>i am ever feeling nostalgic about the fireplac...</td>\n",
       "      <td>love</td>\n",
       "    </tr>\n",
       "    <tr>\n",
       "      <th>4</th>\n",
       "      <td>i am feeling grouchy</td>\n",
       "      <td>anger</td>\n",
       "    </tr>\n",
       "  </tbody>\n",
       "</table>\n",
       "</div>"
      ],
      "text/plain": [
       "                                                Text  Emotion\n",
       "0                            i didnt feel humiliated  sadness\n",
       "1  i can go from feeling so hopeless to so damned...  sadness\n",
       "2   im grabbing a minute to post i feel greedy wrong    anger\n",
       "3  i am ever feeling nostalgic about the fireplac...     love\n",
       "4                               i am feeling grouchy    anger"
      ]
     },
     "execution_count": 8,
     "metadata": {},
     "output_type": "execute_result"
    }
   ],
   "source": [
    "df_train.head()"
   ]
  },
  {
   "cell_type": "code",
   "execution_count": 9,
   "metadata": {},
   "outputs": [
    {
     "data": {
      "text/plain": [
       "Emotion\n",
       "joy         5362\n",
       "sadness     4666\n",
       "anger       2159\n",
       "fear        1937\n",
       "love        1304\n",
       "surprise     572\n",
       "Name: count, dtype: int64"
      ]
     },
     "execution_count": 9,
     "metadata": {},
     "output_type": "execute_result"
    }
   ],
   "source": [
    "df_train['Emotion'].value_counts()"
   ]
  },
  {
   "cell_type": "code",
   "execution_count": 10,
   "metadata": {},
   "outputs": [
    {
     "name": "stdout",
     "output_type": "stream",
     "text": [
      "(2000, 2)\n"
     ]
    },
    {
     "data": {
      "text/html": [
       "<div>\n",
       "<style scoped>\n",
       "    .dataframe tbody tr th:only-of-type {\n",
       "        vertical-align: middle;\n",
       "    }\n",
       "\n",
       "    .dataframe tbody tr th {\n",
       "        vertical-align: top;\n",
       "    }\n",
       "\n",
       "    .dataframe thead th {\n",
       "        text-align: right;\n",
       "    }\n",
       "</style>\n",
       "<table border=\"1\" class=\"dataframe\">\n",
       "  <thead>\n",
       "    <tr style=\"text-align: right;\">\n",
       "      <th></th>\n",
       "      <th>Text</th>\n",
       "      <th>Emotion</th>\n",
       "    </tr>\n",
       "  </thead>\n",
       "  <tbody>\n",
       "    <tr>\n",
       "      <th>0</th>\n",
       "      <td>im feeling rather rotten so im not very ambiti...</td>\n",
       "      <td>sadness</td>\n",
       "    </tr>\n",
       "    <tr>\n",
       "      <th>1</th>\n",
       "      <td>im updating my blog because i feel shitty</td>\n",
       "      <td>sadness</td>\n",
       "    </tr>\n",
       "    <tr>\n",
       "      <th>2</th>\n",
       "      <td>i never make her separate from me because i do...</td>\n",
       "      <td>sadness</td>\n",
       "    </tr>\n",
       "    <tr>\n",
       "      <th>3</th>\n",
       "      <td>i left with my bouquet of red and yellow tulip...</td>\n",
       "      <td>joy</td>\n",
       "    </tr>\n",
       "    <tr>\n",
       "      <th>4</th>\n",
       "      <td>i was feeling a little vain when i did this one</td>\n",
       "      <td>sadness</td>\n",
       "    </tr>\n",
       "  </tbody>\n",
       "</table>\n",
       "</div>"
      ],
      "text/plain": [
       "                                                Text  Emotion\n",
       "0  im feeling rather rotten so im not very ambiti...  sadness\n",
       "1          im updating my blog because i feel shitty  sadness\n",
       "2  i never make her separate from me because i do...  sadness\n",
       "3  i left with my bouquet of red and yellow tulip...      joy\n",
       "4    i was feeling a little vain when i did this one  sadness"
      ]
     },
     "execution_count": 10,
     "metadata": {},
     "output_type": "execute_result"
    }
   ],
   "source": [
    "print(df_test.shape)\n",
    "df_test.head()"
   ]
  },
  {
   "cell_type": "code",
   "execution_count": 11,
   "metadata": {},
   "outputs": [
    {
     "name": "stdout",
     "output_type": "stream",
     "text": [
      "(2000, 2)\n"
     ]
    },
    {
     "data": {
      "text/html": [
       "<div>\n",
       "<style scoped>\n",
       "    .dataframe tbody tr th:only-of-type {\n",
       "        vertical-align: middle;\n",
       "    }\n",
       "\n",
       "    .dataframe tbody tr th {\n",
       "        vertical-align: top;\n",
       "    }\n",
       "\n",
       "    .dataframe thead th {\n",
       "        text-align: right;\n",
       "    }\n",
       "</style>\n",
       "<table border=\"1\" class=\"dataframe\">\n",
       "  <thead>\n",
       "    <tr style=\"text-align: right;\">\n",
       "      <th></th>\n",
       "      <th>Text</th>\n",
       "      <th>Emotion</th>\n",
       "    </tr>\n",
       "  </thead>\n",
       "  <tbody>\n",
       "    <tr>\n",
       "      <th>0</th>\n",
       "      <td>im feeling quite sad and sorry for myself but ...</td>\n",
       "      <td>sadness</td>\n",
       "    </tr>\n",
       "    <tr>\n",
       "      <th>1</th>\n",
       "      <td>i feel like i am still looking at a blank canv...</td>\n",
       "      <td>sadness</td>\n",
       "    </tr>\n",
       "    <tr>\n",
       "      <th>2</th>\n",
       "      <td>i feel like a faithful servant</td>\n",
       "      <td>love</td>\n",
       "    </tr>\n",
       "    <tr>\n",
       "      <th>3</th>\n",
       "      <td>i am just feeling cranky and blue</td>\n",
       "      <td>anger</td>\n",
       "    </tr>\n",
       "    <tr>\n",
       "      <th>4</th>\n",
       "      <td>i can have for a treat or if i am feeling festive</td>\n",
       "      <td>joy</td>\n",
       "    </tr>\n",
       "  </tbody>\n",
       "</table>\n",
       "</div>"
      ],
      "text/plain": [
       "                                                Text  Emotion\n",
       "0  im feeling quite sad and sorry for myself but ...  sadness\n",
       "1  i feel like i am still looking at a blank canv...  sadness\n",
       "2                     i feel like a faithful servant     love\n",
       "3                  i am just feeling cranky and blue    anger\n",
       "4  i can have for a treat or if i am feeling festive      joy"
      ]
     },
     "execution_count": 11,
     "metadata": {},
     "output_type": "execute_result"
    }
   ],
   "source": [
    "print(df_val.shape)\n",
    "df_val.head()"
   ]
  },
  {
   "cell_type": "code",
   "execution_count": 12,
   "metadata": {},
   "outputs": [
    {
     "data": {
      "text/plain": [
       "Emotion\n",
       "joy         5362\n",
       "sadness     4666\n",
       "anger       2159\n",
       "fear        1937\n",
       "love        1304\n",
       "surprise     572\n",
       "Name: count, dtype: int64"
      ]
     },
     "execution_count": 12,
     "metadata": {},
     "output_type": "execute_result"
    }
   ],
   "source": [
    "df_train['Emotion'].value_counts()"
   ]
  },
  {
   "cell_type": "code",
   "execution_count": 13,
   "metadata": {},
   "outputs": [
    {
     "data": {
      "text/plain": [
       "Emotion\n",
       "joy         33.51250\n",
       "sadness     29.16250\n",
       "anger       13.49375\n",
       "fear        12.10625\n",
       "love         8.15000\n",
       "surprise     3.57500\n",
       "Name: count, dtype: float64"
      ]
     },
     "execution_count": 13,
     "metadata": {},
     "output_type": "execute_result"
    }
   ],
   "source": [
    "df_train['Emotion'].value_counts() / df_train.shape[0] * 100"
   ]
  },
  {
   "cell_type": "code",
   "execution_count": 14,
   "metadata": {},
   "outputs": [
    {
     "data": {
      "text/plain": [
       "<Axes: xlabel='Emotion', ylabel='count'>"
      ]
     },
     "execution_count": 14,
     "metadata": {},
     "output_type": "execute_result"
    },
    {
     "data": {
      "image/png": "[encoded data removed]",
      "text/plain": [
       "<Figure size 800x400 with 1 Axes>"
      ]
     },
     "metadata": {},
     "output_type": "display_data"
    }
   ],
   "source": [
    "plt.figure(figsize=(8, 4))\n",
    "sns.countplot(x='Emotion', data=df_train)"
   ]
  },
  {
   "cell_type": "code",
   "execution_count": 15,
   "metadata": {},
   "outputs": [
    {
     "data": {
      "text/plain": [
       "Text       0\n",
       "Emotion    0\n",
       "dtype: int64"
      ]
     },
     "execution_count": 15,
     "metadata": {},
     "output_type": "execute_result"
    }
   ],
   "source": [
    "df_train.isnull().sum()"
   ]
  },
  {
   "cell_type": "code",
   "execution_count": 16,
   "metadata": {},
   "outputs": [
    {
     "data": {
      "text/plain": [
       "1"
      ]
     },
     "execution_count": 16,
     "metadata": {},
     "output_type": "execute_result"
    }
   ],
   "source": [
    "df_train.duplicated().sum()"
   ]
  },
  {
   "cell_type": "code",
   "execution_count": 17,
   "metadata": {},
   "outputs": [],
   "source": [
    "index = df_train[df_train.duplicated() == True].index\n",
    "df_train.drop(index, axis=0, inplace=True)\n",
    "df_train.reset_index(inplace=True, drop=True)"
   ]
  },
  {
   "cell_type": "code",
   "execution_count": 18,
   "metadata": {},
   "outputs": [
    {
     "data": {
      "text/plain": [
       "Index([], dtype='int64')"
      ]
     },
     "execution_count": 18,
     "metadata": {},
     "output_type": "execute_result"
    }
   ],
   "source": [
    "df_train[df_train.duplicated() == True].index"
   ]
  },
  {
   "cell_type": "code",
   "execution_count": 19,
   "metadata": {},
   "outputs": [
    {
     "data": {
      "text/html": [
       "<div>\n",
       "<style scoped>\n",
       "    .dataframe tbody tr th:only-of-type {\n",
       "        vertical-align: middle;\n",
       "    }\n",
       "\n",
       "    .dataframe tbody tr th {\n",
       "        vertical-align: top;\n",
       "    }\n",
       "\n",
       "    .dataframe thead th {\n",
       "        text-align: right;\n",
       "    }\n",
       "</style>\n",
       "<table border=\"1\" class=\"dataframe\">\n",
       "  <thead>\n",
       "    <tr style=\"text-align: right;\">\n",
       "      <th></th>\n",
       "      <th>Text</th>\n",
       "      <th>Emotion</th>\n",
       "    </tr>\n",
       "  </thead>\n",
       "  <tbody>\n",
       "    <tr>\n",
       "      <th>5067</th>\n",
       "      <td>i feel on the verge of tears from weariness i ...</td>\n",
       "      <td>joy</td>\n",
       "    </tr>\n",
       "    <tr>\n",
       "      <th>6133</th>\n",
       "      <td>i still feel a craving for sweet food</td>\n",
       "      <td>love</td>\n",
       "    </tr>\n",
       "    <tr>\n",
       "      <th>6563</th>\n",
       "      <td>i tend to stop breathing when i m feeling stre...</td>\n",
       "      <td>anger</td>\n",
       "    </tr>\n",
       "    <tr>\n",
       "      <th>7623</th>\n",
       "      <td>i was intensely conscious of how much cash i h...</td>\n",
       "      <td>sadness</td>\n",
       "    </tr>\n",
       "    <tr>\n",
       "      <th>7685</th>\n",
       "      <td>im still not sure why reilly feels the need to...</td>\n",
       "      <td>surprise</td>\n",
       "    </tr>\n",
       "    <tr>\n",
       "      <th>8246</th>\n",
       "      <td>i am not amazing or great at photography but i...</td>\n",
       "      <td>love</td>\n",
       "    </tr>\n",
       "    <tr>\n",
       "      <th>9596</th>\n",
       "      <td>ive also made it with both sugar measurements ...</td>\n",
       "      <td>joy</td>\n",
       "    </tr>\n",
       "    <tr>\n",
       "      <th>9687</th>\n",
       "      <td>i had to choose the sleek and smoother feel of...</td>\n",
       "      <td>joy</td>\n",
       "    </tr>\n",
       "    <tr>\n",
       "      <th>9769</th>\n",
       "      <td>i often find myself feeling assaulted by a mul...</td>\n",
       "      <td>sadness</td>\n",
       "    </tr>\n",
       "    <tr>\n",
       "      <th>9786</th>\n",
       "      <td>i feel im being generous with that statement</td>\n",
       "      <td>joy</td>\n",
       "    </tr>\n",
       "    <tr>\n",
       "      <th>10117</th>\n",
       "      <td>i feel pretty tortured because i work a job an...</td>\n",
       "      <td>fear</td>\n",
       "    </tr>\n",
       "    <tr>\n",
       "      <th>10581</th>\n",
       "      <td>i feel most passionate about</td>\n",
       "      <td>joy</td>\n",
       "    </tr>\n",
       "    <tr>\n",
       "      <th>11273</th>\n",
       "      <td>i was so stubborn and that it took you getting...</td>\n",
       "      <td>joy</td>\n",
       "    </tr>\n",
       "    <tr>\n",
       "      <th>11354</th>\n",
       "      <td>i write these words i feel sweet baby kicks fr...</td>\n",
       "      <td>love</td>\n",
       "    </tr>\n",
       "    <tr>\n",
       "      <th>11525</th>\n",
       "      <td>i feel a remembrance of the strange by justin ...</td>\n",
       "      <td>fear</td>\n",
       "    </tr>\n",
       "    <tr>\n",
       "      <th>11823</th>\n",
       "      <td>i have chose for myself that makes me feel ama...</td>\n",
       "      <td>joy</td>\n",
       "    </tr>\n",
       "    <tr>\n",
       "      <th>12441</th>\n",
       "      <td>i still feel completely accepted</td>\n",
       "      <td>love</td>\n",
       "    </tr>\n",
       "    <tr>\n",
       "      <th>12562</th>\n",
       "      <td>i feel so weird about it</td>\n",
       "      <td>surprise</td>\n",
       "    </tr>\n",
       "    <tr>\n",
       "      <th>12892</th>\n",
       "      <td>i cant escape the tears of sadness and just tr...</td>\n",
       "      <td>joy</td>\n",
       "    </tr>\n",
       "    <tr>\n",
       "      <th>13236</th>\n",
       "      <td>i feel like a tortured artist when i talk to her</td>\n",
       "      <td>anger</td>\n",
       "    </tr>\n",
       "    <tr>\n",
       "      <th>13879</th>\n",
       "      <td>i feel like i am very passionate about youtube...</td>\n",
       "      <td>love</td>\n",
       "    </tr>\n",
       "    <tr>\n",
       "      <th>14106</th>\n",
       "      <td>i feel kind of strange</td>\n",
       "      <td>surprise</td>\n",
       "    </tr>\n",
       "    <tr>\n",
       "      <th>14313</th>\n",
       "      <td>i could feel myself hit this strange foggy wall</td>\n",
       "      <td>surprise</td>\n",
       "    </tr>\n",
       "    <tr>\n",
       "      <th>14633</th>\n",
       "      <td>i feel pretty weird blogging about deodorant b...</td>\n",
       "      <td>fear</td>\n",
       "    </tr>\n",
       "    <tr>\n",
       "      <th>14925</th>\n",
       "      <td>i resorted to yesterday the post peak day of i...</td>\n",
       "      <td>fear</td>\n",
       "    </tr>\n",
       "    <tr>\n",
       "      <th>15314</th>\n",
       "      <td>i will feel as though i am accepted by as well...</td>\n",
       "      <td>joy</td>\n",
       "    </tr>\n",
       "    <tr>\n",
       "      <th>15328</th>\n",
       "      <td>i shy away from songs that talk about how i fe...</td>\n",
       "      <td>joy</td>\n",
       "    </tr>\n",
       "    <tr>\n",
       "      <th>15571</th>\n",
       "      <td>i bet taylor swift basks in the knowledge that...</td>\n",
       "      <td>anger</td>\n",
       "    </tr>\n",
       "    <tr>\n",
       "      <th>15704</th>\n",
       "      <td>i began to feel accepted by gaia on her own terms</td>\n",
       "      <td>joy</td>\n",
       "    </tr>\n",
       "    <tr>\n",
       "      <th>15875</th>\n",
       "      <td>i was sitting in the corner stewing in my own ...</td>\n",
       "      <td>anger</td>\n",
       "    </tr>\n",
       "  </tbody>\n",
       "</table>\n",
       "</div>"
      ],
      "text/plain": [
       "                                                    Text   Emotion\n",
       "5067   i feel on the verge of tears from weariness i ...       joy\n",
       "6133               i still feel a craving for sweet food      love\n",
       "6563   i tend to stop breathing when i m feeling stre...     anger\n",
       "7623   i was intensely conscious of how much cash i h...   sadness\n",
       "7685   im still not sure why reilly feels the need to...  surprise\n",
       "8246   i am not amazing or great at photography but i...      love\n",
       "9596   ive also made it with both sugar measurements ...       joy\n",
       "9687   i had to choose the sleek and smoother feel of...       joy\n",
       "9769   i often find myself feeling assaulted by a mul...   sadness\n",
       "9786        i feel im being generous with that statement       joy\n",
       "10117  i feel pretty tortured because i work a job an...      fear\n",
       "10581                       i feel most passionate about       joy\n",
       "11273  i was so stubborn and that it took you getting...       joy\n",
       "11354  i write these words i feel sweet baby kicks fr...      love\n",
       "11525  i feel a remembrance of the strange by justin ...      fear\n",
       "11823  i have chose for myself that makes me feel ama...       joy\n",
       "12441                   i still feel completely accepted      love\n",
       "12562                           i feel so weird about it  surprise\n",
       "12892  i cant escape the tears of sadness and just tr...       joy\n",
       "13236   i feel like a tortured artist when i talk to her     anger\n",
       "13879  i feel like i am very passionate about youtube...      love\n",
       "14106                             i feel kind of strange  surprise\n",
       "14313    i could feel myself hit this strange foggy wall  surprise\n",
       "14633  i feel pretty weird blogging about deodorant b...      fear\n",
       "14925  i resorted to yesterday the post peak day of i...      fear\n",
       "15314  i will feel as though i am accepted by as well...       joy\n",
       "15328  i shy away from songs that talk about how i fe...       joy\n",
       "15571  i bet taylor swift basks in the knowledge that...     anger\n",
       "15704  i began to feel accepted by gaia on her own terms       joy\n",
       "15875  i was sitting in the corner stewing in my own ...     anger"
      ]
     },
     "execution_count": 19,
     "metadata": {},
     "output_type": "execute_result"
    }
   ],
   "source": [
    "df_train[df_train['Text'].duplicated() == True]"
   ]
  },
  {
   "cell_type": "code",
   "execution_count": 20,
   "metadata": {},
   "outputs": [
    {
     "data": {
      "text/html": [
       "<div>\n",
       "<style scoped>\n",
       "    .dataframe tbody tr th:only-of-type {\n",
       "        vertical-align: middle;\n",
       "    }\n",
       "\n",
       "    .dataframe tbody tr th {\n",
       "        vertical-align: top;\n",
       "    }\n",
       "\n",
       "    .dataframe thead th {\n",
       "        text-align: right;\n",
       "    }\n",
       "</style>\n",
       "<table border=\"1\" class=\"dataframe\">\n",
       "  <thead>\n",
       "    <tr style=\"text-align: right;\">\n",
       "      <th></th>\n",
       "      <th>Text</th>\n",
       "      <th>Emotion</th>\n",
       "    </tr>\n",
       "  </thead>\n",
       "  <tbody>\n",
       "    <tr>\n",
       "      <th>1625</th>\n",
       "      <td>i was intensely conscious of how much cash i h...</td>\n",
       "      <td>anger</td>\n",
       "    </tr>\n",
       "    <tr>\n",
       "      <th>7623</th>\n",
       "      <td>i was intensely conscious of how much cash i h...</td>\n",
       "      <td>sadness</td>\n",
       "    </tr>\n",
       "  </tbody>\n",
       "</table>\n",
       "</div>"
      ],
      "text/plain": [
       "                                                   Text  Emotion\n",
       "1625  i was intensely conscious of how much cash i h...    anger\n",
       "7623  i was intensely conscious of how much cash i h...  sadness"
      ]
     },
     "execution_count": 20,
     "metadata": {},
     "output_type": "execute_result"
    }
   ],
   "source": [
    "df_train[df_train['Text'] == df_train.iloc[7623]['Text']]"
   ]
  },
  {
   "cell_type": "code",
   "execution_count": 21,
   "metadata": {},
   "outputs": [],
   "source": [
    "index = df_train[df_train['Text'].duplicated() == True].index\n",
    "df_train.drop(index, axis=0, inplace=True)\n",
    "df_train.reset_index(inplace=True, drop=True)"
   ]
  },
  {
   "cell_type": "code",
   "execution_count": 22,
   "metadata": {},
   "outputs": [
    {
     "data": {
      "text/html": [
       "<div>\n",
       "<style scoped>\n",
       "    .dataframe tbody tr th:only-of-type {\n",
       "        vertical-align: middle;\n",
       "    }\n",
       "\n",
       "    .dataframe tbody tr th {\n",
       "        vertical-align: top;\n",
       "    }\n",
       "\n",
       "    .dataframe thead th {\n",
       "        text-align: right;\n",
       "    }\n",
       "</style>\n",
       "<table border=\"1\" class=\"dataframe\">\n",
       "  <thead>\n",
       "    <tr style=\"text-align: right;\">\n",
       "      <th></th>\n",
       "      <th>Text</th>\n",
       "      <th>Emotion</th>\n",
       "    </tr>\n",
       "  </thead>\n",
       "  <tbody>\n",
       "  </tbody>\n",
       "</table>\n",
       "</div>"
      ],
      "text/plain": [
       "Empty DataFrame\n",
       "Columns: [Text, Emotion]\n",
       "Index: []"
      ]
     },
     "execution_count": 22,
     "metadata": {},
     "output_type": "execute_result"
    }
   ],
   "source": [
    "df_train[df_train['Text'].duplicated() == True]"
   ]
  },
  {
   "cell_type": "code",
   "execution_count": 23,
   "metadata": {},
   "outputs": [
    {
     "data": {
      "text/plain": [
       "stop_words\n",
       "5     1416\n",
       "7     1405\n",
       "6     1392\n",
       "4     1341\n",
       "8     1319\n",
       "3     1263\n",
       "9     1177\n",
       "10    1048\n",
       "2      922\n",
       "11     889\n",
       "12     752\n",
       "13     644\n",
       "14     493\n",
       "1      450\n",
       "15     376\n",
       "16     265\n",
       "17     238\n",
       "18     164\n",
       "19     113\n",
       "20      90\n",
       "0       79\n",
       "21      60\n",
       "22      33\n",
       "23      19\n",
       "24       7\n",
       "25       6\n",
       "26       6\n",
       "28       1\n",
       "29       1\n",
       "Name: count, dtype: int64"
      ]
     },
     "execution_count": 23,
     "metadata": {},
     "output_type": "execute_result"
    }
   ],
   "source": [
    "temp = df_train.copy()\n",
    "stop_words = set(stopwords.words('english'))\n",
    "temp['stop_words'] = temp['Text'].apply(lambda x : len(set(x.split()) & set(stop_words)))\n",
    "temp['stop_words'].value_counts()"
   ]
  },
  {
   "cell_type": "code",
   "execution_count": 24,
   "metadata": {},
   "outputs": [
    {
     "data": {
      "text/plain": [
       "<Axes: ylabel='Frequency'>"
      ]
     },
     "execution_count": 24,
     "metadata": {},
     "output_type": "execute_result"
    },
    {
     "data": {
      "image/png": "[encoded data removed]",
      "text/plain": [
       "<Figure size 640x480 with 1 Axes>"
      ]
     },
     "metadata": {},
     "output_type": "display_data"
    }
   ],
   "source": [
    "temp['stop_words'].plot(kind='hist')"
   ]
  },
  {
   "cell_type": "code",
   "execution_count": 25,
   "metadata": {},
   "outputs": [
    {
     "data": {
      "text/plain": [
       "Emotion\n",
       "joy         695\n",
       "sadness     581\n",
       "anger       275\n",
       "fear        224\n",
       "love        159\n",
       "surprise     66\n",
       "Name: count, dtype: int64"
      ]
     },
     "execution_count": 25,
     "metadata": {},
     "output_type": "execute_result"
    }
   ],
   "source": [
    "df_test['Emotion'].value_counts()"
   ]
  },
  {
   "cell_type": "code",
   "execution_count": 26,
   "metadata": {},
   "outputs": [
    {
     "data": {
      "text/plain": [
       "<Axes: xlabel='Emotion', ylabel='count'>"
      ]
     },
     "execution_count": 26,
     "metadata": {},
     "output_type": "execute_result"
    },
    {
     "data": {
      "image/png": "[encoded data removed]",
      "text/plain": [
       "<Figure size 800x400 with 1 Axes>"
      ]
     },
     "metadata": {},
     "output_type": "display_data"
    }
   ],
   "source": [
    "plt.figure(figsize=(8, 4))\n",
    "sns.countplot(data=df_train, x='Emotion')"
   ]
  },
  {
   "cell_type": "code",
   "execution_count": 27,
   "metadata": {},
   "outputs": [
    {
     "data": {
      "text/plain": [
       "Text       0\n",
       "Emotion    0\n",
       "dtype: int64"
      ]
     },
     "execution_count": 27,
     "metadata": {},
     "output_type": "execute_result"
    }
   ],
   "source": [
    "df_test.isnull().sum()"
   ]
  },
  {
   "cell_type": "code",
   "execution_count": 28,
   "metadata": {},
   "outputs": [
    {
     "data": {
      "text/plain": [
       "0"
      ]
     },
     "execution_count": 28,
     "metadata": {},
     "output_type": "execute_result"
    }
   ],
   "source": [
    "df_test.duplicated().sum()"
   ]
  },
  {
   "cell_type": "code",
   "execution_count": 29,
   "metadata": {},
   "outputs": [
    {
     "data": {
      "text/plain": [
       "Index([], dtype='int64')"
      ]
     },
     "execution_count": 29,
     "metadata": {},
     "output_type": "execute_result"
    }
   ],
   "source": [
    "df_test[df_test['Text'].duplicated() == True].index"
   ]
  },
  {
   "cell_type": "code",
   "execution_count": 30,
   "metadata": {},
   "outputs": [
    {
     "data": {
      "text/plain": [
       "stop_words\n",
       "7     184\n",
       "6     179\n",
       "3     175\n",
       "5     175\n",
       "4     163\n",
       "9     163\n",
       "8     139\n",
       "10    123\n",
       "2     118\n",
       "11    115\n",
       "12     84\n",
       "13     71\n",
       "15     61\n",
       "14     58\n",
       "1      42\n",
       "16     40\n",
       "17     31\n",
       "18     22\n",
       "20     17\n",
       "19     11\n",
       "21     10\n",
       "0       8\n",
       "23      7\n",
       "24      2\n",
       "22      2\n",
       "Name: count, dtype: int64"
      ]
     },
     "execution_count": 30,
     "metadata": {},
     "output_type": "execute_result"
    }
   ],
   "source": [
    "temp = df_test.copy()\n",
    "temp['stop_words'] = temp['Text'].apply(lambda x : len(set(x.split()) & set(stop_words)))\n",
    "temp['stop_words'].value_counts()"
   ]
  },
  {
   "cell_type": "code",
   "execution_count": 31,
   "metadata": {},
   "outputs": [
    {
     "data": {
      "text/plain": [
       "<Axes: ylabel='Frequency'>"
      ]
     },
     "execution_count": 31,
     "metadata": {},
     "output_type": "execute_result"
    },
    {
     "data": {
      "image/png": "[encoded data removed]",
      "text/plain": [
       "<Figure size 640x480 with 1 Axes>"
      ]
     },
     "metadata": {},
     "output_type": "display_data"
    }
   ],
   "source": [
    "sns.set(font_scale=1.3)\n",
    "temp['stop_words'].plot(kind='hist')"
   ]
  },
  {
   "cell_type": "code",
   "execution_count": 32,
   "metadata": {},
   "outputs": [
    {
     "name": "stdout",
     "output_type": "stream",
     "text": [
      "Python 3.12.4\n"
     ]
    }
   ],
   "source": [
    "!python --version"
   ]
  },
  {
   "cell_type": "code",
   "execution_count": 33,
   "metadata": {},
   "outputs": [
    {
     "data": {
      "text/plain": [
       "Emotion\n",
       "joy         704\n",
       "sadness     550\n",
       "anger       275\n",
       "fear        212\n",
       "love        178\n",
       "surprise     81\n",
       "Name: count, dtype: int64"
      ]
     },
     "execution_count": 33,
     "metadata": {},
     "output_type": "execute_result"
    }
   ],
   "source": [
    "df_val['Emotion'].value_counts()"
   ]
  },
  {
   "cell_type": "code",
   "execution_count": 34,
   "metadata": {},
   "outputs": [
    {
     "data": {
      "text/plain": [
       "<Axes: xlabel='Emotion', ylabel='count'>"
      ]
     },
     "execution_count": 34,
     "metadata": {},
     "output_type": "execute_result"
    },
    {
     "data": {
      "image/png": "[encoded data removed]",
      "text/plain": [
       "<Figure size 800x400 with 1 Axes>"
      ]
     },
     "metadata": {},
     "output_type": "display_data"
    }
   ],
   "source": [
    "plt.figure(figsize=(8, 4))\n",
    "sns.countplot(data=df_val, x='Emotion')"
   ]
  },
  {
   "cell_type": "code",
   "execution_count": 35,
   "metadata": {},
   "outputs": [
    {
     "data": {
      "text/plain": [
       "Text       0\n",
       "Emotion    0\n",
       "dtype: int64"
      ]
     },
     "execution_count": 35,
     "metadata": {},
     "output_type": "execute_result"
    }
   ],
   "source": [
    "df_val.isnull().sum()"
   ]
  },
  {
   "cell_type": "code",
   "execution_count": 36,
   "metadata": {},
   "outputs": [
    {
     "data": {
      "text/plain": [
       "0"
      ]
     },
     "execution_count": 36,
     "metadata": {},
     "output_type": "execute_result"
    }
   ],
   "source": [
    "df_val.duplicated().sum()"
   ]
  },
  {
   "cell_type": "code",
   "execution_count": 37,
   "metadata": {},
   "outputs": [
    {
     "data": {
      "text/html": [
       "<div>\n",
       "<style scoped>\n",
       "    .dataframe tbody tr th:only-of-type {\n",
       "        vertical-align: middle;\n",
       "    }\n",
       "\n",
       "    .dataframe tbody tr th {\n",
       "        vertical-align: top;\n",
       "    }\n",
       "\n",
       "    .dataframe thead th {\n",
       "        text-align: right;\n",
       "    }\n",
       "</style>\n",
       "<table border=\"1\" class=\"dataframe\">\n",
       "  <thead>\n",
       "    <tr style=\"text-align: right;\">\n",
       "      <th></th>\n",
       "      <th>Text</th>\n",
       "      <th>Emotion</th>\n",
       "    </tr>\n",
       "  </thead>\n",
       "  <tbody>\n",
       "    <tr>\n",
       "      <th>603</th>\n",
       "      <td>i have had several new members tell me how com...</td>\n",
       "      <td>joy</td>\n",
       "    </tr>\n",
       "    <tr>\n",
       "      <th>1993</th>\n",
       "      <td>i feel so tortured by it</td>\n",
       "      <td>anger</td>\n",
       "    </tr>\n",
       "  </tbody>\n",
       "</table>\n",
       "</div>"
      ],
      "text/plain": [
       "                                                   Text Emotion\n",
       "603   i have had several new members tell me how com...     joy\n",
       "1993                           i feel so tortured by it   anger"
      ]
     },
     "execution_count": 37,
     "metadata": {},
     "output_type": "execute_result"
    }
   ],
   "source": [
    "df_val[df_val['Text'].duplicated() == True]"
   ]
  },
  {
   "cell_type": "code",
   "execution_count": 38,
   "metadata": {},
   "outputs": [
    {
     "data": {
      "text/html": [
       "<div>\n",
       "<style scoped>\n",
       "    .dataframe tbody tr th:only-of-type {\n",
       "        vertical-align: middle;\n",
       "    }\n",
       "\n",
       "    .dataframe tbody tr th {\n",
       "        vertical-align: top;\n",
       "    }\n",
       "\n",
       "    .dataframe thead th {\n",
       "        text-align: right;\n",
       "    }\n",
       "</style>\n",
       "<table border=\"1\" class=\"dataframe\">\n",
       "  <thead>\n",
       "    <tr style=\"text-align: right;\">\n",
       "      <th></th>\n",
       "      <th>Text</th>\n",
       "      <th>Emotion</th>\n",
       "    </tr>\n",
       "  </thead>\n",
       "  <tbody>\n",
       "    <tr>\n",
       "      <th>300</th>\n",
       "      <td>i have had several new members tell me how com...</td>\n",
       "      <td>love</td>\n",
       "    </tr>\n",
       "    <tr>\n",
       "      <th>603</th>\n",
       "      <td>i have had several new members tell me how com...</td>\n",
       "      <td>joy</td>\n",
       "    </tr>\n",
       "  </tbody>\n",
       "</table>\n",
       "</div>"
      ],
      "text/plain": [
       "                                                  Text Emotion\n",
       "300  i have had several new members tell me how com...    love\n",
       "603  i have had several new members tell me how com...     joy"
      ]
     },
     "execution_count": 38,
     "metadata": {},
     "output_type": "execute_result"
    }
   ],
   "source": [
    "df_val[df_val['Text'] == df_val.iloc[603]['Text']] "
   ]
  },
  {
   "cell_type": "code",
   "execution_count": 39,
   "metadata": {},
   "outputs": [
    {
     "data": {
      "text/html": [
       "<div>\n",
       "<style scoped>\n",
       "    .dataframe tbody tr th:only-of-type {\n",
       "        vertical-align: middle;\n",
       "    }\n",
       "\n",
       "    .dataframe tbody tr th {\n",
       "        vertical-align: top;\n",
       "    }\n",
       "\n",
       "    .dataframe thead th {\n",
       "        text-align: right;\n",
       "    }\n",
       "</style>\n",
       "<table border=\"1\" class=\"dataframe\">\n",
       "  <thead>\n",
       "    <tr style=\"text-align: right;\">\n",
       "      <th></th>\n",
       "      <th>Text</th>\n",
       "      <th>Emotion</th>\n",
       "    </tr>\n",
       "  </thead>\n",
       "  <tbody>\n",
       "    <tr>\n",
       "      <th>774</th>\n",
       "      <td>i feel so tortured by it</td>\n",
       "      <td>fear</td>\n",
       "    </tr>\n",
       "    <tr>\n",
       "      <th>1993</th>\n",
       "      <td>i feel so tortured by it</td>\n",
       "      <td>anger</td>\n",
       "    </tr>\n",
       "  </tbody>\n",
       "</table>\n",
       "</div>"
      ],
      "text/plain": [
       "                          Text Emotion\n",
       "774   i feel so tortured by it    fear\n",
       "1993  i feel so tortured by it   anger"
      ]
     },
     "execution_count": 39,
     "metadata": {},
     "output_type": "execute_result"
    }
   ],
   "source": [
    "df_val[df_val['Text'] == df_val.iloc[1993]['Text']] "
   ]
  },
  {
   "cell_type": "code",
   "execution_count": 40,
   "metadata": {},
   "outputs": [],
   "source": [
    "index = df_val[df_val['Text'].duplicated() == True].index\n",
    "df_val.drop(index, axis=0, inplace=True)\n",
    "df_val.reset_index(inplace=True, drop=True)"
   ]
  },
  {
   "cell_type": "code",
   "execution_count": 41,
   "metadata": {},
   "outputs": [
    {
     "data": {
      "text/html": [
       "<div>\n",
       "<style scoped>\n",
       "    .dataframe tbody tr th:only-of-type {\n",
       "        vertical-align: middle;\n",
       "    }\n",
       "\n",
       "    .dataframe tbody tr th {\n",
       "        vertical-align: top;\n",
       "    }\n",
       "\n",
       "    .dataframe thead th {\n",
       "        text-align: right;\n",
       "    }\n",
       "</style>\n",
       "<table border=\"1\" class=\"dataframe\">\n",
       "  <thead>\n",
       "    <tr style=\"text-align: right;\">\n",
       "      <th></th>\n",
       "      <th>Text</th>\n",
       "      <th>Emotion</th>\n",
       "    </tr>\n",
       "  </thead>\n",
       "  <tbody>\n",
       "  </tbody>\n",
       "</table>\n",
       "</div>"
      ],
      "text/plain": [
       "Empty DataFrame\n",
       "Columns: [Text, Emotion]\n",
       "Index: []"
      ]
     },
     "execution_count": 41,
     "metadata": {},
     "output_type": "execute_result"
    }
   ],
   "source": [
    "df_val[df_val['Text'].duplicated() == True]"
   ]
  },
  {
   "cell_type": "code",
   "execution_count": 42,
   "metadata": {},
   "outputs": [
    {
     "data": {
      "text/plain": [
       "stop_words\n",
       "7     190\n",
       "5     175\n",
       "8     173\n",
       "6     160\n",
       "3     160\n",
       "10    150\n",
       "9     146\n",
       "4     145\n",
       "2     133\n",
       "11    103\n",
       "12     76\n",
       "13     74\n",
       "1      64\n",
       "14     63\n",
       "15     44\n",
       "16     36\n",
       "17     31\n",
       "18     21\n",
       "19     16\n",
       "20     16\n",
       "0      11\n",
       "21      6\n",
       "22      3\n",
       "23      2\n",
       "Name: count, dtype: int64"
      ]
     },
     "execution_count": 42,
     "metadata": {},
     "output_type": "execute_result"
    }
   ],
   "source": [
    "temp = df_val.copy()\n",
    "temp['stop_words'] = temp['Text'].apply(lambda x : len(set(stop_words) & set(x.split())))\n",
    "temp['stop_words'].value_counts()"
   ]
  },
  {
   "cell_type": "code",
   "execution_count": 43,
   "metadata": {},
   "outputs": [
    {
     "data": {
      "text/plain": [
       "<Axes: ylabel='Frequency'>"
      ]
     },
     "execution_count": 43,
     "metadata": {},
     "output_type": "execute_result"
    },
    {
     "data": {
      "image/png": "[encoded data removed]",
      "text/plain": [
       "<Figure size 640x480 with 1 Axes>"
      ]
     },
     "metadata": {},
     "output_type": "display_data"
    }
   ],
   "source": [
    "sns.set(font_scale=1.3)\n",
    "temp['stop_words'].plot(kind='hist')"
   ]
  },
  {
   "cell_type": "code",
   "execution_count": 44,
   "metadata": {},
   "outputs": [],
   "source": [
    "def dataframe_difference(df1, df2, which=None):\n",
    "    comparision_df = df1.merge(\n",
    "        df2, \n",
    "        indicator=True,\n",
    "        how='outer'\n",
    "    )\n",
    "    \n",
    "    if which is None:\n",
    "        diff_df = comparision_df[comparision_df['_merge'] != 'both']\n",
    "    else:\n",
    "        diff_df = comparision_df[comparision_df['_merge'] == which]\n",
    "        \n",
    "    return diff_df"
   ]
  },
  {
   "cell_type": "code",
   "execution_count": 45,
   "metadata": {},
   "outputs": [
    {
     "data": {
      "text/html": [
       "<div>\n",
       "<style scoped>\n",
       "    .dataframe tbody tr th:only-of-type {\n",
       "        vertical-align: middle;\n",
       "    }\n",
       "\n",
       "    .dataframe tbody tr th {\n",
       "        vertical-align: top;\n",
       "    }\n",
       "\n",
       "    .dataframe thead th {\n",
       "        text-align: right;\n",
       "    }\n",
       "</style>\n",
       "<table border=\"1\" class=\"dataframe\">\n",
       "  <thead>\n",
       "    <tr style=\"text-align: right;\">\n",
       "      <th></th>\n",
       "      <th>Text</th>\n",
       "      <th>Emotion</th>\n",
       "      <th>_merge</th>\n",
       "    </tr>\n",
       "  </thead>\n",
       "  <tbody>\n",
       "  </tbody>\n",
       "</table>\n",
       "</div>"
      ],
      "text/plain": [
       "Empty DataFrame\n",
       "Columns: [Text, Emotion, _merge]\n",
       "Index: []"
      ]
     },
     "execution_count": 45,
     "metadata": {},
     "output_type": "execute_result"
    }
   ],
   "source": [
    "dataframe_difference(df_train, df_test, 'both')"
   ]
  },
  {
   "cell_type": "code",
   "execution_count": 46,
   "metadata": {},
   "outputs": [
    {
     "data": {
      "text/html": [
       "<div>\n",
       "<style scoped>\n",
       "    .dataframe tbody tr th:only-of-type {\n",
       "        vertical-align: middle;\n",
       "    }\n",
       "\n",
       "    .dataframe tbody tr th {\n",
       "        vertical-align: top;\n",
       "    }\n",
       "\n",
       "    .dataframe thead th {\n",
       "        text-align: right;\n",
       "    }\n",
       "</style>\n",
       "<table border=\"1\" class=\"dataframe\">\n",
       "  <thead>\n",
       "    <tr style=\"text-align: right;\">\n",
       "      <th></th>\n",
       "      <th>Text</th>\n",
       "      <th>Emotion</th>\n",
       "      <th>_merge</th>\n",
       "    </tr>\n",
       "  </thead>\n",
       "  <tbody>\n",
       "  </tbody>\n",
       "</table>\n",
       "</div>"
      ],
      "text/plain": [
       "Empty DataFrame\n",
       "Columns: [Text, Emotion, _merge]\n",
       "Index: []"
      ]
     },
     "execution_count": 46,
     "metadata": {},
     "output_type": "execute_result"
    }
   ],
   "source": [
    "dataframe_difference(df_train, df_val, which='both')"
   ]
  },
  {
   "cell_type": "code",
   "execution_count": 47,
   "metadata": {},
   "outputs": [
    {
     "data": {
      "text/html": [
       "<div>\n",
       "<style scoped>\n",
       "    .dataframe tbody tr th:only-of-type {\n",
       "        vertical-align: middle;\n",
       "    }\n",
       "\n",
       "    .dataframe tbody tr th {\n",
       "        vertical-align: top;\n",
       "    }\n",
       "\n",
       "    .dataframe thead th {\n",
       "        text-align: right;\n",
       "    }\n",
       "</style>\n",
       "<table border=\"1\" class=\"dataframe\">\n",
       "  <thead>\n",
       "    <tr style=\"text-align: right;\">\n",
       "      <th></th>\n",
       "      <th>Text</th>\n",
       "      <th>Emotion</th>\n",
       "      <th>_merge</th>\n",
       "    </tr>\n",
       "  </thead>\n",
       "  <tbody>\n",
       "  </tbody>\n",
       "</table>\n",
       "</div>"
      ],
      "text/plain": [
       "Empty DataFrame\n",
       "Columns: [Text, Emotion, _merge]\n",
       "Index: []"
      ]
     },
     "execution_count": 47,
     "metadata": {},
     "output_type": "execute_result"
    }
   ],
   "source": [
    "dataframe_difference(df_val, df_test, which='both')"
   ]
  },
  {
   "cell_type": "code",
   "execution_count": 48,
   "metadata": {},
   "outputs": [],
   "source": [
    "import re\n",
    "from nltk.stem import WordNetLemmatizer\n",
    "import numpy as np\n",
    "\n",
    "lemmatizer = WordNetLemmatizer()\n",
    "stop_words = set([\"the\", \"is\", \"and\", \"in\", \"to\", \"with\"])  # Add custom stop words here\n",
    "\n",
    "def lemmatization(text):\n",
    "    text = text.split()\n",
    "    text = [lemmatizer.lemmatize(y) for y in text]\n",
    "    return \" \".join(text)\n",
    "\n",
    "def remove_stop_words(text):\n",
    "    Text = [i for i in str(text).split() if i not in stop_words]\n",
    "    return \" \".join(Text)\n",
    "\n",
    "def Removing_numbers(text):\n",
    "    text = ''.join([i for i in text if not i.isdigit()])\n",
    "    return text\n",
    "\n",
    "def lower_case(text):\n",
    "    text = text.split()\n",
    "    text = [y.lower() for y in text]\n",
    "    return \" \".join(text)\n",
    "\n",
    "def Removing_punctuations(text):\n",
    "    # Define punctuations as a raw string\n",
    "    punctuations = r\"\"\"!\"#$%&'()*+,،-./:;<=>؟?@[\\]^_`{|}~\"\"\"\n",
    "    \n",
    "    # Use re.sub to remove these punctuations\n",
    "    text = re.sub(r'[{}]+'.format(re.escape(punctuations)), ' ', text)\n",
    "    \n",
    "    # Explicitly remove the Arabic semicolon\n",
    "    text = text.replace('؛', \"\")\n",
    "    \n",
    "    # Remove extra whitespace\n",
    "    text = re.sub(r'\\s+', ' ', text)\n",
    "    \n",
    "    return text.strip()\n",
    "\n",
    "\n",
    "def Removing_urls(text):\n",
    "    url_pattern = re.compile(r'https?://\\S+|www\\.\\S+')\n",
    "    return url_pattern.sub(r'', text)\n",
    "\n",
    "def remove_small_sentences(df):\n",
    "    for i in range(len(df)):\n",
    "        if len(df.text.iloc[i].split()) < 3:\n",
    "            df.text.iloc[i] = np.nan\n",
    "            \n",
    "def normalize_text(df):\n",
    "    df.Text = df.Text.apply(lambda text: lower_case(text))\n",
    "    df.Text = df.Text.apply(lambda text: remove_stop_words(text))\n",
    "    df.Text = df.Text.apply(lambda text: Removing_numbers(text))\n",
    "    df.Text = df.Text.apply(lambda text: Removing_punctuations(text))\n",
    "    df.Text = df.Text.apply(lambda text: Removing_urls(text))\n",
    "    df.Text = df.Text.apply(lambda text: lemmatization(text))\n",
    "    return df\n",
    "\n",
    "def normalized_sentence(sentence):\n",
    "    sentence = lower_case(sentence)\n",
    "    sentence = remove_stop_words(sentence)\n",
    "    sentence = Removing_numbers(sentence)\n",
    "    sentence = Removing_punctuations(sentence)\n",
    "    sentence = Removing_urls(sentence)\n",
    "    sentence = lemmatization(sentence)\n",
    "    return sentence\n"
   ]
  },
  {
   "cell_type": "code",
   "execution_count": 49,
   "metadata": {},
   "outputs": [
    {
     "name": "stderr",
     "output_type": "stream",
     "text": [
      "[nltk_data] Downloading package wordnet to\n",
      "[nltk_data]     C:\\Users\\wille\\AppData\\Roaming\\nltk_data...\n",
      "[nltk_data]   Package wordnet is already up-to-date!\n"
     ]
    },
    {
     "data": {
      "text/plain": [
       "True"
      ]
     },
     "execution_count": 49,
     "metadata": {},
     "output_type": "execute_result"
    }
   ],
   "source": [
    "import nltk\n",
    "nltk.download('wordnet')\n"
   ]
  },
  {
   "cell_type": "code",
   "execution_count": 50,
   "metadata": {},
   "outputs": [
    {
     "data": {
      "text/plain": [
       "'my name mohamed tweet play egypt'"
      ]
     },
     "execution_count": 50,
     "metadata": {},
     "output_type": "execute_result"
    }
   ],
   "source": [
    "normalized_sentence(\"My Name is Mohamed. @Tweets,  plays 2022  Egypt_\")"
   ]
  },
  {
   "cell_type": "code",
   "execution_count": 51,
   "metadata": {},
   "outputs": [],
   "source": [
    "df_train= normalize_text(df_train)\n",
    "df_test= normalize_text(df_test)\n",
    "df_val= normalize_text(df_val)\n"
   ]
  },
  {
   "cell_type": "code",
   "execution_count": 52,
   "metadata": {},
   "outputs": [
    {
     "data": {
      "text/html": [
       "<div>\n",
       "<style scoped>\n",
       "    .dataframe tbody tr th:only-of-type {\n",
       "        vertical-align: middle;\n",
       "    }\n",
       "\n",
       "    .dataframe tbody tr th {\n",
       "        vertical-align: top;\n",
       "    }\n",
       "\n",
       "    .dataframe thead th {\n",
       "        text-align: right;\n",
       "    }\n",
       "</style>\n",
       "<table border=\"1\" class=\"dataframe\">\n",
       "  <thead>\n",
       "    <tr style=\"text-align: right;\">\n",
       "      <th></th>\n",
       "      <th>Text</th>\n",
       "      <th>Emotion</th>\n",
       "    </tr>\n",
       "  </thead>\n",
       "  <tbody>\n",
       "    <tr>\n",
       "      <th>0</th>\n",
       "      <td>i didnt feel humiliated</td>\n",
       "      <td>sadness</td>\n",
       "    </tr>\n",
       "    <tr>\n",
       "      <th>1</th>\n",
       "      <td>i can go from feeling so hopeless so damned ho...</td>\n",
       "      <td>sadness</td>\n",
       "    </tr>\n",
       "    <tr>\n",
       "      <th>2</th>\n",
       "      <td>im grabbing a minute post i feel greedy wrong</td>\n",
       "      <td>anger</td>\n",
       "    </tr>\n",
       "    <tr>\n",
       "      <th>3</th>\n",
       "      <td>i am ever feeling nostalgic about fireplace i ...</td>\n",
       "      <td>love</td>\n",
       "    </tr>\n",
       "    <tr>\n",
       "      <th>4</th>\n",
       "      <td>i am feeling grouchy</td>\n",
       "      <td>anger</td>\n",
       "    </tr>\n",
       "  </tbody>\n",
       "</table>\n",
       "</div>"
      ],
      "text/plain": [
       "                                                Text  Emotion\n",
       "0                            i didnt feel humiliated  sadness\n",
       "1  i can go from feeling so hopeless so damned ho...  sadness\n",
       "2      im grabbing a minute post i feel greedy wrong    anger\n",
       "3  i am ever feeling nostalgic about fireplace i ...     love\n",
       "4                               i am feeling grouchy    anger"
      ]
     },
     "execution_count": 52,
     "metadata": {},
     "output_type": "execute_result"
    }
   ],
   "source": [
    "df_train.head()"
   ]
  },
  {
   "cell_type": "code",
   "execution_count": 53,
   "metadata": {},
   "outputs": [],
   "source": [
    "X_train = df_train['Text']\n",
    "y_train = df_train['Emotion']\n",
    "\n",
    "X_test = df_test['Text']\n",
    "y_test = df_test['Emotion']\n",
    "\n",
    "X_val = df_val['Text']\n",
    "y_val = df_val['Emotion']"
   ]
  },
  {
   "cell_type": "code",
   "execution_count": 54,
   "metadata": {},
   "outputs": [],
   "source": [
    "le = LabelEncoder()\n",
    "y_train = le.fit_transform(y_train)\n",
    "y_test = le.transform(y_test)\n",
    "y_val = le.transform(y_val)"
   ]
  },
  {
   "cell_type": "code",
   "execution_count": 55,
   "metadata": {},
   "outputs": [
    {
     "name": "stdout",
     "output_type": "stream",
     "text": [
      "{0, 1, 2, 3, 4, 5}\n"
     ]
    }
   ],
   "source": [
    "print(set(y_train))"
   ]
  },
  {
   "cell_type": "code",
   "execution_count": 56,
   "metadata": {},
   "outputs": [],
   "source": [
    "y_train = to_categorical(y_train)\n",
    "y_test = to_categorical(y_test)\n",
    "y_val = to_categorical(y_val)"
   ]
  },
  {
   "cell_type": "code",
   "execution_count": 57,
   "metadata": {},
   "outputs": [],
   "source": [
    "tokenizer = Tokenizer(oov_token='UNK')\n",
    "tokenizer.fit_on_texts(pd.concat([X_train, X_test], axis=0))"
   ]
  },
  {
   "cell_type": "code",
   "execution_count": 58,
   "metadata": {},
   "outputs": [
    {
     "data": {
      "text/plain": [
       "OrderedDict([('i', 29009),\n",
       "             ('didnt', 304),\n",
       "             ('feel', 12920),\n",
       "             ('humiliated', 59),\n",
       "             ('can', 1086),\n",
       "             ('go', 492),\n",
       "             ('from', 786),\n",
       "             ('feeling', 6139),\n",
       "             ('so', 2837),\n",
       "             ('hopeless', 68),\n",
       "             ('damned', 4),\n",
       "             ('hopeful', 67),\n",
       "             ('just', 1608),\n",
       "             ('being', 761),\n",
       "             ('around', 347),\n",
       "             ('someone', 295),\n",
       "             ('who', 668),\n",
       "             ('care', 132),\n",
       "             ('awake', 21),\n",
       "             ('im', 2736),\n",
       "             ('grabbing', 6),\n",
       "             ('a', 8710),\n",
       "             ('minute', 71),\n",
       "             ('post', 146),\n",
       "             ('greedy', 75),\n",
       "             ('wrong', 85),\n",
       "             ('am', 2331),\n",
       "             ('ever', 247),\n",
       "             ('nostalgic', 55),\n",
       "             ('about', 2015),\n",
       "             ('fireplace', 3),\n",
       "             ('will', 793),\n",
       "             ('know', 977),\n",
       "             ('that', 5718),\n",
       "             ('it', 4125),\n",
       "             ('still', 660),\n",
       "             ('on', 1727),\n",
       "             ('property', 4),\n",
       "             ('grouchy', 29),\n",
       "             ('ive', 659),\n",
       "             ('been', 958),\n",
       "             ('little', 831),\n",
       "             ('burdened', 67),\n",
       "             ('lately', 107),\n",
       "             ('wasnt', 107),\n",
       "             ('sure', 270),\n",
       "             ('why', 247),\n",
       "             ('wa', 2520),\n",
       "             ('taking', 102),\n",
       "             ('or', 1398),\n",
       "             ('milligram', 1),\n",
       "             ('time', 1090),\n",
       "             ('recommended', 1),\n",
       "             ('amount', 42),\n",
       "             ('fallen', 7),\n",
       "             ('asleep', 19),\n",
       "             ('lot', 301),\n",
       "             ('faster', 13),\n",
       "             ('but', 2521),\n",
       "             ('also', 381),\n",
       "             ('like', 3288),\n",
       "             ('funny', 76),\n",
       "             ('confused', 78),\n",
       "             ('life', 680),\n",
       "             ('teenager', 19),\n",
       "             ('jaded', 46),\n",
       "             ('year', 374),\n",
       "             ('old', 137),\n",
       "             ('man', 93),\n",
       "             ('have', 2526),\n",
       "             ('petronas', 2),\n",
       "             ('for', 2703),\n",
       "             ('ha', 462),\n",
       "             ('performed', 2),\n",
       "             ('well', 308),\n",
       "             ('made', 335),\n",
       "             ('huge', 32),\n",
       "             ('profit', 5),\n",
       "             ('romantic', 56),\n",
       "             ('too', 491),\n",
       "             ('make', 862),\n",
       "             ('suffering', 52),\n",
       "             ('m', 508),\n",
       "             ('seeing', 66),\n",
       "             ('mean', 156),\n",
       "             ('something', 568),\n",
       "             ('do', 1185),\n",
       "             ('running', 75),\n",
       "             ('divine', 68),\n",
       "             ('experience', 100),\n",
       "             ('expect', 33),\n",
       "             ('some', 692),\n",
       "             ('type', 50),\n",
       "             ('of', 5573),\n",
       "             ('spiritual', 12),\n",
       "             ('encounter', 7),\n",
       "             ('think', 677),\n",
       "             ('s', 537),\n",
       "             ('easiest', 2),\n",
       "             ('dissatisfied', 61),\n",
       "             ('low', 99),\n",
       "             ('energy', 77),\n",
       "             ('thirsty', 3),\n",
       "             ('immense', 3),\n",
       "             ('sympathy', 16),\n",
       "             ('general', 33),\n",
       "             ('point', 162),\n",
       "             ('possible', 46),\n",
       "             ('proto', 1),\n",
       "             ('writer', 31),\n",
       "             ('trying', 216),\n",
       "             ('find', 255),\n",
       "             ('write', 163),\n",
       "             ('corner', 16),\n",
       "             ('no', 511),\n",
       "             ('sign', 16),\n",
       "             ('an', 629),\n",
       "             ('agent', 4),\n",
       "             ('let', 209),\n",
       "             ('alone', 182),\n",
       "             ('publishing', 7),\n",
       "             ('contract', 5),\n",
       "             ('this', 2354),\n",
       "             ('precious', 68),\n",
       "             ('not', 2069),\n",
       "             ('reassured', 46),\n",
       "             ('anxiety', 32),\n",
       "             ('each', 137),\n",
       "             ('side', 80),\n",
       "             ('really', 1059),\n",
       "             ('embarrassed', 80),\n",
       "             ('pretty', 436),\n",
       "             ('pathetic', 62),\n",
       "             ('most', 312),\n",
       "             ('started', 206),\n",
       "             ('sentimental', 37),\n",
       "             ('doll', 7),\n",
       "             ('had', 799),\n",
       "             ('child', 186),\n",
       "             ('began', 64),\n",
       "             ('collection', 11),\n",
       "             ('vintage', 9),\n",
       "             ('barbie', 2),\n",
       "             ('sixty', 2),\n",
       "             ('now', 794),\n",
       "             ('compromised', 4),\n",
       "             ('skeptical', 39),\n",
       "             ('value', 24),\n",
       "             ('every', 282),\n",
       "             ('unit', 5),\n",
       "             ('work', 392),\n",
       "             ('put', 157),\n",
       "             ('irritated', 73),\n",
       "             ('rejected', 67),\n",
       "             ('without', 234),\n",
       "             ('anyone', 145),\n",
       "             ('doing', 284),\n",
       "             ('anything', 251),\n",
       "             ('saying', 93),\n",
       "             ('completely', 133),\n",
       "             ('overwhelmed', 158),\n",
       "             ('two', 166),\n",
       "             ('strategy', 8),\n",
       "             ('help', 316),\n",
       "             ('me', 2620),\n",
       "             ('grounded', 11),\n",
       "             ('pour', 7),\n",
       "             ('my', 4814),\n",
       "             ('heart', 184),\n",
       "             ('out', 924),\n",
       "             ('journal', 14),\n",
       "             ('form', 19),\n",
       "             ('letter', 27),\n",
       "             ('god', 172),\n",
       "             ('then', 366),\n",
       "             ('end', 174),\n",
       "             ('list', 57),\n",
       "             ('five', 30),\n",
       "             ('thing', 754),\n",
       "             ('grateful', 51),\n",
       "             ('she', 462),\n",
       "             ('amused', 37),\n",
       "             ('delighted', 37),\n",
       "             ('able', 198),\n",
       "             ('chai', 2),\n",
       "             ('lifeline', 2),\n",
       "             ('your', 394),\n",
       "             ('support', 66),\n",
       "             ('encouragement', 5),\n",
       "             ('great', 120),\n",
       "             ('glad', 105),\n",
       "             ('you', 1667),\n",
       "             ('were', 339),\n",
       "             ('already', 179),\n",
       "             ('fucked', 68),\n",
       "             ('up', 1049),\n",
       "             ('though', 320),\n",
       "             ('because', 1292),\n",
       "             ('dont', 539),\n",
       "             ('usually', 80),\n",
       "             ('eat', 73),\n",
       "             ('at', 1551),\n",
       "             ('all', 1314),\n",
       "             ('morning', 166),\n",
       "             ('love', 568),\n",
       "             ('wish', 107),\n",
       "             ('best', 116),\n",
       "             ('him', 635),\n",
       "             ('longer', 75),\n",
       "             ('tolerate', 5),\n",
       "             ('effect', 35),\n",
       "             ('bm', 1),\n",
       "             ('our', 314),\n",
       "             ('fact', 127),\n",
       "             ('turned', 21),\n",
       "             ('into', 431),\n",
       "             ('bitter', 61),\n",
       "             ('angry', 144),\n",
       "             ('person', 245),\n",
       "             ('always', 407),\n",
       "             ('particularly', 97),\n",
       "             ('kind', 248),\n",
       "             ('people', 763),\n",
       "             ('when', 1503),\n",
       "             ('he', 802),\n",
       "             ('stressed', 159),\n",
       "             ('inhibited', 31),\n",
       "             ('el', 10),\n",
       "             ('kitchen', 16),\n",
       "             ('painting', 16),\n",
       "             ('picture', 60),\n",
       "             ('become', 105),\n",
       "             ('defeated', 59),\n",
       "             ('kinda', 67),\n",
       "             ('appalled', 15),\n",
       "             ('need', 486),\n",
       "             ('explain', 36),\n",
       "             ('wide', 8),\n",
       "             ('lenghth', 1),\n",
       "             ('her', 701),\n",
       "             ('body', 140),\n",
       "             ('measure', 7),\n",
       "             ('etc', 51),\n",
       "             ('pp', 1),\n",
       "             ('more', 1265),\n",
       "             ('superior', 60),\n",
       "             ('dead', 24),\n",
       "             ('chicken', 9),\n",
       "             ('grieving', 4),\n",
       "             ('get', 881),\n",
       "             ('giddy', 5),\n",
       "             ('over', 389),\n",
       "             ('elegant', 26),\n",
       "             ('perfectly', 21),\n",
       "             ('fitted', 1),\n",
       "             ('pencil', 4),\n",
       "             ('skirt', 5),\n",
       "             ('remember', 212),\n",
       "             ('acutely', 3),\n",
       "             ('distressed', 36),\n",
       "             ('few', 221),\n",
       "             ('day', 762),\n",
       "             ('seen', 43),\n",
       "             ('heard', 37),\n",
       "             ('read', 174),\n",
       "             ('past', 121),\n",
       "             ('couple', 64),\n",
       "             ('left', 240),\n",
       "             ('impressed', 67),\n",
       "             ('by', 990),\n",
       "             ('than', 498),\n",
       "             ('company', 39),\n",
       "             ('climbed', 6),\n",
       "             ('hill', 10),\n",
       "             ('frustrated', 97),\n",
       "             ('id', 142),\n",
       "             ('much', 549),\n",
       "             ('paced', 2),\n",
       "             ('entirely', 28),\n",
       "             ('course', 58),\n",
       "             ('factor', 7),\n",
       "             ('never', 295),\n",
       "             ('hampered', 1),\n",
       "             ('such', 221),\n",
       "             ('dent', 2),\n",
       "             ('t', 1018),\n",
       "             ('imagine', 42),\n",
       "             ('real', 112),\n",
       "             ('scenario', 5),\n",
       "             ('where', 284),\n",
       "             ('would', 720),\n",
       "             ('be', 1996),\n",
       "             ('emotionally', 35),\n",
       "             ('connected', 8),\n",
       "             ('enough', 267),\n",
       "             ('totally', 105),\n",
       "             ('accepted', 130),\n",
       "             ('safe', 95),\n",
       "             ('morally', 6),\n",
       "             ('acceptable', 54),\n",
       "             ('close', 78),\n",
       "             ('prolonged', 3),\n",
       "             ('physical', 28),\n",
       "             ('contact', 20),\n",
       "             ('sex', 31),\n",
       "             ('won', 39),\n",
       "             ('expected', 28),\n",
       "             ('subsequently', 2),\n",
       "             ('what', 869),\n",
       "             ('content', 80),\n",
       "             ('if', 924),\n",
       "             ('creative', 80),\n",
       "             ('however', 67),\n",
       "             ('want', 755),\n",
       "             ('causing', 11),\n",
       "             ('le', 278),\n",
       "             ('splendid', 13),\n",
       "             ('self', 132),\n",
       "             ('step', 44),\n",
       "             ('away', 252),\n",
       "             ('them', 732),\n",
       "             ('bit', 584),\n",
       "             ('rude', 68),\n",
       "             ('writing', 128),\n",
       "             ('elderly', 3),\n",
       "             ('gentleman', 1),\n",
       "             ('ask', 73),\n",
       "             ('gift', 44),\n",
       "             ('christmas', 53),\n",
       "             ('mild', 7),\n",
       "             ('greed', 4),\n",
       "             ('protected', 9),\n",
       "             ('small', 69),\n",
       "             ('myself', 904),\n",
       "             ('season', 38),\n",
       "             ('word', 156),\n",
       "             ('plan', 65),\n",
       "             ('share', 103),\n",
       "             ('everyday', 35),\n",
       "             ('story', 115),\n",
       "             ('traveling', 8),\n",
       "             ('adventure', 17),\n",
       "             ('inspiration', 13),\n",
       "             ('handmade', 2),\n",
       "             ('creation', 7),\n",
       "             ('hope', 165),\n",
       "             ('inspired', 77),\n",
       "             ('tree', 34),\n",
       "             ('got', 309),\n",
       "             ('festive', 57),\n",
       "             ('which', 422),\n",
       "             ('spurring', 1),\n",
       "             ('book', 174),\n",
       "             ('worn', 10),\n",
       "             ('once', 140),\n",
       "             ('own', 231),\n",
       "             ('concealer', 1),\n",
       "             ('brave', 77),\n",
       "             ('pale', 5),\n",
       "             ('perfect', 101),\n",
       "             ('very', 988),\n",
       "             ('strongly', 39),\n",
       "             ('passionate', 129),\n",
       "             ('jerk', 4),\n",
       "             ('off', 243),\n",
       "             ('decides', 1),\n",
       "             ('poke', 4),\n",
       "             ('fun', 75),\n",
       "             ('u', 207),\n",
       "             ('discouraged', 68),\n",
       "             ('we', 576),\n",
       "             ('are', 992),\n",
       "             ('robbing', 1),\n",
       "             ('peter', 8),\n",
       "             ('pay', 34),\n",
       "             ('paul', 5),\n",
       "             ('cow', 5),\n",
       "             ('cant', 335),\n",
       "             ('afford', 5),\n",
       "             ('way', 595),\n",
       "             ('listless', 51),\n",
       "             ('new', 217),\n",
       "             ('different', 69),\n",
       "             ('lost', 143),\n",
       "             ('special', 94),\n",
       "             ('mind', 122),\n",
       "             ('don', 453),\n",
       "             ('worry', 38),\n",
       "             ('sane', 2),\n",
       "             ('wanted', 143),\n",
       "             ('felt', 301),\n",
       "             ('while', 219),\n",
       "             ('reading', 99),\n",
       "             ('how', 865),\n",
       "             ('many', 272),\n",
       "             ('said', 199),\n",
       "             ('sam', 8),\n",
       "             ('guarantee', 3),\n",
       "             ('used', 111),\n",
       "             ('paragraph', 2),\n",
       "             ('did', 352),\n",
       "             ('tell', 191),\n",
       "             ('sad', 144),\n",
       "             ('here', 318),\n",
       "             ('first', 204),\n",
       "             ('home', 251),\n",
       "             ('mine', 62),\n",
       "             ('boat', 9),\n",
       "             ('trip', 44),\n",
       "             ('denmark', 1),\n",
       "             ('stopped', 29),\n",
       "             ('cold', 122),\n",
       "             ('hot', 86),\n",
       "             ('dough', 1),\n",
       "             ('found', 113),\n",
       "             ('selfish', 74),\n",
       "             ('spoiled', 3),\n",
       "             ('stymied', 1),\n",
       "             ('wrote', 31),\n",
       "             ('unsure', 75),\n",
       "             ('might', 158),\n",
       "             ('somewhere', 28),\n",
       "             ('unintended', 1),\n",
       "             ('bag', 27),\n",
       "             ('qaf', 1),\n",
       "             ('look', 287),\n",
       "             ('cryin', 1),\n",
       "             ('jacynthe', 1),\n",
       "             ('lookin', 1),\n",
       "             ('good', 437),\n",
       "             ('feelin', 8),\n",
       "             ('gorgeous', 66),\n",
       "             ('rupaul', 1),\n",
       "             ('skin', 54),\n",
       "             ('scissor', 2),\n",
       "             ('sister', 39),\n",
       "             ('valentine', 3),\n",
       "             ('sun', 32),\n",
       "             ('fed', 6),\n",
       "             ('kayle', 1),\n",
       "             ('daddy', 6),\n",
       "             ('gerling', 1),\n",
       "             ('unkind', 11),\n",
       "             ('basically', 20),\n",
       "             ('fake', 57),\n",
       "             ('realm', 2),\n",
       "             ('science', 8),\n",
       "             ('fiction', 8),\n",
       "             ('hate', 161),\n",
       "             ('living', 84),\n",
       "             ('under', 54),\n",
       "             ('dad', 41),\n",
       "             ('roof', 5),\n",
       "             ('give', 188),\n",
       "             ('excuse', 13),\n",
       "             ('asshole', 3),\n",
       "             ('providing', 11),\n",
       "             ('live', 104),\n",
       "             ('unwelcome', 65),\n",
       "             ('ill', 170),\n",
       "             ('leave', 117),\n",
       "             ('keep', 202),\n",
       "             ('pleasantly', 10),\n",
       "             ('surprised', 73),\n",
       "             ('his', 420),\n",
       "             ('supportiveness', 1),\n",
       "             ('ease', 17),\n",
       "             ('situation', 100),\n",
       "             ('anymore', 84),\n",
       "             ('vigorous', 7),\n",
       "             ('sexual', 19),\n",
       "             ('activity', 21),\n",
       "             ('coming', 103),\n",
       "             ('yes', 43),\n",
       "             ('misspelt', 1),\n",
       "             ('cumming', 1),\n",
       "             ('part', 177),\n",
       "             ('begin', 50),\n",
       "             ('fall', 43),\n",
       "             ('mom', 81),\n",
       "             ('graceful', 16),\n",
       "             ('warm', 33),\n",
       "             ('loving', 104),\n",
       "             ('smile', 49),\n",
       "             ('rob', 1),\n",
       "             ('nurture', 2),\n",
       "             ('heal', 12),\n",
       "             ('they', 764),\n",
       "             ('talk', 144),\n",
       "             ('brother', 31),\n",
       "             ('law', 15),\n",
       "             ('extremely', 94),\n",
       "             ('popular', 75),\n",
       "             ('one', 734),\n",
       "             ('stiff', 4),\n",
       "             ('ate', 20),\n",
       "             ('could', 519),\n",
       "             ('gentle', 58),\n",
       "             ('tingle', 5),\n",
       "             ('throughout', 27),\n",
       "             ('almost', 135),\n",
       "             ('healing', 11),\n",
       "             ('place', 180),\n",
       "             ('cellular', 1),\n",
       "             ('level', 46),\n",
       "             ('pressured', 67),\n",
       "             ('young', 54),\n",
       "             ('beautiful', 65),\n",
       "             ('thin', 13),\n",
       "             ('depending', 8),\n",
       "             ('trend', 5),\n",
       "             ('having', 273),\n",
       "             ('girl', 168),\n",
       "             ('rejuvenated', 4),\n",
       "             ('butt', 10),\n",
       "             ('implant', 1),\n",
       "             ('several', 32),\n",
       "             ('week', 282),\n",
       "             ('tortured', 82),\n",
       "             ('hallucination', 1),\n",
       "             ('moving', 45),\n",
       "             ('figure', 33),\n",
       "             ('sound', 49),\n",
       "             ('vibration', 6),\n",
       "             ('nearly', 22),\n",
       "             ('finished', 37),\n",
       "             ('detox', 3),\n",
       "             ('amazing', 142),\n",
       "             ('back', 447),\n",
       "             ('former', 9),\n",
       "             ('asked', 69),\n",
       "             ('prayer', 16),\n",
       "             ('others', 177),\n",
       "             ('considered', 10),\n",
       "             ('there', 647),\n",
       "             ('may', 162),\n",
       "             ('deserve', 26),\n",
       "             ('their', 410),\n",
       "             ('answered', 7),\n",
       "             ('before', 234),\n",
       "             ('pain', 154),\n",
       "             ('parent', 79),\n",
       "             ('enraged', 12),\n",
       "             ('becomes', 20),\n",
       "             ('violent', 66),\n",
       "             ('roller', 3),\n",
       "             ('coaster', 3),\n",
       "             ('emotion', 72),\n",
       "             ('these', 402),\n",
       "             ('supposed', 53),\n",
       "             ('unpleasant', 37),\n",
       "             ('suppose', 44),\n",
       "             ('truth', 42),\n",
       "             ('shared', 18),\n",
       "             ('havent', 83),\n",
       "             ('faithful', 62),\n",
       "             ('dwelled', 1),\n",
       "             ('doubt', 32),\n",
       "             ('uncertainty', 7),\n",
       "             ('faith', 24),\n",
       "             ('bought', 23),\n",
       "             ('clearly', 15),\n",
       "             ('makeup', 13),\n",
       "             ('miserable', 88),\n",
       "             ('c', 16),\n",
       "             ('proudest', 1),\n",
       "             ('mum', 18),\n",
       "             ('earth', 24),\n",
       "             ('family', 213),\n",
       "             ('matter', 91),\n",
       "             ('else', 117),\n",
       "             ('michelle', 2),\n",
       "             ('ballistic', 2),\n",
       "             ('necessarily', 5),\n",
       "             ('f', 11),\n",
       "             ('bomb', 3),\n",
       "             ('necessary', 14),\n",
       "             ('see', 405),\n",
       "             ('print', 10),\n",
       "             ('ovary', 1),\n",
       "             ('aching', 68),\n",
       "             ('talking', 73),\n",
       "             ('didn', 148),\n",
       "             ('chris', 7),\n",
       "             ('mostly', 33),\n",
       "             ('took', 66),\n",
       "             ('unimportant', 56),\n",
       "             ('stuff', 95),\n",
       "             ('tired', 122),\n",
       "             ('ready', 60),\n",
       "             ('finding', 30),\n",
       "             ('given', 53),\n",
       "             ('unsuitable', 1),\n",
       "             ('image', 31),\n",
       "             ('blamed', 24),\n",
       "             ('result', 49),\n",
       "             ('sit', 73),\n",
       "             ('successfully', 2),\n",
       "             ('manage', 17),\n",
       "             ('stretch', 7),\n",
       "             ('mxm', 1),\n",
       "             ('canvas', 9),\n",
       "             ('achievement', 6),\n",
       "             ('itself', 26),\n",
       "             ('worthwhile', 54),\n",
       "             ('usage', 2),\n",
       "             ('money', 71),\n",
       "             ('use', 121),\n",
       "             ('future', 87),\n",
       "             ('brief', 4),\n",
       "             ('nay', 1),\n",
       "             ('important', 127),\n",
       "             ('honored', 65),\n",
       "             ('influence', 7),\n",
       "             ('talented', 80),\n",
       "             ('fully', 30),\n",
       "             ('alive', 20),\n",
       "             ('woman', 151),\n",
       "             ('angered', 15),\n",
       "             ('firey', 1),\n",
       "             ('piece', 58),\n",
       "             ('garbage', 5),\n",
       "             ('leanne', 1),\n",
       "             ('thought', 295),\n",
       "             ('miss', 79),\n",
       "             ('drove', 13),\n",
       "             ('dannika', 1),\n",
       "             ('school', 152),\n",
       "             ('rushed', 65),\n",
       "             ('greeted', 4),\n",
       "             ('hellip', 10),\n",
       "             ('furious', 19),\n",
       "             ('shooter', 1),\n",
       "             ('happy', 282),\n",
       "             ('excited', 140),\n",
       "             ('since', 168),\n",
       "             ('learned', 46),\n",
       "             ('show', 117),\n",
       "             ('horse', 13),\n",
       "             ('trusting', 53),\n",
       "             ('relaxed', 67),\n",
       "             ('quiet', 26),\n",
       "             ('handled', 7),\n",
       "             ('frequently', 7),\n",
       "             ('only', 384),\n",
       "             ('start', 189),\n",
       "             ('december', 5),\n",
       "             ('done', 140),\n",
       "             ('smug', 44),\n",
       "             ('realize', 60),\n",
       "             ('everything', 233),\n",
       "             ('ok', 107),\n",
       "             ('worthless', 61),\n",
       "             ('during', 94),\n",
       "             ('those', 296),\n",
       "             ('struggling', 26),\n",
       "             ('lay', 16),\n",
       "             ('bed', 90),\n",
       "             ('dark', 35),\n",
       "             ('terrified', 85),\n",
       "             ('least', 125),\n",
       "             ('meet', 45),\n",
       "             ('airport', 10),\n",
       "             ('supportive', 55),\n",
       "             ('arm', 57),\n",
       "             ('today', 377),\n",
       "             ('mood', 53),\n",
       "             ('strange', 154),\n",
       "             ('entire', 26),\n",
       "             ('guess', 142),\n",
       "             ('passed', 32),\n",
       "             ('after', 356),\n",
       "             ('involved', 24),\n",
       "             ('car', 52),\n",
       "             ('accident', 13),\n",
       "             ('bringing', 13),\n",
       "             ('present', 34),\n",
       "             ('exam', 27),\n",
       "             ('flying', 12),\n",
       "             ('colour', 12),\n",
       "             ('letting', 30),\n",
       "             ('animosity', 1),\n",
       "             ('towards', 111),\n",
       "             ('wronged', 57),\n",
       "             ('dog', 33),\n",
       "             ('cannot', 83),\n",
       "             ('understand', 125),\n",
       "             ('decided', 81),\n",
       "             ('should', 365),\n",
       "             ('throwing', 6),\n",
       "             ('shitty', 76),\n",
       "             ('shit', 42),\n",
       "             ('paper', 34),\n",
       "             ('starting', 109),\n",
       "             ('wryly', 1),\n",
       "             ('banal', 1),\n",
       "             ('comedy', 6),\n",
       "             ('error', 2),\n",
       "             ('turning', 24),\n",
       "             ('vital', 46),\n",
       "             ('hear', 87),\n",
       "             ('owner', 5),\n",
       "             ('victimized', 17),\n",
       "             ('association', 6),\n",
       "             ('attorney', 1),\n",
       "             ('manager', 7),\n",
       "             ('say', 407),\n",
       "             ('goodbye', 5),\n",
       "             ('fam', 1),\n",
       "             ('theyre', 35),\n",
       "             ('cry', 96),\n",
       "             ('heartless', 26),\n",
       "             ('bitch', 25),\n",
       "             ('hey', 16),\n",
       "             ('spend', 56),\n",
       "             ('another', 144),\n",
       "             ('country', 58),\n",
       "             ('wont', 86),\n",
       "             ('lily', 3),\n",
       "             ('going', 550),\n",
       "             ('opportunity', 50),\n",
       "             ('lasted', 3),\n",
       "             ('short', 41),\n",
       "             ('month', 140),\n",
       "             ('alba', 1),\n",
       "             ('fitting', 7),\n",
       "             ('again', 355),\n",
       "             ('ton', 13),\n",
       "             ('catching', 9),\n",
       "             ('hard', 142),\n",
       "             ('obtain', 4),\n",
       "             ('high', 58),\n",
       "             ('technical', 1),\n",
       "             ('skill', 25),\n",
       "             ('wushu', 2),\n",
       "             ('ashamed', 86),\n",
       "             ('somehow', 73),\n",
       "             ('motivated', 15),\n",
       "             ('saw', 47),\n",
       "             ('kid', 128),\n",
       "             ('performance', 17),\n",
       "             ('whole', 145),\n",
       "             ('heartedly', 3),\n",
       "             ('despite', 40),\n",
       "             ('tiredness', 6),\n",
       "             ('getting', 230),\n",
       "             ('overwhelming', 14),\n",
       "             ('spritz', 2),\n",
       "             ('toner', 1),\n",
       "             ('calm', 74),\n",
       "             ('soothe', 3),\n",
       "             ('effort', 49),\n",
       "             ('required', 3),\n",
       "             ('better', 239),\n",
       "             ('themselves', 39),\n",
       "             ('whether', 70),\n",
       "             ('member', 31),\n",
       "             ('college', 34),\n",
       "             ('friend', 375),\n",
       "             ('neighbor', 6),\n",
       "             ('down', 300),\n",
       "             ('street', 27),\n",
       "             ('even', 645),\n",
       "             ('complete', 31),\n",
       "             ('stranger', 18),\n",
       "             ('soon', 70),\n",
       "             ('ve', 123),\n",
       "             ('ons', 2),\n",
       "             ('coronation', 1),\n",
       "             ('seriously', 40),\n",
       "             ('alright', 8),\n",
       "             ('class', 119),\n",
       "             ('combination', 11),\n",
       "             ('unsuccessful', 13),\n",
       "             ('stress', 36),\n",
       "             ('late', 39),\n",
       "             ('horrible', 87),\n",
       "             ('resulted', 3),\n",
       "             ('grappling', 2),\n",
       "             ('rarely', 14),\n",
       "             ('advance', 9),\n",
       "             ('any', 299),\n",
       "             ('cause', 77),\n",
       "             ('stick', 18),\n",
       "             ('rule', 15),\n",
       "             ('posting', 32),\n",
       "             ('online', 21),\n",
       "             ('wouldnt', 46),\n",
       "             ('prepared', 11),\n",
       "             ('somebody', 17),\n",
       "             ('face', 127),\n",
       "             ('useful', 68),\n",
       "             ('becoming', 22),\n",
       "             ('group', 53),\n",
       "             ('idea', 100),\n",
       "             ('ugly', 67),\n",
       "             ('inclined', 4),\n",
       "             ('wear', 69),\n",
       "             ('ratty', 2),\n",
       "             ('jean', 5),\n",
       "             ('sweatshirt', 3),\n",
       "             ('dress', 30),\n",
       "             ('pair', 19),\n",
       "             ('heel', 8),\n",
       "             ('house', 103),\n",
       "             ('boost', 8),\n",
       "             ('esteem', 5),\n",
       "             ('slightly', 104),\n",
       "             ('definitely', 58),\n",
       "             ('bother', 16),\n",
       "             ('buy', 55),\n",
       "             ('homesick', 70),\n",
       "             ('yet', 163),\n",
       "             ('dance', 26),\n",
       "             ('workout', 24),\n",
       "             ('fabulous', 49),\n",
       "             ('eye', 108),\n",
       "             ('touch', 49),\n",
       "             ('assuredly', 2),\n",
       "             ('return', 30),\n",
       "             ('shall', 17),\n",
       "             ('vain', 64),\n",
       "             ('until', 110),\n",
       "             ('friday', 25),\n",
       "             ('awful', 75),\n",
       "             ('cramp', 8),\n",
       "             ('honoured', 53),\n",
       "             ('call', 104),\n",
       "             ('brotherhood', 2),\n",
       "             ('begun', 12),\n",
       "             ('apprehensive', 63),\n",
       "             ('thick', 7),\n",
       "             ('black', 32),\n",
       "             ('rain', 20),\n",
       "             ('cloud', 10),\n",
       "             ('stormed', 2),\n",
       "             ('sky', 21),\n",
       "             ('above', 26),\n",
       "             ('town', 20),\n",
       "             ('stated', 4),\n",
       "             ('reason', 143),\n",
       "             ('fearful', 55),\n",
       "             ('unsafe', 4),\n",
       "             ('shaken', 67),\n",
       "             ('tsa', 2),\n",
       "             ('quite', 266),\n",
       "             ('pulled', 16),\n",
       "             ('croissant', 2),\n",
       "             ('lunch', 13),\n",
       "             ('awkward', 83),\n",
       "             ('overcompensate', 1),\n",
       "             ('talkative', 2),\n",
       "             ('finally', 90),\n",
       "             ('companion', 8),\n",
       "             ('especially', 127),\n",
       "             ('lonely', 98),\n",
       "             ('disappoint', 4),\n",
       "             ('loved', 139),\n",
       "             ('blog', 173),\n",
       "             ('img', 33),\n",
       "             ('src', 40),\n",
       "             ('http', 223),\n",
       "             ('eager', 55),\n",
       "             ('quilting', 6),\n",
       "             ('horny', 52),\n",
       "             ('poem', 9),\n",
       "             ('doesn', 44),\n",
       "             ('pressure', 41),\n",
       "             ('uncomfortable', 78),\n",
       "             ('sense', 113),\n",
       "             ('understanding', 26),\n",
       "             ('land', 9),\n",
       "             ('raising', 9),\n",
       "             ('son', 43),\n",
       "             ('father', 43),\n",
       "             ('ancestral', 2),\n",
       "             ('shower', 16),\n",
       "             ('questioning', 10),\n",
       "             ('fantastic', 52),\n",
       "             ('confident', 92),\n",
       "             ('movement', 15),\n",
       "             ('effortlessly', 1),\n",
       "             ('energetic', 59),\n",
       "             ('bouncy', 23),\n",
       "             ('gym', 17),\n",
       "             ('run', 100),\n",
       "             ('outside', 57),\n",
       "             ('take', 252),\n",
       "             ('pram', 1),\n",
       "             ('long', 186),\n",
       "             ('walk', 89),\n",
       "             ('often', 158),\n",
       "             ('three', 58),\n",
       "             ('strong', 103),\n",
       "             ('burst', 9),\n",
       "             ('tear', 45),\n",
       "             ('other', 381),\n",
       "             ('devastating', 4),\n",
       "             ('release', 16),\n",
       "             ('seemed', 24),\n",
       "             ('rich', 73),\n",
       "             ('through', 295),\n",
       "             ('space', 46),\n",
       "             ('dumping', 2),\n",
       "             ('pumpkin', 2),\n",
       "             ('spice', 5),\n",
       "             ('latte', 1),\n",
       "             ('last', 240),\n",
       "             ('coffee', 20),\n",
       "             ('maybe', 133),\n",
       "             ('badly', 24),\n",
       "             ('shes', 62),\n",
       "             ('hyperchondria', 1),\n",
       "             ('exaggeration', 1),\n",
       "             ('habit', 15),\n",
       "             ('openly', 4),\n",
       "             ('questioned', 4),\n",
       "             ('clench', 3),\n",
       "             ('assured', 63),\n",
       "             ('called', 56),\n",
       "             ('d', 59),\n",
       "             ('figured', 10),\n",
       "             ('right', 405),\n",
       "             ('name', 54),\n",
       "             ('utterly', 37),\n",
       "             ('affirmed', 2),\n",
       "             ('question', 68),\n",
       "             ('perhaps', 40),\n",
       "             ('office', 26),\n",
       "             ('nice', 69),\n",
       "             ('hair', 69),\n",
       "             ('rebellious', 51),\n",
       "             ('celebrates', 1),\n",
       "             ('eid', 2),\n",
       "             ('wash', 7),\n",
       "             ('generous', 103),\n",
       "             ('sleep', 117),\n",
       "             ('deprived', 49),\n",
       "             ('sleeping', 34),\n",
       "             ('night', 169),\n",
       "             ('giving', 72),\n",
       "             ('bloging', 1),\n",
       "             ('sitting', 69),\n",
       "             ('amp', 95),\n",
       "             ('cat', 22),\n",
       "             ('lucky', 79),\n",
       "             ('woke', 85),\n",
       "             ('sick', 66),\n",
       "             ('protect', 13),\n",
       "             ('against', 67),\n",
       "             ('witch', 2),\n",
       "             ('hunt', 4),\n",
       "             ('repressed', 22),\n",
       "             ('memory', 45),\n",
       "             ('therapy', 11),\n",
       "             ('disgusted', 59),\n",
       "             ('associated', 2),\n",
       "             ('race', 48),\n",
       "             ('nationality', 2),\n",
       "             ('laughed', 7),\n",
       "             ('bitterly', 2),\n",
       "             ('couldn', 30),\n",
       "             ('wished', 7),\n",
       "             ('knew', 76),\n",
       "             ('hated', 122),\n",
       "             ('forever', 23),\n",
       "             ('mellow', 58),\n",
       "             ('soft', 19),\n",
       "             ('easy', 43),\n",
       "             ('beginning', 46),\n",
       "             ('told', 105),\n",
       "             ('indecisive', 32),\n",
       "             ('doe', 136),\n",
       "             ('genre', 9),\n",
       "             ('disservice', 3),\n",
       "             ('resolved', 56),\n",
       "             ('artifically', 1),\n",
       "             ('artistic', 46),\n",
       "             ('manitz', 1),\n",
       "             ('draw', 17),\n",
       "             ('circle', 16),\n",
       "             ('dot', 3),\n",
       "             ('bigger', 13),\n",
       "             ('line', 46),\n",
       "             ('accent', 3),\n",
       "             ('mark', 27),\n",
       "             ('spanish', 4),\n",
       "             ('pissed', 64),\n",
       "             ('brazil', 2),\n",
       "             ('bus', 18),\n",
       "             ('steep', 3),\n",
       "             ('mountain', 12),\n",
       "             ('middle', 27),\n",
       "             ('big', 87),\n",
       "             ('storm', 10),\n",
       "             ('wondering', 34),\n",
       "             ('whimper', 1),\n",
       "             ('unloved', 46),\n",
       "             ('uncared', 1),\n",
       "             ('certainly', 34),\n",
       "             ...])"
      ]
     },
     "execution_count": 58,
     "metadata": {},
     "output_type": "execute_result"
    }
   ],
   "source": [
    "tokenizer.word_counts"
   ]
  },
  {
   "cell_type": "code",
   "execution_count": 59,
   "metadata": {},
   "outputs": [
    {
     "data": {
      "text/plain": [
       "17969"
      ]
     },
     "execution_count": 59,
     "metadata": {},
     "output_type": "execute_result"
    }
   ],
   "source": [
    "tokenizer.document_count"
   ]
  },
  {
   "cell_type": "code",
   "execution_count": 60,
   "metadata": {},
   "outputs": [
    {
     "data": {
      "text/plain": [
       "89"
      ]
     },
     "execution_count": 60,
     "metadata": {},
     "output_type": "execute_result"
    }
   ],
   "source": [
    "tokenizer.word_index['go']"
   ]
  },
  {
   "cell_type": "code",
   "execution_count": 61,
   "metadata": {},
   "outputs": [
    {
     "data": {
      "text/plain": [
       "[[2], [133], [3], [636]]"
      ]
     },
     "execution_count": 61,
     "metadata": {},
     "output_type": "execute_result"
    }
   ],
   "source": [
    "tokenizer.texts_to_sequences(X_train[0].split())"
   ]
  },
  {
   "cell_type": "code",
   "execution_count": 62,
   "metadata": {},
   "outputs": [
    {
     "data": {
      "text/plain": [
       "(4, 14448)"
      ]
     },
     "execution_count": 62,
     "metadata": {},
     "output_type": "execute_result"
    }
   ],
   "source": [
    "tokenizer.texts_to_matrix(X_train[0].split()).shape"
   ]
  },
  {
   "cell_type": "code",
   "execution_count": 63,
   "metadata": {},
   "outputs": [],
   "source": [
    "sequences_train = tokenizer.texts_to_sequences(X_train)\n",
    "sequences_test = tokenizer.texts_to_sequences(X_test)\n",
    "sequences_val = tokenizer.texts_to_sequences(X_val)"
   ]
  },
  {
   "cell_type": "code",
   "execution_count": 64,
   "metadata": {},
   "outputs": [
    {
     "data": {
      "text/plain": [
       "15969"
      ]
     },
     "execution_count": 64,
     "metadata": {},
     "output_type": "execute_result"
    }
   ],
   "source": [
    "len(sequences_train)"
   ]
  },
  {
   "cell_type": "code",
   "execution_count": 65,
   "metadata": {},
   "outputs": [
    {
     "data": {
      "text/plain": [
       "281"
      ]
     },
     "execution_count": 65,
     "metadata": {},
     "output_type": "execute_result"
    }
   ],
   "source": [
    "max_len = max([len(text) for text in df_train['Text']])\n",
    "max_len"
   ]
  },
  {
   "cell_type": "code",
   "execution_count": 66,
   "metadata": {},
   "outputs": [],
   "source": [
    "X_train = pad_sequences(sequences_train, maxlen=max_len, truncating='pre')\n",
    "X_test = pad_sequences(sequences_test, maxlen=max_len, truncating='pre')\n",
    "X_val = pad_sequences(sequences_val, maxlen=max_len, truncating='pre')"
   ]
  },
  {
   "cell_type": "code",
   "execution_count": 67,
   "metadata": {},
   "outputs": [
    {
     "name": "stdout",
     "output_type": "stream",
     "text": [
      "The vocab size is 14448\n"
     ]
    }
   ],
   "source": [
    "vocabSize = len(tokenizer.index_word) + 1\n",
    "print(f\"The vocab size is {vocabSize}\")"
   ]
  },
  {
   "cell_type": "code",
   "execution_count": 68,
   "metadata": {},
   "outputs": [],
   "source": [
    "path_to_glove_file = 'C:/Users/wille/Downloads/glove-global-vectors-for-word-representation/glove.6B.200d.txt'\n",
    "num_tokens = vocabSize\n",
    "embedding_dim = 200\n",
    "hits = 0\n",
    "misses = 0\n",
    "embedding_index = {}"
   ]
  },
  {
   "cell_type": "code",
   "execution_count": 69,
   "metadata": {},
   "outputs": [
    {
     "name": "stdout",
     "output_type": "stream",
     "text": [
      "Found 400000 word vectors\n",
      "Converted 13365 word vectors, missed 1082 words\n"
     ]
    }
   ],
   "source": [
    "with open(path_to_glove_file, encoding='utf-8') as f:\n",
    "    for line in f:\n",
    "        word, coefs = line.split(maxsplit=1)\n",
    "        coefs = np.fromstring(coefs, 'f', sep=' ')\n",
    "        embedding_index[word] = coefs\n",
    "\n",
    "print(f\"Found {len(embedding_index)} word vectors\")\n",
    "\n",
    "embedding_matrix = np.zeros((num_tokens, embedding_dim))\n",
    "\n",
    "for word, i in tokenizer.word_index.items():\n",
    "    embedding_vector = embedding_index.get(word)\n",
    "    \n",
    "    if embedding_vector is not None:\n",
    "        embedding_matrix[i] = embedding_vector\n",
    "        hits += 1\n",
    "    else:\n",
    "        misses += 1\n",
    "\n",
    "print(f\"Converted {hits} word vectors, missed {misses} words\")\n"
   ]
  },
  {
   "cell_type": "code",
   "execution_count": 70,
   "metadata": {},
   "outputs": [
    {
     "name": "stderr",
     "output_type": "stream",
     "text": [
      "C:\\Users\\wille\\anaconda3\\Lib\\site-packages\\keras\\src\\layers\\core\\embedding.py:90: UserWarning: Argument `input_length` is deprecated. Just remove it.\n",
      "  warnings.warn(\n"
     ]
    },
    {
     "data": {
      "text/html": [
       "<pre style=\"white-space:pre;overflow-x:auto;line-height:normal;font-family:Menlo,'DejaVu Sans Mono',consolas,'Courier New',monospace\"><span style=\"font-weight: bold\">Model: \"sequential\"</span>\n",
       "</pre>\n"
      ],
      "text/plain": [
       "\u001b[1mModel: \"sequential\"\u001b[0m\n"
      ]
     },
     "metadata": {},
     "output_type": "display_data"
    },
    {
     "data": {
      "text/html": [
       "<pre style=\"white-space:pre;overflow-x:auto;line-height:normal;font-family:Menlo,'DejaVu Sans Mono',consolas,'Courier New',monospace\">┏━━━━━━━━━━━━━━━━━━━━━━━━━━━━━━━━━━━━━━┳━━━━━━━━━━━━━━━━━━━━━━━━━━━━━┳━━━━━━━━━━━━━━━━━┓\n",
       "┃<span style=\"font-weight: bold\"> Layer (type)                         </span>┃<span style=\"font-weight: bold\"> Output Shape                </span>┃<span style=\"font-weight: bold\">         Param # </span>┃\n",
       "┡━━━━━━━━━━━━━━━━━━━━━━━━━━━━━━━━━━━━━━╇━━━━━━━━━━━━━━━━━━━━━━━━━━━━━╇━━━━━━━━━━━━━━━━━┩\n",
       "│ embedding (<span style=\"color: #0087ff; text-decoration-color: #0087ff\">Embedding</span>)                │ (<span style=\"color: #00d7ff; text-decoration-color: #00d7ff\">None</span>, <span style=\"color: #00af00; text-decoration-color: #00af00\">281</span>, <span style=\"color: #00af00; text-decoration-color: #00af00\">200</span>)            │       <span style=\"color: #00af00; text-decoration-color: #00af00\">2,889,600</span> │\n",
       "├──────────────────────────────────────┼─────────────────────────────┼─────────────────┤\n",
       "│ bidirectional (<span style=\"color: #0087ff; text-decoration-color: #0087ff\">Bidirectional</span>)        │ (<span style=\"color: #00d7ff; text-decoration-color: #00d7ff\">None</span>, <span style=\"color: #00af00; text-decoration-color: #00af00\">281</span>, <span style=\"color: #00af00; text-decoration-color: #00af00\">512</span>)            │         <span style=\"color: #00af00; text-decoration-color: #00af00\">935,936</span> │\n",
       "├──────────────────────────────────────┼─────────────────────────────┼─────────────────┤\n",
       "│ bidirectional_1 (<span style=\"color: #0087ff; text-decoration-color: #0087ff\">Bidirectional</span>)      │ (<span style=\"color: #00d7ff; text-decoration-color: #00d7ff\">None</span>, <span style=\"color: #00af00; text-decoration-color: #00af00\">281</span>, <span style=\"color: #00af00; text-decoration-color: #00af00\">256</span>)            │         <span style=\"color: #00af00; text-decoration-color: #00af00\">656,384</span> │\n",
       "├──────────────────────────────────────┼─────────────────────────────┼─────────────────┤\n",
       "│ bidirectional_2 (<span style=\"color: #0087ff; text-decoration-color: #0087ff\">Bidirectional</span>)      │ (<span style=\"color: #00d7ff; text-decoration-color: #00d7ff\">None</span>, <span style=\"color: #00af00; text-decoration-color: #00af00\">256</span>)                 │         <span style=\"color: #00af00; text-decoration-color: #00af00\">394,240</span> │\n",
       "├──────────────────────────────────────┼─────────────────────────────┼─────────────────┤\n",
       "│ dense (<span style=\"color: #0087ff; text-decoration-color: #0087ff\">Dense</span>)                        │ (<span style=\"color: #00d7ff; text-decoration-color: #00d7ff\">None</span>, <span style=\"color: #00af00; text-decoration-color: #00af00\">6</span>)                   │           <span style=\"color: #00af00; text-decoration-color: #00af00\">1,542</span> │\n",
       "└──────────────────────────────────────┴─────────────────────────────┴─────────────────┘\n",
       "</pre>\n"
      ],
      "text/plain": [
       "┏━━━━━━━━━━━━━━━━━━━━━━━━━━━━━━━━━━━━━━┳━━━━━━━━━━━━━━━━━━━━━━━━━━━━━┳━━━━━━━━━━━━━━━━━┓\n",
       "┃\u001b[1m \u001b[0m\u001b[1mLayer (type)                        \u001b[0m\u001b[1m \u001b[0m┃\u001b[1m \u001b[0m\u001b[1mOutput Shape               \u001b[0m\u001b[1m \u001b[0m┃\u001b[1m \u001b[0m\u001b[1m        Param #\u001b[0m\u001b[1m \u001b[0m┃\n",
       "┡━━━━━━━━━━━━━━━━━━━━━━━━━━━━━━━━━━━━━━╇━━━━━━━━━━━━━━━━━━━━━━━━━━━━━╇━━━━━━━━━━━━━━━━━┩\n",
       "│ embedding (\u001b[38;5;33mEmbedding\u001b[0m)                │ (\u001b[38;5;45mNone\u001b[0m, \u001b[38;5;34m281\u001b[0m, \u001b[38;5;34m200\u001b[0m)            │       \u001b[38;5;34m2,889,600\u001b[0m │\n",
       "├──────────────────────────────────────┼─────────────────────────────┼─────────────────┤\n",
       "│ bidirectional (\u001b[38;5;33mBidirectional\u001b[0m)        │ (\u001b[38;5;45mNone\u001b[0m, \u001b[38;5;34m281\u001b[0m, \u001b[38;5;34m512\u001b[0m)            │         \u001b[38;5;34m935,936\u001b[0m │\n",
       "├──────────────────────────────────────┼─────────────────────────────┼─────────────────┤\n",
       "│ bidirectional_1 (\u001b[38;5;33mBidirectional\u001b[0m)      │ (\u001b[38;5;45mNone\u001b[0m, \u001b[38;5;34m281\u001b[0m, \u001b[38;5;34m256\u001b[0m)            │         \u001b[38;5;34m656,384\u001b[0m │\n",
       "├──────────────────────────────────────┼─────────────────────────────┼─────────────────┤\n",
       "│ bidirectional_2 (\u001b[38;5;33mBidirectional\u001b[0m)      │ (\u001b[38;5;45mNone\u001b[0m, \u001b[38;5;34m256\u001b[0m)                 │         \u001b[38;5;34m394,240\u001b[0m │\n",
       "├──────────────────────────────────────┼─────────────────────────────┼─────────────────┤\n",
       "│ dense (\u001b[38;5;33mDense\u001b[0m)                        │ (\u001b[38;5;45mNone\u001b[0m, \u001b[38;5;34m6\u001b[0m)                   │           \u001b[38;5;34m1,542\u001b[0m │\n",
       "└──────────────────────────────────────┴─────────────────────────────┴─────────────────┘\n"
      ]
     },
     "metadata": {},
     "output_type": "display_data"
    },
    {
     "data": {
      "text/html": [
       "<pre style=\"white-space:pre;overflow-x:auto;line-height:normal;font-family:Menlo,'DejaVu Sans Mono',consolas,'Courier New',monospace\"><span style=\"font-weight: bold\"> Total params: </span><span style=\"color: #00af00; text-decoration-color: #00af00\">4,877,702</span> (18.61 MB)\n",
       "</pre>\n"
      ],
      "text/plain": [
       "\u001b[1m Total params: \u001b[0m\u001b[38;5;34m4,877,702\u001b[0m (18.61 MB)\n"
      ]
     },
     "metadata": {},
     "output_type": "display_data"
    },
    {
     "data": {
      "text/html": [
       "<pre style=\"white-space:pre;overflow-x:auto;line-height:normal;font-family:Menlo,'DejaVu Sans Mono',consolas,'Courier New',monospace\"><span style=\"font-weight: bold\"> Trainable params: </span><span style=\"color: #00af00; text-decoration-color: #00af00\">1,988,102</span> (7.58 MB)\n",
       "</pre>\n"
      ],
      "text/plain": [
       "\u001b[1m Trainable params: \u001b[0m\u001b[38;5;34m1,988,102\u001b[0m (7.58 MB)\n"
      ]
     },
     "metadata": {},
     "output_type": "display_data"
    },
    {
     "data": {
      "text/html": [
       "<pre style=\"white-space:pre;overflow-x:auto;line-height:normal;font-family:Menlo,'DejaVu Sans Mono',consolas,'Courier New',monospace\"><span style=\"font-weight: bold\"> Non-trainable params: </span><span style=\"color: #00af00; text-decoration-color: #00af00\">2,889,600</span> (11.02 MB)\n",
       "</pre>\n"
      ],
      "text/plain": [
       "\u001b[1m Non-trainable params: \u001b[0m\u001b[38;5;34m2,889,600\u001b[0m (11.02 MB)\n"
      ]
     },
     "metadata": {},
     "output_type": "display_data"
    }
   ],
   "source": [
    "adam = Adam(learning_rate=0.005)\n",
    "\n",
    "model = Sequential()\n",
    "model.add(Embedding(vocabSize, 200, input_length=X_train.shape[1], weights=[embedding_matrix], trainable=False))\n",
    "model.add(Bidirectional(LSTM(256, dropout=0.2,recurrent_dropout=0.2, return_sequences=True)))\n",
    "model.add(Bidirectional(LSTM(128, dropout=0.2,recurrent_dropout=0.2, return_sequences=True)))\n",
    "model.add(Bidirectional(LSTM(128, dropout=0.2,recurrent_dropout=0.2)))\n",
    "model.add(Dense(6, activation='softmax'))\n",
    "\n",
    "model.build(\n",
    "    input_shape=(None, X_train.shape[1])\n",
    ")\n",
    "model.compile(loss='categorical_crossentropy', optimizer=adam, metrics=['accuracy'])\n",
    "model.summary()"
   ]
  },
  {
   "cell_type": "code",
   "execution_count": 71,
   "metadata": {},
   "outputs": [
    {
     "name": "stdout",
     "output_type": "stream",
     "text": [
      "Requirement already satisfied: pydot in c:\\users\\wille\\anaconda3\\lib\\site-packages (3.0.2)\n",
      "Requirement already satisfied: pyparsing>=3.0.9 in c:\\users\\wille\\anaconda3\\lib\\site-packages (from pydot) (3.0.9)\n",
      "Requirement already satisfied: graphviz in c:\\users\\wille\\anaconda3\\lib\\site-packages (0.20.3)\n"
     ]
    },
    {
     "data": {
      "image/png": "[encoded data removed]",
      "text/plain": [
       "<IPython.core.display.Image object>"
      ]
     },
     "execution_count": 71,
     "metadata": {},
     "output_type": "execute_result"
    }
   ],
   "source": [
    "!pip install pydot\n",
    "!pip install graphviz\n",
    "\n",
    "from tensorflow.keras.utils import plot_model\n",
    "plot_model(model, show_shapes=True)"
   ]
  },
  {
   "cell_type": "code",
   "execution_count": 72,
   "metadata": {},
   "outputs": [],
   "source": [
    "callback = EarlyStopping(\n",
    "    monitor='val_loss',\n",
    "    patience=4,\n",
    "    restore_best_weights=True\n",
    ")"
   ]
  },
  {
   "cell_type": "code",
   "execution_count": 73,
   "metadata": {},
   "outputs": [
    {
     "name": "stdout",
     "output_type": "stream",
     "text": [
      "Fitting 3 folds for each of 8 candidates, totalling 24 fits\n",
      "Random Forest Results:\n",
      "              precision    recall  f1-score   support\n",
      "\n",
      "       anger       0.87      0.83      0.85       275\n",
      "        fear       0.89      0.76      0.82       224\n",
      "         joy       0.83      0.83      0.83       695\n",
      "        love       0.65      0.88      0.75       159\n",
      "     sadness       0.88      0.79      0.83       581\n",
      "    surprise       0.54      0.94      0.69        66\n",
      "\n",
      "    accuracy                           0.82      2000\n",
      "   macro avg       0.78      0.84      0.79      2000\n",
      "weighted avg       0.83      0.82      0.82      2000\n",
      "\n",
      "Random Forest Accuracy: 0.8180\n"
     ]
    },
    {
     "ename": "NameError",
     "evalue": "name 'conf_matrix_rf' is not defined",
     "output_type": "error",
     "traceback": [
      "\u001b[1;31m---------------------------------------------------------------------------\u001b[0m",
      "\u001b[1;31mNameError\u001b[0m                                 Traceback (most recent call last)",
      "Cell \u001b[1;32mIn[73], line 51\u001b[0m\n\u001b[0;32m     48\u001b[0m class_labels \u001b[38;5;241m=\u001b[39m df_train[\u001b[38;5;124m'\u001b[39m\u001b[38;5;124mEmotion\u001b[39m\u001b[38;5;124m'\u001b[39m]\u001b[38;5;241m.\u001b[39munique()\n\u001b[0;32m     50\u001b[0m \u001b[38;5;66;03m# Plot the confusion matrix\u001b[39;00m\n\u001b[1;32m---> 51\u001b[0m sns\u001b[38;5;241m.\u001b[39mheatmap(conf_matrix_rf, annot\u001b[38;5;241m=\u001b[39m\u001b[38;5;28;01mTrue\u001b[39;00m, fmt\u001b[38;5;241m=\u001b[39m\u001b[38;5;124m'\u001b[39m\u001b[38;5;124md\u001b[39m\u001b[38;5;124m'\u001b[39m, cmap\u001b[38;5;241m=\u001b[39m\u001b[38;5;124m'\u001b[39m\u001b[38;5;124mBlues\u001b[39m\u001b[38;5;124m'\u001b[39m, xticklabels\u001b[38;5;241m=\u001b[39mclass_labels, yticklabels\u001b[38;5;241m=\u001b[39mclass_labels)\n\u001b[0;32m     52\u001b[0m plt\u001b[38;5;241m.\u001b[39mtitle(\u001b[38;5;124m\"\u001b[39m\u001b[38;5;124mRandom Forest Confusion Matrix\u001b[39m\u001b[38;5;124m\"\u001b[39m)\n\u001b[0;32m     53\u001b[0m plt\u001b[38;5;241m.\u001b[39mshow()\n",
      "\u001b[1;31mNameError\u001b[0m: name 'conf_matrix_rf' is not defined"
     ]
    }
   ],
   "source": [
    "from sklearn.ensemble import RandomForestClassifier\n",
    "from sklearn.feature_extraction.text import TfidfVectorizer\n",
    "from sklearn.metrics import classification_report, confusion_matrix, accuracy_score\n",
    "from sklearn.model_selection import GridSearchCV\n",
    "import seaborn as sns\n",
    "import matplotlib.pyplot as plt\n",
    "\n",
    "# Step 1: Convert text to numerical features using TF-IDF\n",
    "tfidf = TfidfVectorizer(max_features=5000)  # Adjust feature size for dataset\n",
    "X_train_rf = tfidf.fit_transform(df_train['Text']).toarray()\n",
    "X_test_rf = tfidf.transform(df_test['Text']).toarray()\n",
    "\n",
    "# Step 2: Labels (already integer-encoded in your dataset)\n",
    "y_train_rf = df_train['Emotion'].values\n",
    "y_test_rf = df_test['Emotion'].values\n",
    "\n",
    "# Step 3: Define Random Forest with GridSearchCV\n",
    "param_grid = {\n",
    "    'n_estimators': [100, 200],\n",
    "    'max_depth': [10, 20],\n",
    "    'min_samples_split': [2, 5]\n",
    "}\n",
    "\n",
    "rf_model = GridSearchCV(\n",
    "    RandomForestClassifier(random_state=42, class_weight='balanced'),\n",
    "    param_grid,\n",
    "    cv=3,\n",
    "    verbose=1,\n",
    "    n_jobs=-1\n",
    ")\n",
    "\n",
    "# Train the model\n",
    "rf_model.fit(X_train_rf, y_train_rf)\n",
    "\n",
    "# Step 4: Evaluate the model\n",
    "rf_predictions = rf_model.predict(X_test_rf)\n",
    "\n",
    "# Classification Report\n",
    "print(\"Random Forest Results:\")\n",
    "print(classification_report(y_test_rf, rf_predictions))\n",
    "\n",
    "\n",
    "# Accuracy\n",
    "accuracy_rf = accuracy_score(y_test_rf, rf_predictions)\n",
    "print(f\"Random Forest Accuracy: {accuracy_rf:.4f}\")\n",
    "\n"
   ]
  },
  {
   "cell_type": "code",
   "execution_count": 74,
   "metadata": {},
   "outputs": [
    {
     "data": {
      "image/png": "[encoded data removed]",
      "text/plain": [
       "<Figure size 800x600 with 2 Axes>"
      ]
     },
     "metadata": {},
     "output_type": "display_data"
    }
   ],
   "source": [
    "# Calculate the confusion matrix\n",
    "conf_matrix_rf = confusion_matrix(y_test_rf, rf_predictions)\n",
    "\n",
    "# Plot the confusion matrix\n",
    "plt.figure(figsize=(8, 6))\n",
    "sns.heatmap(conf_matrix_rf, annot=True, fmt='d', cmap='Blues', xticklabels=class_labels, yticklabels=class_labels)\n",
    "plt.title(\"Random Forest Confusion Matrix\")\n",
    "plt.xlabel(\"Predicted Labels\")\n",
    "plt.ylabel(\"True Labels\")\n",
    "plt.show()\n"
   ]
  },
  {
   "cell_type": "code",
   "execution_count": 76,
   "metadata": {},
   "outputs": [
    {
     "name": "stdout",
     "output_type": "stream",
     "text": [
      "Decision Tree Classification Report:\n",
      "              precision    recall  f1-score   support\n",
      "\n",
      "       anger       0.86      0.86      0.86       275\n",
      "        fear       0.81      0.85      0.83       224\n",
      "         joy       0.86      0.84      0.85       695\n",
      "        love       0.69      0.75      0.72       159\n",
      "     sadness       0.89      0.83      0.86       581\n",
      "    surprise       0.59      0.82      0.69        66\n",
      "\n",
      "    accuracy                           0.83      2000\n",
      "   macro avg       0.78      0.83      0.80      2000\n",
      "weighted avg       0.84      0.83      0.84      2000\n",
      "\n",
      "Decision Tree Accuracy: 0.8340\n"
     ]
    },
    {
     "data": {
      "image/png": "[encoded data removed]",
      "text/plain": [
       "<Figure size 800x600 with 2 Axes>"
      ]
     },
     "metadata": {},
     "output_type": "display_data"
    }
   ],
   "source": [
    "from sklearn.tree import DecisionTreeClassifier\n",
    "from sklearn.metrics import accuracy_score, classification_report, confusion_matrix\n",
    "import seaborn as sns\n",
    "import matplotlib.pyplot as plt\n",
    "\n",
    "# Step 1: Define and train the Decision Tree model\n",
    "dt_model = DecisionTreeClassifier(random_state=42, class_weight='balanced')\n",
    "dt_model.fit(X_train_rf, y_train_rf)\n",
    "\n",
    "# Step 2: Predict and evaluate the model\n",
    "dt_predictions = dt_model.predict(X_test_rf)\n",
    "\n",
    "# Step 3: Print classification report and accuracy\n",
    "print(\"Decision Tree Classification Report:\")\n",
    "print(classification_report(y_test_rf, dt_predictions))\n",
    "\n",
    "# Accuracy\n",
    "dt_accuracy = accuracy_score(y_test_rf, dt_predictions)\n",
    "print(f\"Decision Tree Accuracy: {dt_accuracy:.4f}\")\n",
    "\n",
    "# Confusion Matrix for Decision Tree\n",
    "conf_matrix_dt = confusion_matrix(y_test_rf, dt_predictions)\n",
    "\n",
    "# Plotting the confusion matrix\n",
    "plt.figure(figsize=(8, 6))\n",
    "sns.heatmap(conf_matrix_dt, annot=True, fmt='d', cmap='Blues', xticklabels=class_labels, yticklabels=class_labels)\n",
    "plt.title(\"Decision Tree Confusion Matrix\")\n",
    "plt.show()\n"
   ]
  },
  {
   "cell_type": "code",
   "execution_count": 77,
   "metadata": {},
   "outputs": [
    {
     "name": "stdout",
     "output_type": "stream",
     "text": [
      "Epoch 1/5\n",
      "\u001b[1m63/63\u001b[0m \u001b[32m━━━━━━━━━━━━━━━━━━━━\u001b[0m\u001b[37m\u001b[0m \u001b[1m537s\u001b[0m 8s/step - accuracy: 0.3651 - loss: 1.5761 - val_accuracy: 0.5380 - val_loss: 1.2486\n",
      "Epoch 2/5\n",
      "\u001b[1m63/63\u001b[0m \u001b[32m━━━━━━━━━━━━━━━━━━━━\u001b[0m\u001b[37m\u001b[0m \u001b[1m533s\u001b[0m 8s/step - accuracy: 0.5514 - loss: 1.1870 - val_accuracy: 0.6456 - val_loss: 0.9015\n",
      "Epoch 3/5\n",
      "\u001b[1m63/63\u001b[0m \u001b[32m━━━━━━━━━━━━━━━━━━━━\u001b[0m\u001b[37m\u001b[0m \u001b[1m625s\u001b[0m 10s/step - accuracy: 0.7249 - loss: 0.7511 - val_accuracy: 0.8844 - val_loss: 0.3404\n",
      "Epoch 4/5\n",
      "\u001b[1m63/63\u001b[0m \u001b[32m━━━━━━━━━━━━━━━━━━━━\u001b[0m\u001b[37m\u001b[0m \u001b[1m595s\u001b[0m 9s/step - accuracy: 0.8812 - loss: 0.3402 - val_accuracy: 0.9154 - val_loss: 0.2166\n",
      "Epoch 5/5\n",
      "\u001b[1m63/63\u001b[0m \u001b[32m━━━━━━━━━━━━━━━━━━━━\u001b[0m\u001b[37m\u001b[0m \u001b[1m666s\u001b[0m 11s/step - accuracy: 0.9142 - loss: 0.2137 - val_accuracy: 0.9179 - val_loss: 0.1738\n"
     ]
    }
   ],
   "source": [
    "#Training LSTM model\n",
    "history = model.fit(\n",
    "    X_train, \n",
    "    y_train,\n",
    "    validation_data=(X_val, y_val),\n",
    "    verbose=True,\n",
    "    batch_size=256,\n",
    "    epochs=5,\n",
    "    callbacks=[callback]\n",
    ")"
   ]
  },
  {
   "cell_type": "code",
   "execution_count": 78,
   "metadata": {},
   "outputs": [
    {
     "name": "stdout",
     "output_type": "stream",
     "text": [
      "\u001b[1m63/63\u001b[0m \u001b[32m━━━━━━━━━━━━━━━━━━━━\u001b[0m\u001b[37m\u001b[0m \u001b[1m17s\u001b[0m 276ms/step - accuracy: 0.9170 - loss: 0.1643\n"
     ]
    },
    {
     "data": {
      "text/plain": [
       "[0.17383378744125366, 0.9179179072380066]"
      ]
     },
     "execution_count": 78,
     "metadata": {},
     "output_type": "execute_result"
    }
   ],
   "source": [
    "model.evaluate(X_val, y_val, verbose=1)"
   ]
  },
  {
   "cell_type": "code",
   "execution_count": 79,
   "metadata": {},
   "outputs": [
    {
     "name": "stdout",
     "output_type": "stream",
     "text": [
      "\u001b[1m63/63\u001b[0m \u001b[32m━━━━━━━━━━━━━━━━━━━━\u001b[0m\u001b[37m\u001b[0m \u001b[1m18s\u001b[0m 273ms/step\n",
      "              precision    recall  f1-score   support\n",
      "\n",
      "           0       0.93      0.93      0.93       275\n",
      "           1       0.85      0.94      0.89       224\n",
      "           2       0.96      0.90      0.93       695\n",
      "           3       0.77      0.87      0.81       159\n",
      "           4       0.96      0.97      0.96       581\n",
      "           5       0.81      0.71      0.76        66\n",
      "\n",
      "    accuracy                           0.92      2000\n",
      "   macro avg       0.88      0.89      0.88      2000\n",
      "weighted avg       0.92      0.92      0.92      2000\n",
      "\n"
     ]
    }
   ],
   "source": [
    "predicted = model.predict(X_test)\n",
    "y_pred = predicted.argmax(axis=-1)\n",
    "\n",
    "print(classification_report(le.transform(df_test['Emotion']), y_pred))"
   ]
  },
  {
   "cell_type": "code",
   "execution_count": 80,
   "metadata": {},
   "outputs": [
    {
     "data": {
      "image/png": "[encoded data removed]",
      "text/plain": [
       "<Figure size 640x480 with 1 Axes>"
      ]
     },
     "metadata": {},
     "output_type": "display_data"
    },
    {
     "data": {
      "image/png": "[encoded data removed]",
      "text/plain": [
       "<Figure size 640x480 with 1 Axes>"
      ]
     },
     "metadata": {},
     "output_type": "display_data"
    }
   ],
   "source": [
    "%matplotlib inline\n",
    "import matplotlib.pyplot as plt\n",
    "acc = history.history['accuracy']\n",
    "val_acc = history.history['val_accuracy']\n",
    "loss = history.history['loss']\n",
    "val_loss = history.history['val_loss']\n",
    "\n",
    "epochs = range(len(acc))\n",
    "\n",
    "plt.plot(epochs, acc, 'r', label='Training Accuracy')\n",
    "plt.plot(epochs, val_acc, 'b', label='Validation Accuracy')\n",
    "plt.title(\"Training and validation accuracy\")\n",
    "plt.legend()\n",
    "plt.figure()\n",
    "\n",
    "plt.plot(epochs, loss, 'r', label='Training loss')\n",
    "plt.plot(epochs, val_loss, 'b', label='Validation loss')\n",
    "plt.title('Training and validation loss')\n",
    "plt.legend()\n",
    "\n",
    "plt.show()"
   ]
  },
  {
   "cell_type": "code",
   "execution_count": 81,
   "metadata": {},
   "outputs": [
    {
     "name": "stdout",
     "output_type": "stream",
     "text": [
      "He's over the moon about being accepted to the university\n",
      "\u001b[1m1/1\u001b[0m \u001b[32m━━━━━━━━━━━━━━━━━━━━\u001b[0m\u001b[37m\u001b[0m \u001b[1m1s\u001b[0m 1s/step\n",
      "\u001b[1m1/1\u001b[0m \u001b[32m━━━━━━━━━━━━━━━━━━━━\u001b[0m\u001b[37m\u001b[0m \u001b[1m0s\u001b[0m 63ms/step\n",
      "joy : 0.7152152061462402\n",
      "Your point on this certain matter made me outrageous, how can you say so? This is insane.\n",
      "\u001b[1m1/1\u001b[0m \u001b[32m━━━━━━━━━━━━━━━━━━━━\u001b[0m\u001b[37m\u001b[0m \u001b[1m0s\u001b[0m 55ms/step\n",
      "\u001b[1m1/1\u001b[0m \u001b[32m━━━━━━━━━━━━━━━━━━━━\u001b[0m\u001b[37m\u001b[0m \u001b[1m0s\u001b[0m 61ms/step\n",
      "anger : 0.6503095626831055\n",
      "I can't do it, I'm not ready to lose anything, just leave me alone\n",
      "\u001b[1m1/1\u001b[0m \u001b[32m━━━━━━━━━━━━━━━━━━━━\u001b[0m\u001b[37m\u001b[0m \u001b[1m0s\u001b[0m 55ms/step\n",
      "\u001b[1m1/1\u001b[0m \u001b[32m━━━━━━━━━━━━━━━━━━━━\u001b[0m\u001b[37m\u001b[0m \u001b[1m0s\u001b[0m 60ms/step\n",
      "anger : 0.33804184198379517\n",
      "Merlin's beard harry, you can cast the Patronus charm! I'm amazed!\n",
      "\u001b[1m1/1\u001b[0m \u001b[32m━━━━━━━━━━━━━━━━━━━━\u001b[0m\u001b[37m\u001b[0m \u001b[1m0s\u001b[0m 54ms/step\n",
      "\u001b[1m1/1\u001b[0m \u001b[32m━━━━━━━━━━━━━━━━━━━━\u001b[0m\u001b[37m\u001b[0m \u001b[1m0s\u001b[0m 64ms/step\n",
      "surprise : 0.8819417357444763\n"
     ]
    }
   ],
   "source": [
    "sentences = [\n",
    "            \"He's over the moon about being accepted to the university\",\n",
    "            \"Your point on this certain matter made me outrageous, how can you say so? This is insane.\",\n",
    "            \"I can't do it, I'm not ready to lose anything, just leave me alone\",\n",
    "            \"Merlin's beard harry, you can cast the Patronus charm! I'm amazed!\"\n",
    "            ]\n",
    "\n",
    "for sentence in sentences:\n",
    "    print(sentence)\n",
    "    sentence = normalized_sentence(sentence)\n",
    "    sentence = tokenizer.texts_to_sequences([sentence])\n",
    "    sentence = pad_sequences(sentence, maxlen=229, truncating='pre')\n",
    "    result = le.inverse_transform(np.argmax(model.predict(sentence), axis=-1))[0]\n",
    "    proba = np.max(model.predict(sentence))\n",
    "    \n",
    "    print(f\"{result} : {proba}\")\n",
    "    "
   ]
  },
  {
   "cell_type": "code",
   "execution_count": 82,
   "metadata": {},
   "outputs": [],
   "source": [
    "model.save('Emotion Recognition From English text.keras')"
   ]
  },
  {
   "cell_type": "code",
   "execution_count": 83,
   "metadata": {},
   "outputs": [
    {
     "name": "stdout",
     "output_type": "stream",
     "text": [
      "\u001b[1m63/63\u001b[0m \u001b[32m━━━━━━━━━━━━━━━━━━━━\u001b[0m\u001b[37m\u001b[0m \u001b[1m21s\u001b[0m 336ms/step\n"
     ]
    },
    {
     "data": {
      "image/png": "[encoded data removed]",
      "text/plain": [
       "<Figure size 640x480 with 2 Axes>"
      ]
     },
     "metadata": {},
     "output_type": "display_data"
    }
   ],
   "source": [
    "from sklearn.metrics import confusion_matrix\n",
    "import seaborn as sns\n",
    "import matplotlib.pyplot as plt\n",
    "\n",
    "# Step 1: Get the predictions for the validation set\n",
    "lstm_predictions = np.argmax(model.predict(X_val), axis=-1)\n",
    "\n",
    "# Step 2: Get the true labels\n",
    "true_labels = np.argmax(y_val, axis=-1)\n",
    "\n",
    "# Step 3: Create the confusion matrix\n",
    "conf_matrix_lstm = confusion_matrix(true_labels, lstm_predictions)\n",
    "\n",
    "# Step 4: Get the class labels (emotions)\n",
    "class_labels = df_train['Emotion'].unique()\n",
    "\n",
    "# Step 5: Plot the confusion matrix\n",
    "sns.heatmap(conf_matrix_lstm, annot=True, fmt='d', cmap='Blues', xticklabels=class_labels, yticklabels=class_labels)\n",
    "plt.title(\"LSTM Confusion Matrix\")\n",
    "plt.show()\n"
   ]
  },
  {
   "cell_type": "code",
   "execution_count": 84,
   "metadata": {},
   "outputs": [
    {
     "name": "stdout",
     "output_type": "stream",
     "text": [
      "\u001b[1m63/63\u001b[0m \u001b[32m━━━━━━━━━━━━━━━━━━━━\u001b[0m\u001b[37m\u001b[0m \u001b[1m24s\u001b[0m 388ms/step\n",
      "Random Forest Accuracy: 0.8180\n",
      "LSTM Accuracy: 0.9179\n",
      "Decision Tree Accuracy: 0.8340\n"
     ]
    },
    {
     "data": {
      "image/png": "[encoded data removed]",
      "text/plain": [
       "<Figure size 1800x500 with 6 Axes>"
      ]
     },
     "metadata": {},
     "output_type": "display_data"
    }
   ],
   "source": [
    "from sklearn.tree import DecisionTreeClassifier\n",
    "from sklearn.metrics import accuracy_score, classification_report, confusion_matrix\n",
    "import seaborn as sns\n",
    "import matplotlib.pyplot as plt\n",
    "\n",
    "# Train the Decision Tree model\n",
    "dt_model = DecisionTreeClassifier(random_state=42, class_weight='balanced')\n",
    "dt_model.fit(X_train_rf, y_train_rf)\n",
    "\n",
    "# Decision Tree evaluation\n",
    "dt_predictions = dt_model.predict(X_test_rf)\n",
    "dt_accuracy = accuracy_score(y_test_rf, dt_predictions)\n",
    "\n",
    "# Random Forest evaluation (as previously provided)\n",
    "rf_predictions = rf_model.predict(X_test_rf)\n",
    "rf_accuracy = accuracy_score(y_test_rf, rf_predictions)\n",
    "\n",
    "# LSTM evaluation (already provided in your LSTM code)\n",
    "lstm_predictions = np.argmax(model.predict(X_val), axis=-1)\n",
    "true_labels = np.argmax(y_val, axis=-1)\n",
    "lstm_accuracy = accuracy_score(true_labels, lstm_predictions)\n",
    "\n",
    "# Printing comparison of accuracies\n",
    "print(f\"Random Forest Accuracy: {rf_accuracy:.4f}\")\n",
    "print(f\"LSTM Accuracy: {lstm_accuracy:.4f}\")\n",
    "print(f\"Decision Tree Accuracy: {dt_accuracy:.4f}\")\n",
    "\n",
    "# Plotting confusion matrices side by side\n",
    "fig, ax = plt.subplots(1, 3, figsize=(18, 5))\n",
    "\n",
    "# Random Forest Confusion Matrix\n",
    "conf_matrix_rf = confusion_matrix(y_test_rf, rf_predictions)\n",
    "sns.heatmap(conf_matrix_rf, annot=True, fmt='d', cmap='Blues', xticklabels=class_labels, yticklabels=class_labels, ax=ax[0])\n",
    "ax[0].set_title(\"Random Forest Confusion Matrix\")\n",
    "\n",
    "# LSTM Confusion Matrix\n",
    "conf_matrix_lstm = confusion_matrix(true_labels, lstm_predictions)\n",
    "sns.heatmap(conf_matrix_lstm, annot=True, fmt='d', cmap='Blues', xticklabels=class_labels, yticklabels=class_labels, ax=ax[1])\n",
    "ax[1].set_title(\"LSTM Confusion Matrix\")\n",
    "\n",
    "# Decision Tree Confusion Matrix\n",
    "conf_matrix_dt = confusion_matrix(y_test_rf, dt_predictions)\n",
    "sns.heatmap(conf_matrix_dt, annot=True, fmt='d', cmap='Blues', xticklabels=class_labels, yticklabels=class_labels, ax=ax[2])\n",
    "ax[2].set_title(\"Decision Tree Confusion Matrix\")\n",
    "\n",
    "plt.show()\n"
   ]
  },
  {
   "cell_type": "code",
   "execution_count": 94,
   "metadata": {},
   "outputs": [
    {
     "data": {
      "text/html": [
       "<pre style=\"white-space:pre;overflow-x:auto;line-height:normal;font-family:Menlo,'DejaVu Sans Mono',consolas,'Courier New',monospace\"><span style=\"font-weight: bold\">Model: \"sequential\"</span>\n",
       "</pre>\n"
      ],
      "text/plain": [
       "\u001b[1mModel: \"sequential\"\u001b[0m\n"
      ]
     },
     "metadata": {},
     "output_type": "display_data"
    },
    {
     "data": {
      "text/html": [
       "<pre style=\"white-space:pre;overflow-x:auto;line-height:normal;font-family:Menlo,'DejaVu Sans Mono',consolas,'Courier New',monospace\">┏━━━━━━━━━━━━━━━━━━━━━━━━━━━━━━━━━━━━━━┳━━━━━━━━━━━━━━━━━━━━━━━━━━━━━┳━━━━━━━━━━━━━━━━━┓\n",
       "┃<span style=\"font-weight: bold\"> Layer (type)                         </span>┃<span style=\"font-weight: bold\"> Output Shape                </span>┃<span style=\"font-weight: bold\">         Param # </span>┃\n",
       "┡━━━━━━━━━━━━━━━━━━━━━━━━━━━━━━━━━━━━━━╇━━━━━━━━━━━━━━━━━━━━━━━━━━━━━╇━━━━━━━━━━━━━━━━━┩\n",
       "│ embedding (<span style=\"color: #0087ff; text-decoration-color: #0087ff\">Embedding</span>)                │ (<span style=\"color: #00d7ff; text-decoration-color: #00d7ff\">None</span>, <span style=\"color: #00af00; text-decoration-color: #00af00\">281</span>, <span style=\"color: #00af00; text-decoration-color: #00af00\">200</span>)            │       <span style=\"color: #00af00; text-decoration-color: #00af00\">2,889,600</span> │\n",
       "├──────────────────────────────────────┼─────────────────────────────┼─────────────────┤\n",
       "│ bidirectional (<span style=\"color: #0087ff; text-decoration-color: #0087ff\">Bidirectional</span>)        │ (<span style=\"color: #00d7ff; text-decoration-color: #00d7ff\">None</span>, <span style=\"color: #00af00; text-decoration-color: #00af00\">281</span>, <span style=\"color: #00af00; text-decoration-color: #00af00\">512</span>)            │         <span style=\"color: #00af00; text-decoration-color: #00af00\">935,936</span> │\n",
       "├──────────────────────────────────────┼─────────────────────────────┼─────────────────┤\n",
       "│ bidirectional_1 (<span style=\"color: #0087ff; text-decoration-color: #0087ff\">Bidirectional</span>)      │ (<span style=\"color: #00d7ff; text-decoration-color: #00d7ff\">None</span>, <span style=\"color: #00af00; text-decoration-color: #00af00\">281</span>, <span style=\"color: #00af00; text-decoration-color: #00af00\">256</span>)            │         <span style=\"color: #00af00; text-decoration-color: #00af00\">656,384</span> │\n",
       "├──────────────────────────────────────┼─────────────────────────────┼─────────────────┤\n",
       "│ bidirectional_2 (<span style=\"color: #0087ff; text-decoration-color: #0087ff\">Bidirectional</span>)      │ (<span style=\"color: #00d7ff; text-decoration-color: #00d7ff\">None</span>, <span style=\"color: #00af00; text-decoration-color: #00af00\">256</span>)                 │         <span style=\"color: #00af00; text-decoration-color: #00af00\">394,240</span> │\n",
       "├──────────────────────────────────────┼─────────────────────────────┼─────────────────┤\n",
       "│ dense (<span style=\"color: #0087ff; text-decoration-color: #0087ff\">Dense</span>)                        │ (<span style=\"color: #00d7ff; text-decoration-color: #00d7ff\">None</span>, <span style=\"color: #00af00; text-decoration-color: #00af00\">6</span>)                   │           <span style=\"color: #00af00; text-decoration-color: #00af00\">1,542</span> │\n",
       "└──────────────────────────────────────┴─────────────────────────────┴─────────────────┘\n",
       "</pre>\n"
      ],
      "text/plain": [
       "┏━━━━━━━━━━━━━━━━━━━━━━━━━━━━━━━━━━━━━━┳━━━━━━━━━━━━━━━━━━━━━━━━━━━━━┳━━━━━━━━━━━━━━━━━┓\n",
       "┃\u001b[1m \u001b[0m\u001b[1mLayer (type)                        \u001b[0m\u001b[1m \u001b[0m┃\u001b[1m \u001b[0m\u001b[1mOutput Shape               \u001b[0m\u001b[1m \u001b[0m┃\u001b[1m \u001b[0m\u001b[1m        Param #\u001b[0m\u001b[1m \u001b[0m┃\n",
       "┡━━━━━━━━━━━━━━━━━━━━━━━━━━━━━━━━━━━━━━╇━━━━━━━━━━━━━━━━━━━━━━━━━━━━━╇━━━━━━━━━━━━━━━━━┩\n",
       "│ embedding (\u001b[38;5;33mEmbedding\u001b[0m)                │ (\u001b[38;5;45mNone\u001b[0m, \u001b[38;5;34m281\u001b[0m, \u001b[38;5;34m200\u001b[0m)            │       \u001b[38;5;34m2,889,600\u001b[0m │\n",
       "├──────────────────────────────────────┼─────────────────────────────┼─────────────────┤\n",
       "│ bidirectional (\u001b[38;5;33mBidirectional\u001b[0m)        │ (\u001b[38;5;45mNone\u001b[0m, \u001b[38;5;34m281\u001b[0m, \u001b[38;5;34m512\u001b[0m)            │         \u001b[38;5;34m935,936\u001b[0m │\n",
       "├──────────────────────────────────────┼─────────────────────────────┼─────────────────┤\n",
       "│ bidirectional_1 (\u001b[38;5;33mBidirectional\u001b[0m)      │ (\u001b[38;5;45mNone\u001b[0m, \u001b[38;5;34m281\u001b[0m, \u001b[38;5;34m256\u001b[0m)            │         \u001b[38;5;34m656,384\u001b[0m │\n",
       "├──────────────────────────────────────┼─────────────────────────────┼─────────────────┤\n",
       "│ bidirectional_2 (\u001b[38;5;33mBidirectional\u001b[0m)      │ (\u001b[38;5;45mNone\u001b[0m, \u001b[38;5;34m256\u001b[0m)                 │         \u001b[38;5;34m394,240\u001b[0m │\n",
       "├──────────────────────────────────────┼─────────────────────────────┼─────────────────┤\n",
       "│ dense (\u001b[38;5;33mDense\u001b[0m)                        │ (\u001b[38;5;45mNone\u001b[0m, \u001b[38;5;34m6\u001b[0m)                   │           \u001b[38;5;34m1,542\u001b[0m │\n",
       "└──────────────────────────────────────┴─────────────────────────────┴─────────────────┘\n"
      ]
     },
     "metadata": {},
     "output_type": "display_data"
    },
    {
     "data": {
      "text/html": [
       "<pre style=\"white-space:pre;overflow-x:auto;line-height:normal;font-family:Menlo,'DejaVu Sans Mono',consolas,'Courier New',monospace\"><span style=\"font-weight: bold\"> Total params: </span><span style=\"color: #00af00; text-decoration-color: #00af00\">8,853,908</span> (33.77 MB)\n",
       "</pre>\n"
      ],
      "text/plain": [
       "\u001b[1m Total params: \u001b[0m\u001b[38;5;34m8,853,908\u001b[0m (33.77 MB)\n"
      ]
     },
     "metadata": {},
     "output_type": "display_data"
    },
    {
     "data": {
      "text/html": [
       "<pre style=\"white-space:pre;overflow-x:auto;line-height:normal;font-family:Menlo,'DejaVu Sans Mono',consolas,'Courier New',monospace\"><span style=\"font-weight: bold\"> Trainable params: </span><span style=\"color: #00af00; text-decoration-color: #00af00\">1,988,102</span> (7.58 MB)\n",
       "</pre>\n"
      ],
      "text/plain": [
       "\u001b[1m Trainable params: \u001b[0m\u001b[38;5;34m1,988,102\u001b[0m (7.58 MB)\n"
      ]
     },
     "metadata": {},
     "output_type": "display_data"
    },
    {
     "data": {
      "text/html": [
       "<pre style=\"white-space:pre;overflow-x:auto;line-height:normal;font-family:Menlo,'DejaVu Sans Mono',consolas,'Courier New',monospace\"><span style=\"font-weight: bold\"> Non-trainable params: </span><span style=\"color: #00af00; text-decoration-color: #00af00\">2,889,600</span> (11.02 MB)\n",
       "</pre>\n"
      ],
      "text/plain": [
       "\u001b[1m Non-trainable params: \u001b[0m\u001b[38;5;34m2,889,600\u001b[0m (11.02 MB)\n"
      ]
     },
     "metadata": {},
     "output_type": "display_data"
    },
    {
     "data": {
      "text/html": [
       "<pre style=\"white-space:pre;overflow-x:auto;line-height:normal;font-family:Menlo,'DejaVu Sans Mono',consolas,'Courier New',monospace\"><span style=\"font-weight: bold\"> Optimizer params: </span><span style=\"color: #00af00; text-decoration-color: #00af00\">3,976,206</span> (15.17 MB)\n",
       "</pre>\n"
      ],
      "text/plain": [
       "\u001b[1m Optimizer params: \u001b[0m\u001b[38;5;34m3,976,206\u001b[0m (15.17 MB)\n"
      ]
     },
     "metadata": {},
     "output_type": "display_data"
    },
    {
     "name": "stdout",
     "output_type": "stream",
     "text": [
      "Layer embedding weights:\n",
      "[array([[ 0.      ,  0.      ,  0.      , ...,  0.      ,  0.      ,\n",
      "         0.      ],\n",
      "       [ 0.      ,  0.      ,  0.      , ...,  0.      ,  0.      ,\n",
      "         0.      ],\n",
      "       [ 0.26805 ,  0.36032 , -0.332   , ...,  0.17769 ,  0.22362 ,\n",
      "         0.014241],\n",
      "       ...,\n",
      "       [-0.15036 , -0.31716 ,  0.20643 , ..., -0.1971  ,  0.8173  ,\n",
      "        -0.20433 ],\n",
      "       [ 0.      ,  0.      ,  0.      , ...,  0.      ,  0.      ,\n",
      "         0.      ],\n",
      "       [ 0.67415 , -0.56267 , -0.5558  , ..., -0.39893 , -0.23931 ,\n",
      "        -0.13783 ]], dtype=float32)]\n",
      "Layer bidirectional weights:\n",
      "[array([[-0.0033431 , -0.05203505,  0.01499467, ...,  0.20223708,\n",
      "         0.07181915,  0.03998874],\n",
      "       [-0.08018845, -0.14403582,  0.10817967, ..., -0.13783254,\n",
      "        -0.03160763,  0.02098793],\n",
      "       [ 0.12588051,  0.11564591,  0.32050985, ..., -0.1269448 ,\n",
      "         0.04286369,  0.04694968],\n",
      "       ...,\n",
      "       [-0.08856433, -0.03284648, -0.12290929, ..., -0.01677264,\n",
      "        -0.0542873 , -0.13919015],\n",
      "       [-0.0039497 ,  0.0088005 , -0.2137533 , ..., -0.01869299,\n",
      "         0.15314837, -0.1642823 ],\n",
      "       [-0.39827073,  0.1488748 ,  0.10149278, ...,  0.14156304,\n",
      "         0.11708236, -0.10908944]], dtype=float32), array([[-0.08734875,  0.10903976, -0.02693174, ...,  0.20124635,\n",
      "         0.04428577,  0.11435962],\n",
      "       [ 0.08649797,  0.06011745,  0.30170915, ...,  0.03726924,\n",
      "         0.04994275, -0.05948682],\n",
      "       [ 0.03258255,  0.04392444,  0.00435925, ..., -0.09888899,\n",
      "         0.01528428, -0.05433652],\n",
      "       ...,\n",
      "       [ 0.03098486, -0.0871781 , -0.01589666, ...,  0.04623798,\n",
      "        -0.11391751, -0.03622037],\n",
      "       [-0.02500455, -0.11179841, -0.04858389, ..., -0.01305055,\n",
      "        -0.04384125, -0.06655025],\n",
      "       [-0.00843863, -0.11333942,  0.10858058, ...,  0.03182206,\n",
      "        -0.0567122 , -0.1071858 ]], dtype=float32), array([-0.04691773, -0.16727993, -0.06185438, ...,  0.03924877,\n",
      "       -0.07290851, -0.05641035], dtype=float32), array([[-0.10232571, -0.11047889, -0.32398444, ..., -0.07903561,\n",
      "        -0.01483735,  0.00615102],\n",
      "       [-0.01284053, -0.23579517, -0.25147527, ...,  0.06410479,\n",
      "        -0.23306194, -0.10406735],\n",
      "       [-0.13295993,  0.4513621 ,  0.04121501, ...,  0.0843522 ,\n",
      "         0.0806677 , -0.09974025],\n",
      "       ...,\n",
      "       [-0.3332679 ,  0.17020214, -0.15793201, ...,  0.07532974,\n",
      "         0.11864397,  0.11846501],\n",
      "       [ 0.12681185, -0.09412061, -0.08340881, ..., -0.2332863 ,\n",
      "        -0.24466775, -0.23181513],\n",
      "       [-0.02637577, -0.12180781, -0.40034968, ..., -0.01707559,\n",
      "         0.05208839, -0.0511397 ]], dtype=float32), array([[-0.03026888,  0.040379  ,  0.06119004, ..., -0.04356627,\n",
      "         0.13319217,  0.01904128],\n",
      "       [ 0.08003384, -0.42110705, -0.14110032, ..., -0.02161342,\n",
      "        -0.0751604 ,  0.16083527],\n",
      "       [ 0.05148771, -0.00722138, -0.0566453 , ...,  0.12413711,\n",
      "        -0.03453498,  0.07139207],\n",
      "       ...,\n",
      "       [-0.0215451 ,  0.23600431, -0.08651994, ...,  0.02223399,\n",
      "        -0.00849143, -0.05812938],\n",
      "       [ 0.09340972,  0.0067347 ,  0.00508516, ...,  0.209935  ,\n",
      "         0.0011563 ,  0.08703977],\n",
      "       [ 0.04777701, -0.01901283,  0.14644147, ...,  0.15784281,\n",
      "         0.00135358,  0.00353949]], dtype=float32), array([-0.0247688 , -0.16441077, -0.05638136, ..., -0.05339665,\n",
      "       -0.06696837, -0.01946972], dtype=float32)]\n",
      "Layer bidirectional_1 weights:\n",
      "[array([[-0.03360955, -0.08070014,  0.231553  , ...,  0.13498066,\n",
      "         0.09066017,  0.02337123],\n",
      "       [-0.00598207,  0.05556023,  0.08023714, ...,  0.04087942,\n",
      "        -0.07036943, -0.03250755],\n",
      "       [ 0.13148037, -0.04074096,  0.30452207, ..., -0.06974469,\n",
      "         0.02835017, -0.01465383],\n",
      "       ...,\n",
      "       [ 0.03017272,  0.01294711, -0.01285637, ...,  0.13505977,\n",
      "         0.02284672,  0.08113463],\n",
      "       [ 0.15940452, -0.09638618, -0.33949488, ..., -0.28548622,\n",
      "         0.08012994,  0.08412083],\n",
      "       [ 0.09376071,  0.01654247, -0.00401725, ..., -0.06933207,\n",
      "         0.04592315,  0.01118945]], dtype=float32), array([[-0.03165094, -0.00633536,  0.01732495, ..., -0.03232364,\n",
      "        -0.09284046, -0.03781949],\n",
      "       [ 0.05230532,  0.04306083,  0.02946505, ..., -0.03898131,\n",
      "        -0.06769367,  0.01537828],\n",
      "       [ 0.1579041 ,  0.08491827,  0.05013448, ...,  0.10925715,\n",
      "        -0.04917997,  0.20575741],\n",
      "       ...,\n",
      "       [ 0.15084045,  0.13365947,  0.10655944, ..., -0.01277339,\n",
      "         0.04667193, -0.0071734 ],\n",
      "       [ 0.01035681, -0.01966864,  0.18436532, ..., -0.0737462 ,\n",
      "         0.08317579, -0.01850526],\n",
      "       [-0.12567416, -0.00585348, -0.13904011, ..., -0.03704167,\n",
      "        -0.03457261, -0.07118781]], dtype=float32), array([-1.22479871e-01, -6.82159439e-02, -3.41137111e-01, -2.53817886e-01,\n",
      "       -1.47005707e-01, -1.70786917e-01, -6.71490505e-02, -1.20888464e-01,\n",
      "       -1.55145720e-01, -1.61869302e-01, -6.29519895e-02, -9.76237208e-02,\n",
      "       -1.42130002e-01, -1.09697320e-01, -2.39262745e-01, -2.41714969e-01,\n",
      "       -1.10259363e-02, -1.80946887e-01, -8.34158510e-02, -1.25723794e-01,\n",
      "       -1.98453218e-01, -8.82227644e-02, -2.32341960e-02, -9.96487439e-02,\n",
      "       -1.38910457e-01, -1.28384903e-01, -2.14789852e-01, -1.85466051e-01,\n",
      "       -1.38227180e-01, -1.32521033e-01, -1.53266296e-01, -9.66738760e-02,\n",
      "       -1.27262905e-01, -8.32970813e-02, -1.16988249e-01, -6.90736920e-02,\n",
      "       -9.07621533e-02, -9.97434184e-02, -1.37898505e-01, -4.74254154e-02,\n",
      "       -1.54412866e-01, -1.32420480e-01,  1.02474019e-02, -9.51828063e-02,\n",
      "       -1.34661198e-01, -9.27253738e-02, -1.63184449e-01, -1.07652023e-01,\n",
      "       -2.34152824e-01, -1.85758397e-01, -1.48346975e-01, -2.31036246e-01,\n",
      "       -7.37499669e-02, -1.19391225e-01, -2.75573879e-02, -1.11676175e-02,\n",
      "       -1.51601166e-01, -1.22328445e-01, -1.59194440e-01, -1.30844474e-01,\n",
      "       -1.88486993e-01, -2.02942975e-02, -2.18246624e-01, -1.87141180e-01,\n",
      "       -3.81610282e-02, -1.03795528e-01, -8.64655674e-02, -6.34696931e-02,\n",
      "       -1.04244366e-01, -5.61928451e-02, -9.06430781e-02, -9.02309418e-02,\n",
      "       -1.26534447e-01, -5.25709018e-02, -1.59252360e-01, -1.40478760e-01,\n",
      "       -7.17172176e-02, -1.33686215e-01, -2.04868093e-01, -5.82715459e-02,\n",
      "       -9.42877904e-02, -1.88852564e-01, -1.60392284e-01, -1.01160154e-01,\n",
      "       -9.21914130e-02, -2.30267182e-01, -4.88194451e-02, -1.34933740e-01,\n",
      "       -1.76830679e-01, -6.33089021e-02, -1.04093410e-01, -4.10501994e-02,\n",
      "       -1.85112000e-01, -1.13100573e-01, -1.54527739e-01, -1.74504682e-01,\n",
      "       -4.95900773e-02, -1.35456651e-01, -1.89682409e-01, -2.59403825e-01,\n",
      "       -1.65414229e-01, -2.49714732e-01, -1.53432906e-01, -1.64073259e-01,\n",
      "       -2.42179200e-01, -2.57748187e-01, -6.55642897e-02, -7.41852447e-02,\n",
      "       -1.70152321e-01, -1.99042842e-01, -1.04077920e-01, -7.21980780e-02,\n",
      "       -1.41699970e-01, -5.68661056e-02, -1.38759017e-01, -1.72509670e-01,\n",
      "       -1.85173586e-01, -2.56382436e-01, -1.49603397e-01, -1.76854864e-01,\n",
      "       -6.04494400e-02, -8.45828131e-02, -9.18735415e-02, -2.50206053e-01,\n",
      "       -8.23283494e-02, -5.07648140e-02, -9.70815420e-02, -9.99539420e-02,\n",
      "        8.38611722e-01,  9.82044637e-01,  9.12336171e-01,  9.51540470e-01,\n",
      "        8.72338653e-01,  9.02620256e-01,  9.25347388e-01,  9.08798873e-01,\n",
      "        9.42646086e-01,  8.70653927e-01,  9.47699606e-01,  8.89455497e-01,\n",
      "        9.90236521e-01,  9.31677878e-01,  9.90770996e-01,  1.02785408e+00,\n",
      "        9.46488023e-01,  8.73872638e-01,  9.74559486e-01,  8.87623012e-01,\n",
      "        9.86916423e-01,  1.01181948e+00,  9.80837405e-01,  9.38395083e-01,\n",
      "        8.75898719e-01,  9.22391355e-01,  9.48333323e-01,  9.85586762e-01,\n",
      "        8.39938760e-01,  8.53277564e-01,  9.56844389e-01,  1.08374226e+00,\n",
      "        8.95642400e-01,  9.80025887e-01,  9.44626153e-01,  9.40924406e-01,\n",
      "        1.04909456e+00,  9.16102111e-01,  9.03393745e-01,  9.34770226e-01,\n",
      "        9.01563466e-01,  8.75379086e-01,  9.72671986e-01,  9.86422718e-01,\n",
      "        8.42514455e-01,  8.99551511e-01,  7.73893476e-01,  9.44330394e-01,\n",
      "        1.05321062e+00,  9.76653039e-01,  9.12143052e-01,  9.89208817e-01,\n",
      "        1.02167380e+00,  9.08286452e-01,  1.00949800e+00,  1.02920330e+00,\n",
      "        8.67033422e-01,  9.03507411e-01,  1.00475132e+00,  9.26599741e-01,\n",
      "        1.00630939e+00,  1.04207146e+00,  9.22556818e-01,  8.16531181e-01,\n",
      "        1.02092397e+00,  9.15085316e-01,  9.29284811e-01,  1.06219423e+00,\n",
      "        8.77645671e-01,  9.56326485e-01,  9.29910064e-01,  1.03944814e+00,\n",
      "        8.82263482e-01,  9.42947209e-01,  9.09941137e-01,  1.06017184e+00,\n",
      "        9.33166742e-01,  9.48427498e-01,  8.85129213e-01,  9.27911282e-01,\n",
      "        1.05662298e+00,  8.75125825e-01,  9.80916023e-01,  8.79020095e-01,\n",
      "        1.03658426e+00,  9.56685543e-01,  9.87377584e-01,  8.39850247e-01,\n",
      "        9.57787514e-01,  8.63278210e-01,  9.17427123e-01,  1.00132692e+00,\n",
      "        9.97443557e-01,  8.75200331e-01,  8.51905525e-01,  8.49095881e-01,\n",
      "        9.36061621e-01,  1.01465261e+00,  1.06111908e+00,  9.50974166e-01,\n",
      "        8.77680361e-01,  9.23607290e-01,  9.64012504e-01,  8.64989340e-01,\n",
      "        9.30413306e-01,  9.38329458e-01,  9.17613149e-01,  9.63197112e-01,\n",
      "        9.04648423e-01,  8.28294098e-01,  9.90659237e-01,  9.84820724e-01,\n",
      "        1.05793679e+00,  9.60543156e-01,  8.40861976e-01,  8.70489001e-01,\n",
      "        9.42077100e-01,  1.06041527e+00,  8.85256648e-01,  8.64910185e-01,\n",
      "        9.61516261e-01,  9.69999373e-01,  9.21741068e-01,  1.00025499e+00,\n",
      "        9.59281147e-01,  9.89901841e-01,  8.77334476e-01,  9.23784435e-01,\n",
      "        2.95349844e-02,  1.30698849e-02, -2.19630860e-02, -2.21388079e-02,\n",
      "        2.74838302e-02, -2.17288975e-02,  7.33455736e-03, -1.91683937e-02,\n",
      "        1.65122282e-02, -5.23023820e-03, -9.01737902e-03, -1.39417155e-02,\n",
      "       -4.53064963e-02, -1.40338866e-02,  1.71395727e-02,  5.52246626e-03,\n",
      "        3.63825727e-03, -1.28891701e-02,  6.46842644e-03, -1.29482010e-02,\n",
      "        1.47987911e-02,  2.96120485e-03, -2.07093414e-02,  1.51849855e-02,\n",
      "        3.19030955e-02,  1.14808725e-02, -8.72163940e-03,  2.48609316e-02,\n",
      "       -4.13399842e-03,  5.53315226e-03,  1.87350437e-02, -3.96861620e-02,\n",
      "       -1.51297841e-02,  3.30383331e-02,  8.30711331e-03,  4.34591770e-02,\n",
      "        6.85091391e-02,  5.43566374e-03,  3.47000286e-02, -6.51345868e-03,\n",
      "        9.26435401e-04, -1.30122136e-02,  6.04838552e-03, -1.74667388e-02,\n",
      "       -1.64365619e-02, -1.14587927e-02,  7.53405038e-03,  2.30774395e-02,\n",
      "        9.96416202e-04, -7.74871046e-03,  3.20356898e-02,  2.43698899e-03,\n",
      "        1.28246974e-02,  8.86574108e-03, -5.46286814e-02,  2.54414603e-03,\n",
      "        1.47935916e-02,  1.63084567e-02, -1.60169695e-02, -1.35639468e-02,\n",
      "        2.70455368e-02, -3.65622155e-02,  2.30306908e-02, -1.07694212e-02,\n",
      "        3.12558562e-02,  2.15705466e-02, -1.01588080e-02, -2.23809741e-02,\n",
      "        3.54249403e-02,  7.41318800e-03, -1.12075647e-02, -3.92970257e-02,\n",
      "        7.51555804e-03,  5.82196610e-03, -1.29538607e-02,  9.96519905e-03,\n",
      "       -3.84822078e-02,  4.73131565e-03, -3.97190712e-02, -2.92599406e-02,\n",
      "        6.04228768e-03, -1.54047227e-02,  3.76390904e-04, -3.57732526e-03,\n",
      "       -4.39596502e-03,  3.40068266e-02, -1.79825928e-02,  4.05742563e-02,\n",
      "       -8.18839669e-03, -2.90636085e-02, -2.79979054e-02, -1.71356630e-02,\n",
      "       -1.91076286e-02,  1.53470617e-02, -1.39842061e-02, -2.94385273e-02,\n",
      "       -1.38009805e-02, -2.70190611e-02, -6.99239643e-03, -4.06411327e-02,\n",
      "        1.74105763e-02, -3.28428037e-02,  5.96683426e-03,  1.09757120e-02,\n",
      "       -2.12107413e-02, -9.35455132e-03,  2.74477061e-02, -1.78324729e-02,\n",
      "        1.71237942e-02, -1.04914270e-02,  6.30940660e-04,  2.36433391e-02,\n",
      "       -9.36684571e-03,  2.30046082e-02,  3.49836461e-02,  2.87671555e-02,\n",
      "       -1.73650570e-02, -2.02420522e-02,  1.13570150e-02, -3.90456729e-02,\n",
      "       -2.50993986e-02, -2.06074826e-02,  1.58289839e-02, -1.52151883e-02,\n",
      "       -3.97226810e-02, -2.51249261e-02, -1.70009732e-02,  2.71043852e-02,\n",
      "       -1.33368239e-01, -5.98677285e-02, -1.53290546e-02, -2.37774160e-02,\n",
      "       -1.35265440e-01, -7.27595389e-02, -7.42547065e-02, -7.91974962e-02,\n",
      "        4.73751361e-03, -1.11962833e-01, -6.21492378e-02, -9.76332352e-02,\n",
      "       -8.55882987e-02, -5.70264012e-02, -3.99504695e-03,  1.14177436e-01,\n",
      "       -2.24622432e-02, -1.32799327e-01, -4.89583872e-02, -7.75396749e-02,\n",
      "        2.92266719e-02,  7.67516531e-03, -1.07637733e-01, -1.03524350e-01,\n",
      "       -1.21494181e-01, -7.26880133e-02, -1.08942568e-01,  1.59095764e-01,\n",
      "       -1.31686047e-01, -1.34430483e-01, -1.40655767e-02,  5.90489954e-02,\n",
      "       -8.86610523e-02, -5.00247367e-02, -7.11417496e-02, -1.38103021e-02,\n",
      "       -2.10742667e-01, -1.13928273e-01, -8.88440609e-02, -1.14138931e-01,\n",
      "       -9.44155529e-02, -1.11735627e-01, -5.29010855e-02, -1.17602304e-01,\n",
      "       -1.45106375e-01, -8.89543742e-02, -1.30119056e-01, -7.07949698e-02,\n",
      "        1.51998684e-01,  1.65413931e-01, -9.00511295e-02, -5.66448383e-02,\n",
      "       -2.49210671e-02, -6.06826618e-02, -4.40430343e-02, -1.09415129e-01,\n",
      "       -1.17745772e-01, -1.28129914e-01,  1.51325557e-02, -3.36182825e-02,\n",
      "        1.65843353e-01, -6.32511973e-02, -1.07658170e-01, -2.00880632e-01,\n",
      "       -5.12295067e-02, -3.40149701e-02, -7.91980922e-02,  1.30166039e-02,\n",
      "       -5.40919788e-02,  2.93155648e-02, -4.01000530e-02,  6.35006726e-02,\n",
      "       -1.30969629e-01, -1.20649882e-01, -1.58217847e-01, -7.89802298e-02,\n",
      "       -7.45124146e-02, -5.39145097e-02, -7.14063719e-02, -1.17152683e-01,\n",
      "       -3.55840586e-02, -9.28844586e-02, -2.43931655e-02, -4.04948853e-02,\n",
      "       -1.22192413e-01,  8.10682774e-02, -3.25842053e-02, -1.71479821e-01,\n",
      "       -3.01973373e-02, -1.66727692e-01, -7.42027387e-02, -2.40567755e-02,\n",
      "       -3.32656987e-02, -1.08679347e-01, -1.41337052e-01, -3.83505076e-02,\n",
      "       -2.46586986e-02, -3.81389447e-02,  6.95167109e-02, -2.31069978e-02,\n",
      "       -1.34512857e-01, -8.28317776e-02,  9.28186346e-05, -9.74432975e-02,\n",
      "       -9.09661651e-02, -5.05153686e-02, -1.16714537e-01, -4.49348651e-02,\n",
      "       -1.22443341e-01, -1.93206489e-01, -1.02147967e-01, -8.06302801e-02,\n",
      "        2.56019831e-02, -6.86643273e-02, -4.93722148e-02, -1.12035617e-01,\n",
      "        8.24071188e-03,  2.22154544e-04, -9.15330052e-02, -1.59638405e-01,\n",
      "       -4.02974114e-02, -1.37915015e-01, -8.55113491e-02,  1.42786458e-01,\n",
      "       -1.13981336e-01,  1.00427503e-02, -1.15436822e-01, -4.55049686e-02],\n",
      "      dtype=float32), array([[ 0.09406815,  0.10590728, -0.04400343, ..., -0.06237004,\n",
      "        -0.0055522 ,  0.04368117],\n",
      "       [-0.02923245,  0.12615727,  0.12479334, ...,  0.2064551 ,\n",
      "         0.08534014, -0.08767857],\n",
      "       [ 0.02258714,  0.00373031,  0.02387814, ..., -0.06837878,\n",
      "        -0.10628653, -0.06302302],\n",
      "       ...,\n",
      "       [ 0.10551761, -0.19321808, -0.10516699, ..., -0.21290387,\n",
      "        -0.1451401 ,  0.10241266],\n",
      "       [ 0.0412589 ,  0.17180793,  0.25852636, ...,  0.06293463,\n",
      "         0.19049522, -0.01079831],\n",
      "       [ 0.0904733 , -0.02134194, -0.26399586, ..., -0.26779252,\n",
      "         0.02628841,  0.10702542]], dtype=float32), array([[-0.05052836, -0.03109872,  0.06665613, ...,  0.00427915,\n",
      "         0.04739423,  0.01494719],\n",
      "       [ 0.05380408, -0.1003906 ,  0.01032336, ..., -0.08359803,\n",
      "        -0.00068589, -0.24179977],\n",
      "       [ 0.13575615,  0.10221298,  0.02647579, ...,  0.01586573,\n",
      "         0.04090721, -0.11881167],\n",
      "       ...,\n",
      "       [-0.04835124,  0.0222743 , -0.01788541, ...,  0.13622366,\n",
      "        -0.05222282,  0.08055903],\n",
      "       [ 0.25610545,  0.12110773, -0.01930015, ...,  0.13128689,\n",
      "         0.06469365,  0.3295754 ],\n",
      "       [ 0.05209022,  0.11570916,  0.10670853, ...,  0.06038799,\n",
      "         0.13796571,  0.06500946]], dtype=float32), array([-2.21951175e-02,  6.86440691e-02, -2.02699289e-01, -2.26829927e-02,\n",
      "       -2.15821434e-02, -1.51151448e-01, -1.13322541e-01,  1.36903031e-02,\n",
      "       -3.89885083e-02, -4.09195907e-02, -1.57129362e-01,  3.67954001e-02,\n",
      "       -7.70312995e-02, -1.43354863e-01, -8.23532492e-02, -1.21471070e-01,\n",
      "       -3.38605642e-02, -9.37988684e-02, -7.86088929e-02, -1.92869883e-02,\n",
      "       -8.59341770e-02, -6.77014440e-02, -3.60610969e-02, -3.30456607e-02,\n",
      "       -3.36485007e-03, -9.24863070e-02, -4.28356193e-02, -7.67236277e-02,\n",
      "       -6.06073514e-02, -4.29523028e-02, -7.97977522e-02, -1.00034267e-01,\n",
      "       -6.47304952e-02, -4.54257131e-02, -8.12242702e-02, -6.39491454e-02,\n",
      "       -1.64742604e-01, -2.65836976e-02, -9.01939049e-02, -5.92916571e-02,\n",
      "       -7.81024471e-02, -8.79877806e-02, -1.05229020e-01, -4.56488691e-02,\n",
      "       -2.00023457e-01, -6.91064522e-02, -1.27836898e-01, -3.89089920e-02,\n",
      "       -2.30219532e-02,  2.36525130e-03, -9.09586102e-02, -1.57134198e-02,\n",
      "       -3.18007395e-02, -8.49756524e-02, -1.07482493e-01, -9.59541351e-02,\n",
      "       -1.13057196e-01, -1.74268335e-01, -1.32513240e-01, -1.84328794e-01,\n",
      "       -7.63239041e-02, -1.32027268e-01, -1.53797597e-01, -1.54258758e-01,\n",
      "       -1.00964844e-01, -6.89161718e-02,  3.98592241e-02, -1.79072618e-01,\n",
      "       -4.12955843e-02, -1.43857360e-01, -3.61159220e-02, -7.13746697e-02,\n",
      "       -3.94144692e-02, -4.90184575e-02, -3.38538028e-02, -2.76811626e-02,\n",
      "       -1.85199022e-01, -1.24903962e-01, -5.79489656e-02, -5.87735437e-02,\n",
      "       -2.76634470e-02,  2.71019507e-02, -1.03490591e-01, -1.37232050e-01,\n",
      "       -8.14656392e-02, -6.50122017e-02, -1.20072454e-01, -1.25612140e-01,\n",
      "       -6.78293854e-02, -7.51973093e-02, -1.38121441e-01,  2.72426102e-02,\n",
      "       -1.07028484e-01,  5.28605469e-02, -9.49489400e-02, -1.50180027e-01,\n",
      "        2.05122959e-02, -1.38195962e-01, -1.14651300e-01, -8.49357843e-02,\n",
      "       -1.48821073e-02,  1.35096675e-03,  1.67969167e-02, -8.68655667e-02,\n",
      "       -5.64323068e-02, -1.27730504e-01, -1.17827430e-01, -1.50347069e-01,\n",
      "       -5.13988361e-02, -7.77583271e-02, -8.07862282e-02, -1.12999611e-01,\n",
      "       -1.83475345e-01, -1.14740975e-01, -3.22712362e-02, -8.57334435e-02,\n",
      "       -8.38876981e-03, -1.19065866e-01, -7.13896006e-03, -1.34142950e-01,\n",
      "       -5.37183471e-02, -4.44718339e-02, -1.13840111e-01, -3.89147736e-02,\n",
      "       -6.43558577e-02, -4.25471365e-02, -5.48906587e-02, -6.99513108e-02,\n",
      "        7.92187393e-01,  8.36083174e-01,  8.36844802e-01,  8.33069324e-01,\n",
      "        9.36295152e-01,  9.07398045e-01,  8.85532916e-01,  9.12573695e-01,\n",
      "        8.79719496e-01,  8.84808719e-01,  8.26356173e-01,  8.69698346e-01,\n",
      "        8.24011743e-01,  8.39296937e-01,  8.65888894e-01,  7.97554553e-01,\n",
      "        9.51663852e-01,  8.99799407e-01,  8.80722761e-01,  9.38454688e-01,\n",
      "        8.74486506e-01,  9.16674137e-01,  8.11333776e-01,  8.99683535e-01,\n",
      "        9.45455074e-01,  8.63004267e-01,  9.11234498e-01,  9.10190523e-01,\n",
      "        7.47319937e-01,  9.09808576e-01,  8.66128445e-01,  8.65014553e-01,\n",
      "        8.25137317e-01,  9.15987372e-01,  8.42571378e-01,  8.54052544e-01,\n",
      "        7.61870503e-01,  7.86940992e-01,  8.64552200e-01,  8.92056644e-01,\n",
      "        8.58807147e-01,  9.11417603e-01,  8.48848462e-01,  8.99645627e-01,\n",
      "        8.96122158e-01,  9.59553063e-01,  8.55138898e-01,  8.44213724e-01,\n",
      "        8.65670443e-01,  9.50701237e-01,  8.85513961e-01,  9.69565094e-01,\n",
      "        9.98727560e-01,  8.74982774e-01,  8.26852500e-01,  8.89991045e-01,\n",
      "        8.75321329e-01,  8.81339729e-01,  9.21682835e-01,  8.15562308e-01,\n",
      "        8.45175683e-01,  8.40863526e-01,  8.50360394e-01,  7.93414056e-01,\n",
      "        8.45315397e-01,  9.39373791e-01,  9.57312167e-01,  7.93153048e-01,\n",
      "        8.75344396e-01,  8.30343783e-01,  8.43499064e-01,  9.13017571e-01,\n",
      "        9.37545657e-01,  8.64166319e-01,  9.06656444e-01,  8.62708151e-01,\n",
      "        8.04293334e-01,  9.38988268e-01,  9.17786479e-01,  8.52610588e-01,\n",
      "        9.14672256e-01,  9.39572453e-01,  8.55577946e-01,  8.46898735e-01,\n",
      "        8.71955991e-01,  8.81390393e-01,  8.83841932e-01,  8.52483511e-01,\n",
      "        9.63514924e-01,  8.66005063e-01,  8.70927989e-01,  8.67855072e-01,\n",
      "        7.69436121e-01,  8.77045155e-01,  9.06863868e-01,  8.08908701e-01,\n",
      "        9.50198114e-01,  8.68084610e-01,  8.90245676e-01,  9.18579280e-01,\n",
      "        8.62822890e-01,  7.90488780e-01,  9.28788781e-01,  8.99468660e-01,\n",
      "        8.73665690e-01,  8.57241988e-01,  8.67146432e-01,  9.16726589e-01,\n",
      "        9.35022831e-01,  9.42674875e-01,  8.84288728e-01,  8.16896856e-01,\n",
      "        8.43065560e-01,  9.16993439e-01,  9.66044962e-01,  9.44197237e-01,\n",
      "        9.63781476e-01,  8.82701755e-01,  8.96756828e-01,  8.95209372e-01,\n",
      "        9.32610929e-01,  9.04495239e-01,  8.22428048e-01,  8.42629492e-01,\n",
      "        9.24414158e-01,  8.02511871e-01,  8.58848929e-01,  9.19839978e-01,\n",
      "       -1.82468724e-02, -7.90262222e-03,  1.53463231e-02, -2.82237232e-02,\n",
      "       -1.21776783e-03,  2.12367810e-02, -1.57490303e-03,  4.69991453e-02,\n",
      "       -2.94271540e-02,  1.53611915e-03,  6.77079335e-03,  2.52407510e-02,\n",
      "        2.35196445e-02, -1.40897417e-02,  2.07092408e-02,  8.50087497e-03,\n",
      "        1.83610059e-03,  1.26066739e-02, -1.48975069e-03,  3.12135811e-03,\n",
      "        1.50618833e-02,  5.92039479e-03,  3.19385454e-02, -9.21483617e-03,\n",
      "        2.59455740e-02,  1.15233269e-02, -1.27302855e-02,  7.34468317e-03,\n",
      "        5.65904006e-03, -1.95768382e-02,  8.56656954e-03, -5.73414937e-03,\n",
      "        3.15298624e-02,  3.16419546e-03,  2.73781605e-02, -2.23559793e-02,\n",
      "        1.52792234e-03, -2.09154319e-02, -1.51302172e-02, -2.97224224e-02,\n",
      "        1.17850699e-03,  2.92583220e-02,  2.80432007e-03,  5.47757857e-02,\n",
      "        9.19553172e-03, -2.06199270e-02,  9.02938657e-03, -2.66127884e-02,\n",
      "        1.98164210e-03, -2.29327660e-02, -1.12830130e-02, -1.64292995e-02,\n",
      "       -2.16466822e-02, -8.78165383e-03, -4.53330064e-03,  8.09788005e-04,\n",
      "        5.67738945e-03, -1.38891777e-02, -5.61505593e-02,  8.83347471e-04,\n",
      "       -3.93671636e-03,  2.15893295e-02,  2.57693976e-03, -1.44401286e-02,\n",
      "        1.65199582e-02, -2.66001709e-02, -8.25725496e-03,  3.18248495e-02,\n",
      "        3.03791706e-02, -2.28261692e-04,  2.49060057e-03, -1.07773151e-02,\n",
      "       -3.05935182e-02,  4.05285321e-03,  1.28854513e-02, -2.94951834e-02,\n",
      "       -2.68800892e-02,  2.38682441e-02,  1.98188494e-03,  3.13403644e-02,\n",
      "        2.61299070e-02,  1.75900292e-02, -2.66828127e-02,  9.89809539e-03,\n",
      "        1.15720946e-02,  5.06335385e-02, -2.12558452e-02, -8.03438248e-04,\n",
      "       -6.37739478e-03, -1.32210786e-02,  2.84383930e-02, -2.26810686e-02,\n",
      "       -1.08582515e-03, -3.86098027e-02,  5.52373119e-02,  1.37421414e-02,\n",
      "       -1.80946551e-02, -1.08987810e-02,  4.28330079e-02, -1.24748945e-02,\n",
      "       -2.88805049e-02, -3.83830117e-03, -2.99531594e-03,  4.24016602e-02,\n",
      "       -1.14722806e-03,  1.47999236e-02, -2.23953351e-02,  3.27615812e-02,\n",
      "        2.27330700e-02,  4.45404835e-03,  2.46008858e-02, -9.24305059e-03,\n",
      "       -1.93442195e-03, -2.87209097e-02,  1.38880322e-02, -8.07250198e-03,\n",
      "       -2.07560547e-02,  9.55954380e-03, -7.50682922e-03, -7.91872293e-03,\n",
      "        1.66932233e-02,  2.98253377e-03, -8.43040063e-04,  3.89411077e-02,\n",
      "        1.19660385e-02,  4.00543306e-03,  2.52379221e-03,  3.48218456e-02,\n",
      "       -1.02552501e-02,  1.87901463e-02, -1.51183471e-01,  4.62690229e-03,\n",
      "       -4.41348087e-03, -5.67181297e-02, -1.27782196e-01,  1.82708520e-02,\n",
      "       -2.63967738e-02, -3.48239625e-03, -1.57613873e-01,  1.41281895e-02,\n",
      "        1.59886815e-02, -1.15823165e-01, -7.93276355e-02, -1.34784281e-01,\n",
      "       -1.87287596e-03, -1.31637812e-01, -6.39303625e-02,  9.79942502e-04,\n",
      "       -1.01369619e-01, -5.65534756e-02, -1.94060802e-02, -4.43389155e-02,\n",
      "        7.22190589e-02, -7.59818107e-02, -8.61209724e-03, -8.57653618e-02,\n",
      "       -5.10470755e-02, -5.47152199e-03, -4.30697463e-02, -1.59719229e-01,\n",
      "       -1.42825227e-02, -2.59568375e-02, -6.45233691e-02, -3.56024429e-02,\n",
      "       -1.58485144e-01, -4.86726016e-02,  1.21385381e-02, -4.89894748e-02,\n",
      "       -4.20356616e-02, -9.34403166e-02, -1.13796636e-01,  2.99691278e-02,\n",
      "        5.98729448e-03,  7.10382387e-02, -8.75566900e-02, -3.41239274e-02,\n",
      "        7.23591819e-02, -1.96151156e-02, -1.07152186e-01, -6.23905100e-02,\n",
      "       -1.00920409e-01, -8.36263299e-02, -1.08801417e-01, -1.19709045e-01,\n",
      "       -1.12386659e-01, -2.73948442e-02,  9.56178084e-02, -1.59129441e-01,\n",
      "       -3.14309821e-02, -8.04325491e-02, -8.27124268e-02, -1.35528967e-01,\n",
      "       -9.94894877e-02, -6.75520748e-02,  8.55165441e-03, -1.20207310e-01,\n",
      "       -1.75365731e-02, -1.35911450e-01, -3.24225202e-02, -5.38516566e-02,\n",
      "       -2.32832804e-02, -4.64579612e-02, -1.28511079e-02, -3.29967625e-02,\n",
      "       -1.82431087e-01, -7.38142803e-02, -7.96227083e-02, -7.83452997e-04,\n",
      "       -5.39766997e-03,  9.21449214e-02, -1.57899074e-02, -1.12588316e-01,\n",
      "       -6.15582801e-02,  7.34875053e-02, -1.07573673e-01,  2.84244083e-02,\n",
      "       -6.69363365e-02, -1.16752496e-03, -4.88609634e-02,  3.73236015e-02,\n",
      "       -8.75116512e-02,  7.75278136e-02,  2.65459158e-03, -1.57389671e-01,\n",
      "        3.20057645e-02, -1.01929523e-01, -8.97398591e-02, -6.69949278e-02,\n",
      "        6.00861125e-02,  4.36476953e-02,  7.05445632e-02, -2.88519785e-02,\n",
      "       -7.50453621e-02, -8.29648897e-02, -7.55227059e-02, -4.72081117e-02,\n",
      "       -9.93798114e-03, -6.53511584e-02, -4.87788394e-02, -1.21578515e-01,\n",
      "       -1.15875646e-01,  1.16650194e-01, -3.88061851e-02, -6.17232062e-02,\n",
      "        9.15474165e-03, -1.22944489e-01, -2.38757883e-03, -1.03295863e-01,\n",
      "       -3.10296975e-02, -3.74994874e-02, -7.40012750e-02, -4.61668521e-02,\n",
      "        4.65286896e-02, -2.86344942e-02, -3.14280540e-02, -7.21772090e-02],\n",
      "      dtype=float32)]\n",
      "Layer bidirectional_2 weights:\n",
      "[array([[ 0.01483728, -0.10410167,  0.06943198, ...,  0.0874061 ,\n",
      "        -0.114891  ,  0.01423514],\n",
      "       [-0.00159333, -0.02728372, -0.12495135, ...,  0.03054178,\n",
      "         0.10854433,  0.06874155],\n",
      "       [ 0.04155054, -0.15433344, -0.0098174 , ..., -0.05362846,\n",
      "         0.10225852,  0.06619515],\n",
      "       ...,\n",
      "       [-0.05341457,  0.00094038,  0.13822909, ..., -0.03217899,\n",
      "        -0.18860437, -0.14830826],\n",
      "       [-0.03721032,  0.14469653,  0.10474345, ..., -0.04229018,\n",
      "        -0.12678371, -0.18428409],\n",
      "       [ 0.05595969,  0.07876563, -0.0493847 , ...,  0.01674244,\n",
      "        -0.05851079, -0.03691425]], dtype=float32), array([[ 0.07084291, -0.16308393,  0.02796376, ..., -0.00436433,\n",
      "        -0.02896827,  0.02746433],\n",
      "       [ 0.07558581, -0.04731238, -0.01065162, ..., -0.03058489,\n",
      "         0.04713122,  0.05093182],\n",
      "       [ 0.02233821, -0.06995898,  0.07235361, ..., -0.00960002,\n",
      "         0.08279509, -0.05807959],\n",
      "       ...,\n",
      "       [ 0.08819961, -0.03124552,  0.09142753, ..., -0.04257479,\n",
      "        -0.05854741,  0.05003079],\n",
      "       [-0.07010008, -0.02115018,  0.14178191, ...,  0.01041779,\n",
      "        -0.00051168, -0.12163927],\n",
      "       [ 0.02270938, -0.03925234, -0.13545512, ..., -0.03185399,\n",
      "        -0.00243524,  0.05276949]], dtype=float32), array([ 8.98025036e-02, -1.10108219e-01, -2.10363604e-02, -9.22179781e-03,\n",
      "       -3.28352069e-03, -4.59500216e-02, -5.30480333e-02, -8.82289484e-02,\n",
      "        3.20167169e-02, -3.87903787e-02,  4.60185893e-02, -4.95979637e-02,\n",
      "       -5.26188612e-02, -9.20458511e-02, -4.17009518e-02, -5.77154197e-02,\n",
      "        2.65162531e-03, -2.36016847e-02, -2.70865317e-02, -3.67886908e-02,\n",
      "       -4.02351618e-02, -4.28611860e-02, -5.27921095e-02,  5.22212358e-04,\n",
      "       -3.06167509e-02,  1.26208244e-02, -8.62581879e-02, -7.05050305e-02,\n",
      "       -3.04220729e-02,  3.43533233e-02,  1.26436958e-02, -3.87507528e-02,\n",
      "       -4.97039221e-02, -5.37867174e-02, -1.26243047e-02, -3.16733010e-02,\n",
      "       -8.67668912e-02, -3.52973817e-03, -2.21822858e-02, -8.91696438e-02,\n",
      "       -8.08039829e-02, -2.86523104e-02, -2.25658696e-02, -5.43195419e-02,\n",
      "        2.94383522e-02, -1.05089426e-01,  2.15090753e-04, -5.37814125e-02,\n",
      "       -3.85477692e-02, -3.03623285e-02,  5.25058247e-04, -8.92146751e-02,\n",
      "       -7.32458457e-02, -1.04857452e-01, -6.24814145e-02, -4.93497103e-02,\n",
      "       -2.73785628e-02, -1.19171612e-01, -7.07627460e-02, -1.03312824e-02,\n",
      "       -7.24547207e-02, -8.79769772e-02, -7.75846764e-02, -6.62584975e-02,\n",
      "       -8.34245533e-02, -5.92968538e-02, -1.84131004e-02, -5.91076575e-02,\n",
      "       -2.36791000e-02, -1.27662998e-02, -2.48063505e-02, -7.54931271e-02,\n",
      "       -2.99465880e-02,  5.30354073e-03, -4.17122543e-02, -7.84860179e-02,\n",
      "       -5.34550175e-02, -7.98509642e-02, -7.20485896e-02, -2.08989661e-02,\n",
      "       -9.73747745e-02, -4.94763777e-02, -7.80350268e-02, -7.04037324e-02,\n",
      "       -1.46271857e-02,  6.50816187e-02, -2.68825572e-02, -6.37054071e-02,\n",
      "       -5.53652644e-03, -3.34948674e-02,  2.25974340e-02, -6.96498156e-02,\n",
      "       -6.23508953e-02, -4.80404422e-02, -1.55850455e-01, -6.34496752e-03,\n",
      "        8.05518329e-02, -4.06106897e-02, -3.91476192e-02,  2.73169428e-02,\n",
      "       -4.12365515e-03, -3.28375325e-02, -4.08768952e-02,  6.78616483e-03,\n",
      "       -6.01816364e-02, -1.39237046e-02, -1.02487229e-01, -2.58798245e-02,\n",
      "       -4.97903638e-02, -3.87980267e-02, -1.13877021e-02, -3.13777737e-02,\n",
      "        3.75034660e-02, -4.63869516e-03,  3.15461634e-03, -2.82074437e-02,\n",
      "       -1.34682164e-01, -3.92229818e-02, -1.38355931e-02,  5.51860854e-02,\n",
      "       -6.00505993e-02,  4.57914360e-02, -7.27740452e-02, -8.72333944e-02,\n",
      "       -3.55715491e-02, -3.07228677e-02, -3.97771709e-02, -8.82648528e-02,\n",
      "        1.11019671e+00,  9.10097361e-01,  9.81941938e-01,  9.85039949e-01,\n",
      "        1.00843871e+00,  9.55625892e-01,  9.50442731e-01,  1.00559759e+00,\n",
      "        1.02783704e+00,  9.73728001e-01,  1.01401114e+00,  9.94232833e-01,\n",
      "        9.53841507e-01,  9.72827435e-01,  9.41279113e-01,  9.47484672e-01,\n",
      "        9.83613908e-01,  1.00160217e+00,  9.42178130e-01,  1.07362616e+00,\n",
      "        9.47942257e-01,  1.01526821e+00,  9.17610765e-01,  1.02368641e+00,\n",
      "        9.84091938e-01,  1.00302100e+00,  8.55377972e-01,  9.56813335e-01,\n",
      "        9.59463656e-01,  9.98781443e-01,  9.38081264e-01,  9.64960694e-01,\n",
      "        9.06175733e-01,  9.38883066e-01,  9.06647921e-01,  9.55616653e-01,\n",
      "        9.21048403e-01,  9.44723487e-01,  9.98049974e-01,  9.94442105e-01,\n",
      "        9.47493315e-01,  9.31449592e-01,  9.13302004e-01,  9.16558325e-01,\n",
      "        1.01067328e+00,  9.54384506e-01,  9.94839728e-01,  9.15978849e-01,\n",
      "        9.38794374e-01,  9.63571668e-01,  9.81992126e-01,  8.68303418e-01,\n",
      "        9.74563539e-01,  8.55050325e-01,  9.54924762e-01,  1.02139544e+00,\n",
      "        9.41517591e-01,  9.16720271e-01,  9.74377811e-01,  1.01583314e+00,\n",
      "        9.71480846e-01,  8.92659605e-01,  8.93327236e-01,  9.10457373e-01,\n",
      "        9.93828237e-01,  9.76990521e-01,  9.87104237e-01,  9.49945748e-01,\n",
      "        9.72157478e-01,  9.92126703e-01,  9.67880607e-01,  9.19140637e-01,\n",
      "        1.00066936e+00,  9.70288515e-01,  9.37330365e-01,  9.01209593e-01,\n",
      "        8.71379375e-01,  9.93458986e-01,  9.23465967e-01,  9.34201777e-01,\n",
      "        8.29801679e-01,  9.84622002e-01,  9.20871556e-01,  9.09937918e-01,\n",
      "        8.96605670e-01,  1.08866715e+00,  9.73161936e-01,  9.62508142e-01,\n",
      "        1.02445638e+00,  9.20541584e-01,  8.65852356e-01,  9.66903150e-01,\n",
      "        9.03460205e-01,  9.09214616e-01,  9.36930716e-01,  9.59934413e-01,\n",
      "        9.59103048e-01,  9.70240474e-01,  9.65148091e-01,  1.00052464e+00,\n",
      "        9.47284400e-01,  8.77399504e-01,  9.91999447e-01,  9.73007739e-01,\n",
      "        1.01661301e+00,  9.71610665e-01,  9.39043522e-01,  9.27181125e-01,\n",
      "        9.77849245e-01,  8.48991871e-01,  9.51127410e-01,  9.28445280e-01,\n",
      "        9.93437171e-01,  9.46334362e-01,  9.52697635e-01,  8.89206946e-01,\n",
      "        7.69613504e-01,  9.10283029e-01,  1.02622962e+00,  9.68670845e-01,\n",
      "        8.81661057e-01,  1.06483912e+00,  9.91545558e-01,  8.76554370e-01,\n",
      "        1.02137136e+00,  1.02451909e+00,  1.01660049e+00,  9.36322808e-01,\n",
      "        5.30066602e-02,  3.55105964e-03,  7.97971338e-02,  5.54235801e-02,\n",
      "       -5.80251142e-02,  5.53260967e-02,  2.26970054e-02, -8.50977190e-03,\n",
      "       -7.72652030e-02, -5.55694178e-02,  7.94385970e-02, -1.12656131e-02,\n",
      "        5.10022007e-02,  4.05374169e-02, -1.23833716e-02,  2.56085880e-02,\n",
      "        3.83930057e-02, -4.04204391e-02,  1.92142893e-02,  5.16748335e-03,\n",
      "        6.03730008e-02,  3.30229737e-02,  1.12391198e-02,  7.29465634e-02,\n",
      "       -5.54468818e-02, -8.94859992e-03, -2.39319354e-02,  5.59628569e-03,\n",
      "       -2.86548045e-02,  6.30836785e-02,  4.30743471e-02,  6.13744445e-02,\n",
      "       -2.01813541e-02,  1.77767873e-03,  8.85552727e-03,  4.57881838e-02,\n",
      "       -1.31927272e-02,  7.65910000e-02,  7.71244764e-02,  1.93076134e-02,\n",
      "       -1.23261390e-02, -1.28115723e-02, -5.29205352e-02, -4.07538079e-02,\n",
      "       -4.71942127e-02, -4.97224648e-03,  6.45705760e-02,  7.30467513e-02,\n",
      "       -3.54908146e-02, -5.42337634e-02,  4.91946936e-02, -3.33184861e-02,\n",
      "       -5.35198674e-03, -1.03928503e-02,  5.58951572e-02, -1.07235461e-02,\n",
      "        2.73936186e-02,  1.26152681e-02,  4.16767299e-02,  1.06450533e-02,\n",
      "       -2.89841499e-02, -4.24115434e-02, -4.48207185e-02,  1.33334538e-02,\n",
      "        3.05087697e-02,  1.62900202e-02,  7.37433806e-02, -2.35337298e-02,\n",
      "        4.30973954e-02, -5.59848966e-03, -3.39761265e-02, -8.95571709e-02,\n",
      "        7.66730607e-02,  6.87862039e-02, -3.34762745e-02,  3.95740271e-02,\n",
      "        3.15345451e-02,  2.10016430e-03,  4.65171039e-02, -2.95281280e-02,\n",
      "        1.61539037e-02, -4.65029478e-02, -6.05410198e-03, -2.49854941e-02,\n",
      "       -6.73786476e-02, -8.41460750e-03, -1.65673364e-02,  1.56606808e-02,\n",
      "        2.24012043e-03,  1.77292489e-02,  9.25697293e-03,  3.68438512e-02,\n",
      "       -5.06540127e-02, -5.37545700e-03, -6.56438433e-03,  3.75075564e-02,\n",
      "       -2.88714785e-02,  5.94334379e-02, -3.38983499e-02, -5.98854572e-02,\n",
      "        3.94546725e-02, -2.47531906e-02, -2.98175272e-02,  3.54437493e-02,\n",
      "        2.35517528e-02, -3.75819355e-02, -5.06048910e-02,  2.33509839e-02,\n",
      "        5.92600815e-02,  4.31127660e-03, -4.03866954e-02,  4.48416844e-02,\n",
      "       -6.02992885e-02,  1.23466682e-02,  4.23855558e-02,  1.10666156e-02,\n",
      "        3.31551069e-03, -4.84369360e-02,  1.61006656e-02,  3.11000124e-02,\n",
      "       -3.38007696e-02, -1.08125031e-01, -6.76847063e-03,  2.89537404e-02,\n",
      "        3.36840078e-02,  3.93928327e-02, -2.66620368e-02, -4.35800664e-03,\n",
      "       -3.20753716e-02, -6.20803460e-02, -8.26051552e-03, -1.22752145e-03,\n",
      "       -9.40500293e-03, -5.63890338e-02, -5.97204156e-02, -5.49138486e-02,\n",
      "       -2.87489258e-02, -3.85964215e-02, -1.41956052e-02, -1.81650445e-02,\n",
      "       -4.13324945e-02, -3.26267704e-02, -3.14518698e-02,  1.85012538e-03,\n",
      "        3.47871818e-02, -1.04493676e-02, -1.08786291e-02,  9.86975655e-02,\n",
      "       -3.87349799e-02, -3.71855609e-02, -7.76427239e-02, -2.19150875e-02,\n",
      "       -1.32198939e-02,  1.90219143e-05, -1.06621362e-01, -5.50296195e-02,\n",
      "       -3.51280682e-02, -1.38095778e-03, -2.05424875e-02, -5.44461794e-02,\n",
      "       -4.94137546e-03, -5.04787415e-02,  1.15251672e-02, -1.27584403e-02,\n",
      "       -7.47116357e-02, -3.95546062e-03,  1.25555741e-02,  1.41972527e-02,\n",
      "       -2.34659258e-02, -4.76457849e-02, -4.03988361e-02, -5.91864064e-02,\n",
      "        6.50633685e-03, -6.57849312e-02, -1.07640754e-02, -3.51187512e-02,\n",
      "       -2.22370662e-02, -2.09857263e-02, -1.53417895e-02, -8.75525773e-02,\n",
      "       -1.01755306e-01, -1.62648693e-01, -1.22960962e-01,  1.09975643e-01,\n",
      "       -1.77613851e-02, -4.77197357e-02,  1.20997382e-02,  5.52511476e-02,\n",
      "        8.26924667e-03, -2.06139637e-03, -1.41939148e-01, -6.11148179e-02,\n",
      "        4.59669791e-02, -1.93389207e-02, -2.73561589e-02, -1.15086585e-02,\n",
      "       -4.36609052e-02,  7.55604357e-02, -3.72645333e-02, -1.21264994e-01,\n",
      "       -1.82578992e-02, -3.40493619e-02, -3.93797792e-02, -7.46247545e-02,\n",
      "       -5.89449517e-02,  3.42500843e-02, -9.18030590e-02, -1.87701471e-02,\n",
      "       -2.17836313e-02,  2.38409266e-02, -7.26646483e-02, -7.68444613e-02,\n",
      "       -3.35746221e-02,  1.58647746e-02,  2.93278024e-02, -1.64472382e-03,\n",
      "        4.46391590e-02, -9.45850625e-04, -5.64632230e-02, -4.81888652e-02,\n",
      "       -9.20870528e-02, -5.20425066e-02,  7.50385551e-03, -3.59252095e-02,\n",
      "        8.12449958e-04, -3.00979801e-02, -3.23298685e-02, -4.54517035e-03,\n",
      "       -2.05985121e-02, -4.02713828e-02, -6.63163364e-02, -2.35807654e-02,\n",
      "        4.93957400e-02, -2.79172305e-02, -1.61828864e-02, -5.42487614e-02,\n",
      "       -3.25581394e-02, -5.22736795e-02, -4.92974743e-02, -5.04052229e-02,\n",
      "       -1.22143188e-02, -4.60943878e-02, -1.56339351e-02,  8.33873823e-03,\n",
      "       -1.11706987e-01, -8.65064561e-02,  3.78088355e-02,  3.49649750e-02,\n",
      "       -7.89754316e-02, -5.34973247e-03,  2.47340631e-02, -8.39546695e-02,\n",
      "       -4.60463427e-02, -2.18026899e-02,  5.30674905e-02, -2.64009070e-02],\n",
      "      dtype=float32), array([[ 1.1256707e-01,  7.0400476e-02, -8.7042607e-02, ...,\n",
      "         4.7498883e-04, -1.7342205e-03, -3.2849103e-02],\n",
      "       [-4.5994516e-02, -1.0461784e-01, -6.5395553e-03, ...,\n",
      "         2.7288357e-02,  2.8608739e-02, -7.2822921e-02],\n",
      "       [ 1.3046716e-01, -3.5080556e-02, -5.4724690e-02, ...,\n",
      "         8.7447256e-02, -8.5661858e-03,  9.7047828e-02],\n",
      "       ...,\n",
      "       [ 1.1357465e-01,  1.4612152e-02,  1.8280135e-02, ...,\n",
      "        -6.3886456e-02,  9.5238656e-02,  1.3179184e-01],\n",
      "       [ 8.6985119e-02, -4.2549074e-03,  6.5746464e-02, ...,\n",
      "         8.8266656e-02, -5.2918065e-02,  7.6836419e-05],\n",
      "       [ 2.9874623e-02, -1.2864020e-01, -1.0042041e-01, ...,\n",
      "         2.1713115e-02, -5.5257864e-02,  2.6411975e-02]], dtype=float32), array([[-0.02799099, -0.0336685 , -0.01010416, ..., -0.01729657,\n",
      "        -0.09515931, -0.05012196],\n",
      "       [-0.00196787,  0.0275491 ,  0.02704853, ..., -0.02080612,\n",
      "         0.07263826,  0.09897529],\n",
      "       [ 0.0988338 ,  0.0748577 ,  0.04250257, ...,  0.00215484,\n",
      "         0.08529872, -0.11035667],\n",
      "       ...,\n",
      "       [-0.10330333, -0.06821498, -0.0577037 , ..., -0.04759932,\n",
      "        -0.09566321,  0.02006538],\n",
      "       [-0.13995194, -0.04801427, -0.04346453, ..., -0.02616652,\n",
      "        -0.06557254, -0.06950026],\n",
      "       [ 0.02812584,  0.0111687 ,  0.0301288 , ...,  0.01303093,\n",
      "        -0.02435358, -0.04507957]], dtype=float32), array([-0.08645114, -0.09596819, -0.09257987, -0.14559038, -0.16466191,\n",
      "       -0.11159454, -0.13516396, -0.10315197, -0.10458686, -0.08695215,\n",
      "       -0.12905426, -0.10700139, -0.09009062, -0.10923833, -0.10818834,\n",
      "       -0.10072793, -0.13846901, -0.10106856, -0.09252292, -0.08265403,\n",
      "       -0.09626859, -0.07746866, -0.11642927, -0.11188623, -0.102534  ,\n",
      "       -0.12262494, -0.13008423, -0.11656743, -0.11301511, -0.08015202,\n",
      "       -0.13198183, -0.15651321, -0.15499812, -0.17325228, -0.14318344,\n",
      "       -0.19366537, -0.11731432, -0.10386643, -0.16281839, -0.15282208,\n",
      "       -0.13869281, -0.09980315, -0.18369526, -0.14014806, -0.12217156,\n",
      "       -0.05915616, -0.08094366, -0.06785265, -0.08342408, -0.10081904,\n",
      "       -0.14143948, -0.1349944 , -0.09990103, -0.09061761, -0.14733987,\n",
      "       -0.15434614, -0.11199437, -0.1332709 , -0.04867288, -0.09523124,\n",
      "       -0.15017794, -0.14538617, -0.13983178, -0.16699536, -0.15650965,\n",
      "       -0.10089721, -0.04825922, -0.13557841, -0.15308073, -0.10818262,\n",
      "       -0.10852963, -0.08404378, -0.11990199, -0.10233115, -0.08003098,\n",
      "       -0.20844088, -0.07845316, -0.13981555, -0.07972778, -0.10156096,\n",
      "       -0.12721723, -0.09254897, -0.16266647, -0.06928314, -0.12205647,\n",
      "       -0.14482357, -0.08192176, -0.14564008, -0.1391817 , -0.15947738,\n",
      "       -0.12394969, -0.13420758, -0.10663522, -0.13318552, -0.14168464,\n",
      "       -0.1361047 , -0.13564385, -0.09381269, -0.09420095, -0.09432108,\n",
      "       -0.08452508, -0.15342745, -0.11512908, -0.05831985, -0.07232676,\n",
      "       -0.18114056, -0.12541524, -0.1117044 , -0.10207354, -0.09661555,\n",
      "       -0.10920548, -0.14139985, -0.12239829, -0.15923202, -0.15279183,\n",
      "       -0.18322217, -0.11766168, -0.07875277, -0.10120539, -0.13024488,\n",
      "       -0.15259303, -0.12798391, -0.10864284, -0.13107452, -0.17567347,\n",
      "       -0.10273831, -0.07996038, -0.11961   ,  0.9172297 ,  0.89922446,\n",
      "        0.91088474,  0.8500347 ,  0.8455235 ,  0.8583145 ,  0.85421735,\n",
      "        0.8841869 ,  0.9109786 ,  0.9125399 ,  0.86879385,  0.8930908 ,\n",
      "        0.91200924,  0.8921331 ,  0.8936113 ,  0.8815937 ,  0.88288987,\n",
      "        0.894825  ,  0.89798796,  0.9037993 ,  0.8863585 ,  0.89572597,\n",
      "        0.89691746,  0.88676596,  0.90290123,  0.8623276 ,  0.8696833 ,\n",
      "        0.87096614,  0.85130966,  0.90342134,  0.880344  ,  0.8326688 ,\n",
      "        0.8520941 ,  0.85117024,  0.8645439 ,  0.81446064,  0.85892004,\n",
      "        0.90829086,  0.8399894 ,  0.8418975 ,  0.8756449 ,  0.8882193 ,\n",
      "        0.8113438 ,  0.8463888 ,  0.87392163,  0.9408799 ,  0.9240167 ,\n",
      "        0.9050295 ,  0.91239816,  0.8792775 ,  0.8622092 ,  0.8690369 ,\n",
      "        0.8970269 ,  0.8941005 ,  0.8608401 ,  0.8355769 ,  0.89458823,\n",
      "        0.8874166 ,  0.9512763 ,  0.9102256 ,  0.8800277 ,  0.8568599 ,\n",
      "        0.8745505 ,  0.83682877,  0.87646425,  0.89646554,  0.9529531 ,\n",
      "        0.86224085,  0.85439056,  0.8731849 ,  0.85810304,  0.91316843,\n",
      "        0.8505142 ,  0.89147854,  0.9209878 ,  0.83140635,  0.91512877,\n",
      "        0.8737695 ,  0.90581185,  0.90937924,  0.8658714 ,  0.89133465,\n",
      "        0.8258089 ,  0.933412  ,  0.87193304,  0.86606735,  0.9171158 ,\n",
      "        0.859046  ,  0.83675426,  0.85422885,  0.8844373 ,  0.8737317 ,\n",
      "        0.91391796,  0.8363718 ,  0.8233528 ,  0.8556795 ,  0.8571713 ,\n",
      "        0.8929264 ,  0.90685594,  0.8924711 ,  0.9110567 ,  0.8625969 ,\n",
      "        0.85699314,  0.932334  ,  0.92159176,  0.81388074,  0.86865604,\n",
      "        0.8780725 ,  0.8980363 ,  0.90360326,  0.8812015 ,  0.85276127,\n",
      "        0.86271226,  0.8388262 ,  0.84765965,  0.82571083,  0.89602685,\n",
      "        0.915344  ,  0.90109897,  0.8726194 ,  0.8460698 ,  0.87181574,\n",
      "        0.8840594 ,  0.86127573,  0.8322397 ,  0.8711529 ,  0.919159  ,\n",
      "        0.89834505, -0.03195883, -0.03215908, -0.02512624,  0.01459682,\n",
      "       -0.00391008, -0.02537632, -0.02374492,  0.03047556,  0.03984719,\n",
      "        0.02018627,  0.02655842, -0.0276098 , -0.01155564, -0.03609025,\n",
      "       -0.01729449, -0.02850373,  0.02859482,  0.02792829,  0.0169898 ,\n",
      "       -0.03533845,  0.01665753, -0.01879679,  0.02506296, -0.03832842,\n",
      "        0.00260228,  0.01709053, -0.02164477, -0.01353578, -0.01111847,\n",
      "       -0.0025808 ,  0.00381359,  0.00325369, -0.02485693, -0.03377847,\n",
      "        0.00108748, -0.04104372,  0.00365877,  0.04278004, -0.01530766,\n",
      "       -0.01588015, -0.00659541,  0.02626035, -0.02132998, -0.02724074,\n",
      "       -0.02780255,  0.01415971, -0.02644537, -0.02701981, -0.01547504,\n",
      "       -0.00584275,  0.02577762,  0.01764017, -0.01096728, -0.00169243,\n",
      "        0.01960186, -0.02922285,  0.02910494,  0.00239929,  0.02866573,\n",
      "        0.01474578, -0.00365055,  0.00296519,  0.00664759, -0.0264107 ,\n",
      "       -0.01962202,  0.03338437, -0.03011204,  0.03668178, -0.00500927,\n",
      "        0.01957887,  0.03731644, -0.04075344, -0.02390758,  0.04621664,\n",
      "       -0.04013841,  0.0281017 , -0.03478462, -0.0402643 , -0.0028973 ,\n",
      "        0.02598752, -0.02332404, -0.01552017, -0.00857574, -0.01784323,\n",
      "       -0.00285519, -0.0255566 ,  0.01346246, -0.02134111,  0.03229321,\n",
      "        0.01397684, -0.00210634,  0.01588139,  0.03035621, -0.0365567 ,\n",
      "       -0.00711239, -0.02110911, -0.04104958, -0.02629993, -0.01168843,\n",
      "        0.01484042, -0.04623531, -0.04015229,  0.00446825,  0.03178772,\n",
      "        0.00664691,  0.01833206,  0.01125532, -0.01059851,  0.03504337,\n",
      "        0.00192245,  0.02820187,  0.00680669, -0.02146014, -0.01640481,\n",
      "       -0.01934938,  0.03032278,  0.01449175,  0.00970542,  0.02597287,\n",
      "        0.04264241, -0.02838708, -0.01449071, -0.00440734,  0.01626768,\n",
      "        0.00862806,  0.01796048,  0.025535  , -0.02872395, -0.08888067,\n",
      "       -0.09163477, -0.09353478, -0.14436586, -0.15859036, -0.10535248,\n",
      "       -0.12997678, -0.11123151, -0.09275959, -0.08624528, -0.12315011,\n",
      "       -0.11090519, -0.08598303, -0.10544802, -0.1072296 , -0.09620889,\n",
      "       -0.13866715, -0.09132354, -0.09885702, -0.08114889, -0.09253357,\n",
      "       -0.07415245, -0.10574757, -0.1122538 , -0.10292219, -0.11954267,\n",
      "       -0.1283926 , -0.11181939, -0.108619  , -0.08194192, -0.130732  ,\n",
      "       -0.12209233, -0.1522626 , -0.15412049, -0.13807297, -0.1884681 ,\n",
      "       -0.11561607, -0.09877601, -0.15591879, -0.14338575, -0.13518094,\n",
      "       -0.09723182, -0.18057355, -0.12752733, -0.11660712, -0.05738125,\n",
      "       -0.07478205, -0.04910502, -0.08522642, -0.10108057, -0.13104649,\n",
      "       -0.13323396, -0.10159416, -0.09154455, -0.14714073, -0.15430039,\n",
      "       -0.10864057, -0.13194102, -0.04658893, -0.09165608, -0.13612166,\n",
      "       -0.1470256 , -0.13453129, -0.16406912, -0.05403035, -0.09674995,\n",
      "       -0.04896969, -0.13734804, -0.15107052, -0.10550142, -0.11479126,\n",
      "       -0.08187572, -0.10980287, -0.09888103, -0.0814508 , -0.20738128,\n",
      "       -0.06749509, -0.13631691, -0.07954267, -0.09979369, -0.12125726,\n",
      "       -0.09387446, -0.16226825, -0.06797299, -0.12194423, -0.14164127,\n",
      "       -0.08175004, -0.14801529, -0.14108932, -0.16097741, -0.12667763,\n",
      "       -0.13185745, -0.08544847, -0.13674721, -0.15237337, -0.13441485,\n",
      "       -0.13847531, -0.08911488, -0.08654174, -0.09464896, -0.07503588,\n",
      "       -0.146707  , -0.09951024, -0.05131451, -0.07324904, -0.17827713,\n",
      "       -0.12133986, -0.11048551, -0.09766407, -0.08501558, -0.10696245,\n",
      "       -0.13579239, -0.12251317, -0.16278824, -0.1511459 , -0.18073723,\n",
      "       -0.11304938, -0.07792309, -0.10159386, -0.11781469, -0.14845774,\n",
      "       -0.12977418, -0.10949919, -0.13136585, -0.17200789, -0.09739812,\n",
      "       -0.07966699, -0.11731084], dtype=float32)]\n",
      "Layer dense weights:\n",
      "[array([[ 0.00923455, -0.01766738,  0.1327753 , -0.03749004, -0.19380932,\n",
      "        -0.15511374],\n",
      "       [ 0.03784865, -0.04316845,  0.04075494, -0.12036147, -0.034731  ,\n",
      "         0.02694721],\n",
      "       [ 0.11008865, -0.16327192, -0.06144423, -0.1103754 ,  0.18200493,\n",
      "        -0.24886118],\n",
      "       ...,\n",
      "       [-0.0718812 , -0.04270159, -0.04778158, -0.05702446,  0.02624545,\n",
      "         0.04458201],\n",
      "       [-0.06721393, -0.04570916,  0.08114353,  0.0061225 ,  0.04069955,\n",
      "        -0.06862934],\n",
      "       [-0.04183878, -0.02115606, -0.05100403, -0.01176551, -0.09011304,\n",
      "         0.03326499]], dtype=float32), array([ 0.00168797,  0.0128033 ,  0.03111993, -0.07729064,  0.02475304,\n",
      "       -0.05710883], dtype=float32)]\n"
     ]
    }
   ],
   "source": [
    "from tensorflow.keras.models import load_model\n",
    "\n",
    "# Load the model\n",
    "model = load_model(\"Emotion Recognition From English text.keras\")\n",
    "\n",
    "# Summary of the model architecture only for LSTM\n",
    "model.summary()\n",
    "\n",
    "# Optionally, you can inspect the weights\n",
    "for layer in model.layers:\n",
    "    print(f\"Layer {layer.name} weights:\")\n",
    "    print(layer.get_weights())\n"
   ]
  },
  {
   "cell_type": "code",
   "execution_count": null,
   "metadata": {},
   "outputs": [],
   "source": []
  }
 ],
 "metadata": {
  "kaggle": {
   "accelerator": "none",
   "dataSources": [
    {
     "datasetId": 1835,
     "sourceId": 3176,
     "sourceType": "datasetVersion"
    },
    {
     "datasetId": 8542,
     "sourceId": 11957,
     "sourceType": "datasetVersion"
    },
    {
     "datasetId": 605165,
     "sourceId": 1085454,
     "sourceType": "datasetVersion"
    },
    {
     "datasetId": 1116138,
     "sourceId": 1874890,
     "sourceType": "datasetVersion"
    }
   ],
   "dockerImageVersionId": 30786,
   "isGpuEnabled": false,
   "isInternetEnabled": false,
   "language": "python",
   "sourceType": "notebook"
  },
  "kernelspec": {
   "display_name": "Python 3 (ipykernel)",
   "language": "python",
   "name": "python3"
  },
  "language_info": {
   "codemirror_mode": {
    "name": "ipython",
    "version": 3
   },
   "file_extension": ".py",
   "mimetype": "text/x-python",
   "name": "python",
   "nbconvert_exporter": "python",
   "pygments_lexer": "ipython3",
   "version": "3.12.4"
  }
 },
 "nbformat": 4,
 "nbformat_minor": 4
}
